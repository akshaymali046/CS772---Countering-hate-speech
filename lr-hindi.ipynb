{
 "cells": [
  {
   "cell_type": "code",
   "execution_count": 1,
   "metadata": {
    "tags": []
   },
   "outputs": [],
   "source": [
    "import csv\n",
    "all_hateoffensive_tweets=[]\n",
    "all_nonhate_tweets=[]\n",
    "with open('hindi_dataset.tsv', newline='', encoding=\"utf8\") as tsvfile:\n",
    "    reader = csv.reader(tsvfile, delimiter='\\t')\n",
    "    for row in reader:\n",
    "        if row[3] == \"HATE\" or row[3] == \"OFFN\":\n",
    "           all_hateoffensive_tweets.append(row[1])\n",
    "        else:\n",
    "           all_nonhate_tweets.append(row[1]) "
   ]
  },
  {
   "cell_type": "code",
   "execution_count": 2,
   "metadata": {
    "tags": []
   },
   "outputs": [],
   "source": [
    "from nltk.corpus import stopwords\n",
    "from nltk.stem import PorterStemmer\n",
    "from nltk.tokenize import TweetTokenizer\n",
    "import re\n",
    "import string\n",
    "from matplotlib.patches import Ellipse\n",
    "import matplotlib.transforms as transforms\n",
    "import numpy as np \n",
    "from collections import defaultdict\n",
    "words_dict = defaultdict(int)\n"
   ]
  },
  {
   "cell_type": "code",
   "execution_count": 3,
   "metadata": {
    "tags": []
   },
   "outputs": [],
   "source": [
    "from nltk.corpus import stopwords\n",
    "from nltk.stem import PorterStemmer\n",
    "from nltk.tokenize import TweetTokenizer\n",
    "import re\n",
    "import string\n",
    "from matplotlib.patches import Ellipse\n",
    "import matplotlib.transforms as transforms\n",
    "import numpy as np \n",
    "from collections import defaultdict\n",
    "words_dict = defaultdict(int)\n"
   ]
  },
  {
   "cell_type": "code",
   "execution_count": 4,
   "metadata": {
    "tags": []
   },
   "outputs": [],
   "source": [
    "stopwords=[]\n",
    "with open('hindi-stopwords.txt', 'r',encoding='UTF-8') as file:\n",
    "    file=file.readlines()\n",
    "    for line in file:\n",
    "        stopwords.append(line.strip())"
   ]
  },
  {
   "cell_type": "code",
   "execution_count": 5,
   "metadata": {
    "tags": []
   },
   "outputs": [],
   "source": [
    "def process_tweet(tweet):\n",
    "    '''\n",
    "    Input: \n",
    "        tweet: a string containing a tweet\n",
    "    Output:\n",
    "        tweets_clean: a list of words containing the processed tweet\n",
    "\n",
    "    '''\n",
    "    stemmer = PorterStemmer()\n",
    "    # remove stock market tickers like $GE\n",
    "    tweet = re.sub(r'\\$\\w*', '', tweet)\n",
    "    # remove old style retweet text \"RT\"\n",
    "    tweet = re.sub(r'^RT[\\s]+', '', tweet)\n",
    "    # remove hyperlinks\n",
    "    #tweet = re.sub(r'https?:\\/\\/.*[\\r\\n]*', '', tweet)\n",
    "    tweet = re.sub(r'https?://[^\\s\\n\\r]+', '', tweet)\n",
    "\n",
    "    # remove hashtags\n",
    "    # only removing the hash # sign from the word\n",
    "    tweet = re.sub(r'#', '', tweet)\n",
    "    # tokenize tweets\n",
    "    tokenizer = TweetTokenizer(preserve_case=False, strip_handles=True,\n",
    "                               reduce_len=True)\n",
    "    tweet_tokens = tokenizer.tokenize(tweet)\n",
    "\n",
    "    tweets_clean = []\n",
    "    for word in tweet_tokens:\n",
    "        if (word not in stopwords and  # remove stopwords\n",
    "            word not in string.punctuation) and word != '।' and word != \"...\":  # remove punctuation\n",
    "            # tweets_clean.append(word)\n",
    "            stem_word = word  # stemming word\n",
    "            tweets_clean.append(stem_word)\n",
    "\n",
    "    return tweets_clean"
   ]
  },
  {
   "cell_type": "code",
   "execution_count": 6,
   "metadata": {
    "tags": []
   },
   "outputs": [],
   "source": [
    "test_pos = all_nonhate_tweets[2800:]\n",
    "train_pos = all_nonhate_tweets[:2800]\n",
    "test_neg = all_hateoffensive_tweets[1000:]\n",
    "train_neg = all_hateoffensive_tweets[:1000]\n",
    "\n",
    "train_x = train_pos + train_neg\n",
    "test_x = test_pos + test_neg\n",
    "\n",
    "train_y = np.append(np.ones(len(train_pos)), np.zeros(len(train_neg)))\n",
    "test_y = np.append(np.ones(len(test_pos)), np.zeros(len(test_neg)))"
   ]
  },
  {
   "cell_type": "code",
   "execution_count": 7,
   "metadata": {
    "tags": []
   },
   "outputs": [
    {
     "name": "stdout",
     "output_type": "stream",
     "text": [
      "train_y.shape = (3800,)\n",
      "test_y.shape = (866,)\n"
     ]
    }
   ],
   "source": [
    "# Print the shape train and test sets\n",
    "print(\"train_y.shape = \" + str(train_y.shape))\n",
    "print(\"test_y.shape = \" + str(test_y.shape))"
   ]
  },
  {
   "cell_type": "code",
   "execution_count": 8,
   "metadata": {
    "tags": []
   },
   "outputs": [],
   "source": [
    "def build_freqs(tweets, ys):\n",
    "    \"\"\"Build frequencies.\n",
    "    Input:\n",
    "        tweets: a list of tweets\n",
    "        ys: an m x 1 array with the sentiment label of each tweet\n",
    "            (either 0 or 1)\n",
    "    Output:\n",
    "        freqs: a dictionary mapping each (word, sentiment) pair to its\n",
    "        frequency\n",
    "    \"\"\"\n",
    "    # Convert np array to list since zip needs an iterable.\n",
    "    # The squeeze is necessary or the list ends up with one element.\n",
    "    # Also note that this is just a NOP if ys is already a list.\n",
    "    yslist = np.squeeze(ys).tolist()\n",
    "\n",
    "    # Start with an empty dictionary and populate it by looping over all tweets\n",
    "    # and over all processed words in each tweet.\n",
    "    freqs = {}\n",
    "    for y, tweet in zip(yslist, tweets):\n",
    "        for word in process_tweet(tweet):\n",
    "            pair = (word, y)\n",
    "            if pair in freqs:\n",
    "                freqs[pair] += 1\n",
    "            else:\n",
    "                freqs[pair] = 1\n",
    "\n",
    "    return freqs"
   ]
  },
  {
   "cell_type": "markdown",
   "metadata": {},
   "source": [
    "* Create the frequency dictionary using the imported build_freqs function.  \n",
    "    * We highly recommend that you open utils.py and read the build_freqs function to understand what it is doing.\n",
    "    * To view the file directory, go to the menu and click File->Open.\n",
    "\n",
    "```Python\n",
    "    for y,tweet in zip(ys, tweets):\n",
    "        for word in process_tweet(tweet):\n",
    "            pair = (word, y)\n",
    "            if pair in freqs:\n",
    "                freqs[pair] += 1\n",
    "            else:\n",
    "                freqs[pair] = 1\n",
    "```\n",
    "* Notice how the outer for loop goes through each tweet, and the inner for loop steps through each word in a tweet.\n",
    "* The 'freqs' dictionary is the frequency dictionary that's being built. \n",
    "* The key is the tuple (word, label), such as (\"happy\",1) or (\"happy\",0).  The value stored for each key is the count of how many times the word \"happy\" was associated with a positive label, or how many times \"happy\" was associated with a negative label."
   ]
  },
  {
   "cell_type": "code",
   "execution_count": 9,
   "metadata": {
    "tags": []
   },
   "outputs": [
    {
     "name": "stdout",
     "output_type": "stream",
     "text": [
      "type(freqs) = <class 'dict'>\n",
      "len(freqs) = 20185\n"
     ]
    }
   ],
   "source": [
    "# create frequency dictionary\n",
    "freqs = build_freqs(train_x, train_y)\n",
    "\n",
    "# check the output\n",
    "print(\"type(freqs) = \" + str(type(freqs)))\n",
    "print(\"len(freqs) = \" + str(len(freqs.keys())))"
   ]
  },
  {
   "cell_type": "markdown",
   "metadata": {},
   "source": [
    "#### Expected output\n",
    "```\n",
    "type(freqs) = <class 'dict'>\n",
    "len(freqs) = 11436\n",
    "```"
   ]
  },
  {
   "cell_type": "markdown",
   "metadata": {},
   "source": [
    "### Process Tweet\n",
    "The given function 'process_tweet' tokenizes the tweet into individual words, removes stop words and applies stemming."
   ]
  },
  {
   "cell_type": "code",
   "execution_count": 10,
   "metadata": {
    "tags": []
   },
   "outputs": [
    {
     "name": "stdout",
     "output_type": "stream",
     "text": [
      "This is an example of a positive tweet: \n",
      " बांग्लादेश की शानदार वापसी, भारत को 314 रन पर रोका #INDvBAN #CWC19\n",
      "\n",
      "This is an example of the processed version of the tweet: \n",
      " ['बांग्लादेश', 'शानदार', 'वापसी', 'भारत', '314', 'रन', 'रोका', 'indvban', 'cwc', '19']\n"
     ]
    }
   ],
   "source": [
    "# test the function below\n",
    "print('This is an example of a positive tweet: \\n', train_x[1])\n",
    "print('\\nThis is an example of the processed version of the tweet: \\n', process_tweet(train_x[1]))"
   ]
  },
  {
   "cell_type": "markdown",
   "metadata": {},
   "source": [
    "<a name='1'></a>\n",
    "## 1 - Logistic Regression \n",
    "\n",
    "<a name='1-1'></a>\n",
    "### 1.1 - Sigmoid\n",
    "You will learn to use logistic regression for text classification. \n",
    "* The sigmoid function is defined as: \n",
    "\n",
    "$$ h(z) = \\frac{1}{1+\\exp^{-z}} \\tag{1}$$\n",
    "\n",
    "It maps the input 'z' to a value that ranges between 0 and 1, and so it can be treated as a probability. \n",
    "\n",
    "<div style=\"width:image width px; font-size:100%; text-align:center;\"><img src='./images/sigmoid_plot.jpg' alt=\"alternate text\" width=\"width\" height=\"height\" style=\"width:300px;height:200px;\" /> Figure 1 </div>"
   ]
  },
  {
   "cell_type": "markdown",
   "metadata": {},
   "source": [
    "<a name='ex-1'></a>\n",
    "### Exercise 1 -  sigmoid\n",
    "Implement the sigmoid function. \n",
    "* You will want this function to work if z is a scalar as well as if it is an array."
   ]
  },
  {
   "cell_type": "markdown",
   "metadata": {},
   "source": [
    "<details>    \n",
    "<summary>\n",
    "    <font size=\"3\" color=\"darkgreen\"><b>Hints</b></font>\n",
    "</summary>\n",
    "<p>\n",
    "<ul>\n",
    "    <li><a href=\"https://docs.scipy.org/doc/numpy/reference/generated/numpy.exp.html\" > numpy.exp </a> </li>\n",
    "\n",
    "</ul>\n",
    "</p>\n",
    "\n"
   ]
  },
  {
   "cell_type": "code",
   "execution_count": 11,
   "metadata": {
    "tags": []
   },
   "outputs": [],
   "source": [
    "# UNQ_C1 GRADED FUNCTION: sigmoid\n",
    "def sigmoid(z): \n",
    "    '''\n",
    "    Input:\n",
    "        z: is the input (can be a scalar or an array)\n",
    "    Output:\n",
    "        h: the sigmoid of z\n",
    "    '''\n",
    "    \n",
    "    ### START CODE HERE ###\n",
    "    # calculate the sigmoid of z\n",
    "    h = 1/(1+np.exp(-z))\n",
    "    ### END CODE HERE ###\n",
    "    \n",
    "    return h"
   ]
  },
  {
   "cell_type": "code",
   "execution_count": 12,
   "metadata": {
    "tags": []
   },
   "outputs": [
    {
     "name": "stdout",
     "output_type": "stream",
     "text": [
      "SUCCESS!\n",
      "CORRECT!\n"
     ]
    }
   ],
   "source": [
    "# Testing your function \n",
    "if (sigmoid(0) == 0.5):\n",
    "    print('SUCCESS!')\n",
    "else:\n",
    "    print('Oops!')\n",
    "\n",
    "if (sigmoid(4.92) == 0.9927537604041685):\n",
    "    print('CORRECT!')\n",
    "else:\n",
    "    print('Oops again!')"
   ]
  },
  {
   "cell_type": "markdown",
   "metadata": {},
   "source": [
    "#### Logistic Regression: Regression and a Sigmoid\n",
    "\n",
    "Logistic regression takes a regular linear regression, and applies a sigmoid to the output of the linear regression.\n",
    "\n",
    "Regression:\n",
    "$$z = \\theta_0 x_0 + \\theta_1 x_1 + \\theta_2 x_2 + ... \\theta_N x_N$$\n",
    "Note that the $\\theta$ values are \"weights\". If you took the deep learning specialization, we referred to the weights with the 'w' vector.  In this course, we're using a different variable $\\theta$ to refer to the weights.\n",
    "\n",
    "Logistic regression\n",
    "$$ h(z) = \\frac{1}{1+\\exp^{-z}}$$\n",
    "$$z = \\theta_0 x_0 + \\theta_1 x_1 + \\theta_2 x_2 + ... \\theta_N x_N$$\n",
    "We will refer to 'z' as the 'logits'."
   ]
  },
  {
   "cell_type": "markdown",
   "metadata": {},
   "source": [
    "<a name='1-2'></a>\n",
    "### 1.2 - Cost function and Gradient\n",
    "\n",
    "The cost function used for logistic regression is the average of the log loss across all training examples:\n",
    "\n",
    "$$J(\\theta) = -\\frac{1}{m} \\sum_{i=1}^m y^{(i)}\\log (h(z(\\theta)^{(i)})) + (1-y^{(i)})\\log (1-h(z(\\theta)^{(i)}))\\tag{5} $$\n",
    "* $m$ is the number of training examples\n",
    "* $y^{(i)}$ is the actual label of training example 'i'.\n",
    "* $h(z^{(i)})$ is the model's prediction for the training example 'i'.\n",
    "\n",
    "The loss function for a single training example is\n",
    "$$ Loss = -1 \\times \\left( y^{(i)}\\log (h(z(\\theta)^{(i)})) + (1-y^{(i)})\\log (1-h(z(\\theta)^{(i)})) \\right)$$\n",
    "\n",
    "* All the $h$ values are between 0 and 1, so the logs will be negative. That is the reason for the factor of -1 applied to the sum of the two loss terms.\n",
    "* Note that when the model predicts 1 ($h(z(\\theta)) = 1$) and the label 'y' is also 1, the loss for that training example is 0. \n",
    "* Similarly, when the model predicts 0 ($h(z(\\theta)) = 0$) and the actual label is also 0, the loss for that training example is 0. \n",
    "* However, when the model prediction is close to 1 ($h(z(\\theta)) = 0.9999$) and the label is 0, the second term of the log loss becomes a large negative number, which is then multiplied by the overall factor of -1 to convert it to a positive loss value. $-1 \\times (1 - 0) \\times log(1 - 0.9999) \\approx 9.2$ The closer the model prediction gets to 1, the larger the loss."
   ]
  },
  {
   "cell_type": "code",
   "execution_count": 13,
   "metadata": {
    "tags": []
   },
   "outputs": [
    {
     "data": {
      "text/plain": [
       "9.210340371976294"
      ]
     },
     "execution_count": 13,
     "metadata": {},
     "output_type": "execute_result"
    }
   ],
   "source": [
    "# verify that when the model predicts close to 1, but the actual label is 0, the loss is a large positive value\n",
    "-1 * (1 - 0) * np.log(1 - 0.9999) # loss is about 9.2"
   ]
  },
  {
   "cell_type": "markdown",
   "metadata": {},
   "source": [
    "* Likewise, if the model predicts close to 0 ($h(z) = 0.0001$) but the actual label is 1, the first term in the loss function becomes a large number: $-1 \\times log(0.0001) \\approx 9.2$.  The closer the prediction is to zero, the larger the loss."
   ]
  },
  {
   "cell_type": "code",
   "execution_count": 14,
   "metadata": {
    "tags": []
   },
   "outputs": [
    {
     "data": {
      "text/plain": [
       "9.210340371976182"
      ]
     },
     "execution_count": 14,
     "metadata": {},
     "output_type": "execute_result"
    }
   ],
   "source": [
    "# verify that when the model predicts close to 0 but the actual label is 1, the loss is a large positive value\n",
    "-1 * np.log(0.0001) # loss is about 9.2"
   ]
  },
  {
   "cell_type": "markdown",
   "metadata": {},
   "source": [
    "#### Update the weights\n",
    "\n",
    "To update your weight vector $\\theta$, you will apply gradient descent to iteratively improve your model's predictions.  \n",
    "The gradient of the cost function $J$ with respect to one of the weights $\\theta_j$ is:\n",
    "\n",
    "$$\\nabla_{\\theta_j}J(\\theta) = \\frac{1}{m} \\sum_{i=1}^m(h^{(i)}-y^{(i)})x^{(i)}_j \\tag{5}$$\n",
    "* 'i' is the index across all 'm' training examples.\n",
    "* 'j' is the index of the weight $\\theta_j$, so $x^{(i)}_j$ is the feature associated with weight $\\theta_j$\n",
    "\n",
    "* To update the weight $\\theta_j$, we adjust it by subtracting a fraction of the gradient determined by $\\alpha$:\n",
    "$$\\theta_j = \\theta_j - \\alpha \\times \\nabla_{\\theta_j}J(\\theta) $$\n",
    "* The learning rate $\\alpha$ is a value that we choose to control how big a single update will be.\n"
   ]
  },
  {
   "cell_type": "markdown",
   "metadata": {},
   "source": [
    "<a name='ex-2'></a>\n",
    "### Exercise 2 - gradientDescent\n",
    "Implement gradient descent function.\n",
    "* The number of iterations 'num_iters\" is the number of times that you'll use the entire training set.\n",
    "* For each iteration, you'll calculate the cost function using all training examples (there are 'm' training examples), and for all features.\n",
    "* Instead of updating a single weight $\\theta_i$ at a time, we can update all the weights in the column vector:  \n",
    "$$\\mathbf{\\theta} = \\begin{pmatrix}\n",
    "\\theta_0\n",
    "\\\\\n",
    "\\theta_1\n",
    "\\\\ \n",
    "\\theta_2 \n",
    "\\\\ \n",
    "\\vdots\n",
    "\\\\ \n",
    "\\theta_n\n",
    "\\end{pmatrix}$$\n",
    "* $\\mathbf{\\theta}$ has dimensions (n+1, 1), where 'n' is the number of features, and there is one more element for the bias term $\\theta_0$ (note that the corresponding feature value $\\mathbf{x_0}$ is 1).\n",
    "* The 'logits', 'z', are calculated by multiplying the feature matrix 'x' with the weight vector 'theta'.  $z = \\mathbf{x}\\mathbf{\\theta}$\n",
    "    * $\\mathbf{x}$ has dimensions (m, n+1) \n",
    "    * $\\mathbf{\\theta}$: has dimensions (n+1, 1)\n",
    "    * $\\mathbf{z}$: has dimensions (m, 1)\n",
    "* The prediction 'h', is calculated by applying the sigmoid to each element in 'z': $h(z) = sigmoid(z)$, and has dimensions (m,1).\n",
    "* The cost function $J$ is calculated by taking the dot product of the vectors 'y' and 'log(h)'.  Since both 'y' and 'h' are column vectors (m,1), transpose the vector to the left, so that matrix multiplication of a row vector with column vector performs the dot product.\n",
    "$$J = \\frac{-1}{m} \\times \\left(\\mathbf{y}^T \\cdot log(\\mathbf{h}) + \\mathbf{(1-y)}^T \\cdot log(\\mathbf{1-h}) \\right)$$\n",
    "* The update of theta is also vectorized.  Because the dimensions of $\\mathbf{x}$ are (m, n+1), and both $\\mathbf{h}$ and $\\mathbf{y}$ are (m, 1), we need to transpose the $\\mathbf{x}$ and place it on the left in order to perform matrix multiplication, which then yields the (n+1, 1) answer we need:\n",
    "$$\\mathbf{\\theta} = \\mathbf{\\theta} - \\frac{\\alpha}{m} \\times \\left( \\mathbf{x}^T \\cdot \\left( \\mathbf{h-y} \\right) \\right)$$"
   ]
  },
  {
   "cell_type": "code",
   "execution_count": 15,
   "metadata": {
    "tags": []
   },
   "outputs": [],
   "source": [
    "from tqdm import tqdm\n"
   ]
  },
  {
   "cell_type": "markdown",
   "metadata": {},
   "source": [
    "<details>    \n",
    "<summary>\n",
    "    <font size=\"3\" color=\"darkgreen\"><b>Hints</b></font>\n",
    "</summary>\n",
    "<p>\n",
    "<ul>\n",
    "    <li>use numpy.dot for matrix multiplication.</li>\n",
    "    <li>To ensure that the fraction -1/m is a decimal value, cast either the numerator or denominator (or both), like `float(1)`, or write `1.` for the float version of 1. </li>\n",
    "</ul>\n",
    "</p>\n",
    "\n"
   ]
  },
  {
   "cell_type": "code",
   "execution_count": 16,
   "metadata": {
    "tags": []
   },
   "outputs": [],
   "source": [
    "# UNQ_C2 GRADED FUNCTION: gradientDescent\n",
    "def gradientDescent(x, y, theta, alpha, num_iters):\n",
    "    '''\n",
    "    Input:\n",
    "        x: matrix of features which is (m,n+1)\n",
    "        y: corresponding labels of the input matrix x, dimensions (m,1)\n",
    "        theta: weight vector of dimension (n+1,1)\n",
    "        alpha: learning rate\n",
    "        num_iters: number of iterations you want to train your model for\n",
    "    Output:\n",
    "        J: the final cost\n",
    "        theta: your final weight vector\n",
    "    Hint: you might want to print the cost to make sure that it is going down.\n",
    "    '''\n",
    "    ### START CODE HERE ###\n",
    "    # get 'm', the number of rows in matrix x\n",
    "    m = x.shape[0]\n",
    "    loss=0\n",
    "    prevloss=7899\n",
    "    for i in tqdm(range(0, num_iters)):\n",
    "        \n",
    "        # get z, the dot product of x and theta\n",
    "        z = np.dot(x,theta)\n",
    "        \n",
    "        # get the sigmoid of z\n",
    "        h = sigmoid(z)\n",
    "        \n",
    "        # calculate the cost function\n",
    "        J = (np.dot((y.T),np.log(h))+np.dot((1-y).T,np.log(1-h)))*(-1)/m\n",
    "        loss=np.max(J)\n",
    "        if prevloss < loss:\n",
    "            break\n",
    "        # update the weights theta\n",
    "        ov=np.dot(x.T,(h-y))\n",
    "        theta = theta -ov*(alpha/m)\n",
    "    ### END CODE HERE ###\n",
    "    return float(loss), theta"
   ]
  },
  {
   "cell_type": "code",
   "execution_count": 17,
   "metadata": {
    "tags": []
   },
   "outputs": [
    {
     "name": "stderr",
     "output_type": "stream",
     "text": [
      "100%|█████████████████████████████████████████████████████████████████████████████| 700/700 [00:00<00:00, 32517.59it/s]"
     ]
    },
    {
     "name": "stdout",
     "output_type": "stream",
     "text": [
      "The cost after training is 0.67094970.\n",
      "The resulting vector of weights is [4.1e-07, 0.00035658, 7.309e-05]\n"
     ]
    },
    {
     "name": "stderr",
     "output_type": "stream",
     "text": [
      "\n"
     ]
    }
   ],
   "source": [
    "# Check the function\n",
    "# Construct a synthetic test case using numpy PRNG functions\n",
    "np.random.seed(1)\n",
    "# X input is 10 x 3 with ones for the bias terms\n",
    "tmp_X = np.append(np.ones((10, 1)), np.random.rand(10, 2) * 2000, axis=1)\n",
    "# Y Labels are 10 x 1\n",
    "tmp_Y = (np.random.rand(10, 1) > 0.35).astype(float)\n",
    "\n",
    "# Apply gradient descent\n",
    "tmp_J, tmp_theta = gradientDescent(tmp_X, tmp_Y, np.zeros((3, 1)), 1e-8, 700)\n",
    "print(f\"The cost after training is {tmp_J:.8f}.\")\n",
    "print(f\"The resulting vector of weights is {[round(t, 8) for t in np.squeeze(tmp_theta)]}\")"
   ]
  },
  {
   "cell_type": "markdown",
   "metadata": {},
   "source": [
    "#### Expected output\n",
    "```\n",
    "The cost after training is 0.67094970.\n",
    "The resulting vector of weights is [4.1e-07, 0.00035658, 7.309e-05]\n",
    "```"
   ]
  },
  {
   "cell_type": "markdown",
   "metadata": {},
   "source": [
    "<a name='2'></a>\n",
    "## 2 - Extracting the Features\n",
    "\n",
    "* Given a list of tweets, extract the features and store them in a matrix. You will extract two features.\n",
    "    * The first feature is the number of positive words in a tweet.\n",
    "    * The second feature is the number of negative words in a tweet. \n",
    "* Then train your logistic regression classifier on these features.\n",
    "* Test the classifier on a validation set. \n",
    "\n",
    "<a name='ex-3'></a>\n",
    "### Exercise 3 - extract_features\n",
    "Implement the extract_features function. \n",
    "* This function takes in a single tweet.\n",
    "* Process the tweet using the imported `process_tweet` function and save the list of tweet words.\n",
    "* Loop through each word in the list of processed words\n",
    "    * For each word, check the 'freqs' dictionary for the count when that word has a positive '1' label. (Check for the key (word, 1.0)\n",
    "    * Do the same for the count for when the word is associated with the negative label '0'. (Check for the key (word, 0.0).)\n"
   ]
  },
  {
   "cell_type": "markdown",
   "metadata": {},
   "source": [
    "<details>    \n",
    "<summary>\n",
    "    <font size=\"3\" color=\"darkgreen\"><b>Hints</b></font>\n",
    "</summary>\n",
    "<p>\n",
    "<ul>\n",
    "    <li>Make sure you handle cases when the (word, label) key is not found in the dictionary. </li>\n",
    "    <li> Search the web for hints about using the 'get' function of a Python dictionary.  Here is an <a href=\"https://www.programiz.com/python-programming/methods/dictionary/get\" > example </a> </li>\n",
    "</ul>\n",
    "</p>\n"
   ]
  },
  {
   "cell_type": "code",
   "execution_count": 18,
   "metadata": {
    "tags": []
   },
   "outputs": [],
   "source": [
    "# UNQ_C3 GRADED FUNCTION: extract_features\n",
    "def extract_features(tweet, freqs, process_tweet=process_tweet):\n",
    "    '''\n",
    "    Input: \n",
    "        tweet: a list of words for one tweet\n",
    "        freqs: a dictionary corresponding to the frequencies of each tuple (word, label)\n",
    "    Output: \n",
    "        x: a feature vector of dimension (1,3)\n",
    "    '''\n",
    "    # process_tweet tokenizes, stems, and removes stopwords\n",
    "    word_l = process_tweet(tweet)\n",
    "    \n",
    "    # 3 elements in the form of a 1 x 3 vector\n",
    "    x = np.zeros((1, 3)) \n",
    "    \n",
    "    #bias term is set to 1\n",
    "    x[0,0] = 1 \n",
    "    \n",
    "    ### START CODE HERE ###\n",
    "    \n",
    "    # loop through each word in the list of words\n",
    "    for word in word_l:\n",
    "        \n",
    "        # increment the word count for the positive label 1\n",
    "        x[0,1] += freqs.get((word, 1.0), 0)\n",
    "        \n",
    "        # increment the word count for the negative label 0\n",
    "        x[0,2] += freqs.get((word, 0.0), 0)\n",
    "        \n",
    "    ### END CODE HERE ###\n",
    "    assert(x.shape == (1, 3))\n",
    "    return x"
   ]
  },
  {
   "cell_type": "code",
   "execution_count": 19,
   "metadata": {
    "tags": []
   },
   "outputs": [
    {
     "name": "stdout",
     "output_type": "stream",
     "text": [
      "[[1. 1. 0.]]\n"
     ]
    }
   ],
   "source": [
    "# Check your function\n",
    "# test 1\n",
    "# test on training data\n",
    "tmp1 = extract_features(train_x[0], freqs)\n",
    "print(tmp1)"
   ]
  },
  {
   "cell_type": "markdown",
   "metadata": {},
   "source": [
    "#### Expected output\n",
    "```\n",
    "[[1.00e+00 3.02e+03 6.10e+01]]\n",
    "```"
   ]
  },
  {
   "cell_type": "code",
   "execution_count": 20,
   "metadata": {
    "tags": []
   },
   "outputs": [
    {
     "name": "stdout",
     "output_type": "stream",
     "text": [
      "[[1. 0. 0.]]\n"
     ]
    }
   ],
   "source": [
    "# test 2:\n",
    "# check for when the words are not in the freqs dictionary\n",
    "tmp2 = extract_features('blorb bleeeeb bloooob', freqs)\n",
    "print(tmp2)"
   ]
  },
  {
   "cell_type": "markdown",
   "metadata": {},
   "source": [
    "#### Expected output\n",
    "```\n",
    "[[1. 0. 0.]]\n",
    "```"
   ]
  },
  {
   "cell_type": "markdown",
   "metadata": {},
   "source": [
    "<a name='3'></a>\n",
    "## 3 - Training Your Model\n",
    "\n",
    "To train the model:\n",
    "* Stack the features for all training examples into a matrix X. \n",
    "* Call `gradientDescent`, which you've implemented above.\n",
    "\n",
    "This section is given to you.  Please read it for understanding and run the cell."
   ]
  },
  {
   "cell_type": "code",
   "execution_count": 21,
   "metadata": {
    "tags": []
   },
   "outputs": [],
   "source": [
    "# collect the features 'x' and stack them into a matrix 'X'\n",
    "X = np.zeros((len(train_x), 3))\n",
    "for i in range(len(train_x)):\n",
    "    X[i, :]= extract_features(train_x[i], freqs)\n",
    "\n",
    "# training labels corresponding to X\n",
    "Y = train_y.reshape(3800,1)"
   ]
  },
  {
   "cell_type": "code",
   "execution_count": 22,
   "metadata": {
    "tags": []
   },
   "outputs": [
    {
     "data": {
      "text/plain": [
       "(3800, 1)"
      ]
     },
     "execution_count": 22,
     "metadata": {},
     "output_type": "execute_result"
    }
   ],
   "source": [
    "Y.shape"
   ]
  },
  {
   "cell_type": "code",
   "execution_count": 23,
   "metadata": {
    "tags": []
   },
   "outputs": [
    {
     "name": "stderr",
     "output_type": "stream",
     "text": [
      "100%|██████████████████████████████████████████████████████████████████████████| 50000/50000 [00:27<00:00, 1792.96it/s]"
     ]
    },
    {
     "name": "stdout",
     "output_type": "stream",
     "text": [
      "The cost after training is 0.55514032.\n",
      "The resulting vector of weights is [0.00741984, 0.00433988, -0.0097091]\n"
     ]
    },
    {
     "name": "stderr",
     "output_type": "stream",
     "text": [
      "\n"
     ]
    }
   ],
   "source": [
    "J,theta = gradientDescent(X, Y, np.zeros((3, 1)), 1e-6, 50000)\n",
    "print(f\"The cost after training is {J:.8f}.\")\n",
    "print(f\"The resulting vector of weights is {[round(t, 8) for t in np.squeeze(theta)]}\")"
   ]
  },
  {
   "cell_type": "markdown",
   "metadata": {},
   "source": [
    "**Expected Output**: \n",
    "\n",
    "```\n",
    "The cost after training is 0.22522315.\n",
    "The resulting vector of weights is [6e-08, 0.00053818, -0.0005583]\n",
    "```"
   ]
  },
  {
   "cell_type": "markdown",
   "metadata": {},
   "source": [
    "<a name='4'></a>\n",
    "## 4 -  Test your Logistic Regression\n",
    "\n",
    "It is time for you to test your logistic regression function on some new input that your model has not seen before. \n",
    "<a name='ex-4'></a>\n",
    "### Exercise 4 - predict_tweet\n",
    "Implement `predict_tweet`.\n",
    "Predict whether a tweet is positive or negative.\n",
    "\n",
    "* Given a tweet, process it, then extract the features.\n",
    "* Apply the model's learned weights on the features to get the logits.\n",
    "* Apply the sigmoid to the logits to get the prediction (a value between 0 and 1).\n",
    "\n",
    "$$y_{pred} = sigmoid(\\mathbf{x} \\cdot \\theta)$$"
   ]
  },
  {
   "cell_type": "code",
   "execution_count": 24,
   "metadata": {},
   "outputs": [],
   "source": [
    "# UNQ_C4 GRADED FUNCTION: predict_tweet\n",
    "def predict_tweet(tweet, freqs, theta):\n",
    "    '''\n",
    "    Input: \n",
    "        tweet: a string\n",
    "        freqs: a dictionary corresponding to the frequencies of each tuple (word, label)\n",
    "        theta: (3,1) vector of weights\n",
    "    Output: \n",
    "        y_pred: the probability of a tweet being positive or negative\n",
    "    '''\n",
    "    ### START CODE HERE ###\n",
    "    \n",
    "    # extract the features of the tweet and store it into x\n",
    "    x = extract_features(tweet, freqs)\n",
    "    # make the prediction using x and theta\n",
    "    y_pred = sigmoid(np.dot(x,theta))\n",
    "    ### END CODE HERE ###\n",
    "    \n",
    "    return y_pred"
   ]
  },
  {
   "cell_type": "code",
   "execution_count": 25,
   "metadata": {},
   "outputs": [
    {
     "name": "stdout",
     "output_type": "stream",
     "text": [
      "I am happy -> 0.523336\n"
     ]
    }
   ],
   "source": [
    "# Run this cell to test your function\n",
    "for tweet in ['I am happy']:\n",
    "    print( '%s -> %f' % (tweet, predict_tweet(tweet, freqs, theta)))    \n",
    "    "
   ]
  },
  {
   "cell_type": "markdown",
   "metadata": {},
   "source": [
    "**Expected Output**: \n",
    "```\n",
    "I am happy -> 0.519275\n",
    "I am bad -> 0.494347\n",
    "this movie should have been great. -> 0.515979\n",
    "great -> 0.516065\n",
    "great great -> 0.532096\n",
    "great great great -> 0.548062\n",
    "great great great great -> 0.563929\n",
    "```"
   ]
  },
  {
   "cell_type": "code",
   "execution_count": 26,
   "metadata": {},
   "outputs": [
    {
     "data": {
      "text/plain": [
       "array([[0.52008693]])"
      ]
     },
     "execution_count": 26,
     "metadata": {},
     "output_type": "execute_result"
    }
   ],
   "source": [
    "# Feel free to check the sentiment of your own tweet below\n",
    "my_tweet = 'I am learning :)'\n",
    "predict_tweet(my_tweet, freqs, theta)"
   ]
  },
  {
   "cell_type": "markdown",
   "metadata": {},
   "source": [
    "<a name='4-1'></a>\n",
    "### 4.1 -  Check the Performance using the Test Set\n",
    "After training your model using the training set above, check how your model might perform on real, unseen data, by testing it against the test set.\n",
    "\n",
    "<a name='ex-5'></a>\n",
    "### Exercise 5 - test_logistic_regression\n",
    "Implement `test_logistic_regression`. \n",
    "* Given the test data and the weights of your trained model, calculate the accuracy of your logistic regression model. \n",
    "* Use your 'predict_tweet' function to make predictions on each tweet in the test set.\n",
    "* If the prediction is > 0.5, set the model's classification 'y_hat' to 1, otherwise set the model's classification 'y_hat' to 0.\n",
    "* A prediction is accurate when the y_hat equals the test_y.  Sum up all the instances when they are equal and divide by m.\n"
   ]
  },
  {
   "cell_type": "markdown",
   "metadata": {},
   "source": [
    "<details>    \n",
    "<summary>\n",
    "    <font size=\"3\" color=\"darkgreen\"><b>Hints</b></font>\n",
    "</summary>\n",
    "<p>\n",
    "<ul>\n",
    "    <li>Use np.asarray() to convert a list to a numpy array</li>\n",
    "    <li>Use numpy.squeeze() to make an (m,1) dimensional array into an (m,) array </li>\n",
    "</ul>\n",
    "</p>"
   ]
  },
  {
   "cell_type": "code",
   "execution_count": 27,
   "metadata": {},
   "outputs": [],
   "source": [
    "# UNQ_C5 GRADED FUNCTION: test_logistic_regression\n",
    "def test_logistic_regression(test_x, test_y, freqs, theta, predict_tweet=predict_tweet):\n",
    "    \"\"\"\n",
    "    Input: \n",
    "        test_x: a list of tweets\n",
    "        test_y: (m, 1) vector with the corresponding labels for the list of tweets\n",
    "        freqs: a dictionary with the frequency of each pair (or tuple)\n",
    "        theta: weight vector of dimension (3, 1)\n",
    "    Output: \n",
    "        accuracy: (# of tweets classified correctly) / (total # of tweets)\n",
    "    \"\"\"\n",
    "    \n",
    "    ### START CODE HERE ###\n",
    "    \n",
    "    # the list for storing predictions\n",
    "    y_hat = []\n",
    "    \n",
    "    for tweet in test_x:\n",
    "        # get the label prediction for the tweet\n",
    "        y_pred = predict_tweet(tweet, freqs, theta)\n",
    "        \n",
    "        if y_pred.all() > 0.5:\n",
    "            # append 1.0 to the list\n",
    "            y_hat.append(1.0)\n",
    "        else:\n",
    "            # append 0 to the list\n",
    "            y_hat.append(0.0)\n",
    "\n",
    "    # With the above implementation, y_hat is a list, but test_y is (m,1) array\n",
    "    # convert both to one-dimensional arrays in order to compare them using the '==' operator\n",
    "    m=test_y.shape[0]\n",
    "            \n",
    "    accuracy = np.sum(np.squeeze(np.asarray(y_hat)) == np.squeeze(test_y))/m\n",
    "\n",
    "    ### END CODE HERE ###\n",
    "    \n",
    "    return accuracy"
   ]
  },
  {
   "cell_type": "code",
   "execution_count": 28,
   "metadata": {},
   "outputs": [
    {
     "name": "stdout",
     "output_type": "stream",
     "text": [
      "Logistic regression model's accuracy = 0.7321\n"
     ]
    }
   ],
   "source": [
    "tmp_accuracy = test_logistic_regression(test_x, test_y, freqs, theta)\n",
    "print(f\"Logistic regression model's accuracy = {tmp_accuracy:.4f}\")"
   ]
  },
  {
   "cell_type": "markdown",
   "metadata": {},
   "source": [
    "<a name='5'></a>\n",
    "## 5 -  Error Analysis\n",
    "\n",
    "In this part you will see some tweets that your model misclassified. Why do you think the misclassifications happened? Specifically what kind of tweets does your model misclassify?"
   ]
  },
  {
   "cell_type": "code",
   "execution_count": 29,
   "metadata": {},
   "outputs": [
    {
     "name": "stdout",
     "output_type": "stream",
     "text": [
      "Label Predicted Tweet\n",
      "1.0 [[0.42020956]] ज़ुल्म इतना बुरा नहीं जितनी  बुरी तुम्हारी खामोशी है...     हक़ बोलना सीखो वरना पीढियां गूंगी हो जाएंगी...\n",
      "1.0 [[0.4868489]] उजली सुबह को अँधेरी शाम कर रक्खा था |  नाम था इसीलिए तो बदनाम कर रक्खा था ||  जिसे दुआएँ देने पहुँचे थे हम ज़िन्दगी की |  उसी ने हमारी मौत का इंतजाम कर रक्खा था ||    ~ शाहरुख सिद्दीकी   #shahrukhsiddiqui @srspoet\n",
      "1.0 [[0.44239609]] भेनचोद इतना ज़यदा pumped upकर दिया माय लार्ड ने मन क्र रहा है सिलिंडर में धमाका कर दू ये छोटे छोटे बम से कुछ ख़ास मज़ा आ नही रहा . #HappyDiwali #Diwali #दीपावली\n",
      "1.0 [[0.47639633]] गोडसे ने महान काम किया था अगर ना करते तो हम किसी मस्ज़िद में नमाज़ पढ़ रहे होते...  @Abhishek_Mshra\n",
      "1.0 [[0.489414]] नदी किनारे मिली बाप और उसकी टीशर्ट में लिपटी बच्ची की लाश, इस तस्वीर पर रो रही दुनिया\n",
      "1.0 [[0.13736281]] हरामी माधरचोद विहार मे बिहार का दुशरा भाषा ऊर्दु किसने घोषित किया माधरचोद हर साल ईफतार लालू देता है माधरचोद मोदीजी तो पांच साल मे भीख का कटोरा थमाया था माधरचोद आज इमरान खान कुत्ते की तरह भौक रहा है सयुक्त राष्ट्र मे भारत को स्थाई सदस्य बनाए जाए चीन भी हामी भर रहां है \n",
      "1.0 [[0.38534802]] आप सब देशवासियों को ईद मुबारक आपका अपना #मोडी़  या #अल्लाह मेरे #मनहूस, #अंधभक्तों और #मानसिक_गुलामो को #कुत्ते की मौत दे ...    #आमीन\n",
      "1.0 [[0.41251004]] निवडणूक संपेपर्यंत नरेंद्र मोदी विरोधी पक्षातील नेत्यांना दगडं मारायला सुरुवात करतील.  बहूतेक हरण्याच्या भितीने डोक्यात केमीकल लोच्या झालाय.  कोणीतरी #नीच म्हटलं होतं ते खरंय.  माजी पंतप्रधान बद्दल असं बोलणं म्हणजे निचतेचा कळस आहे.  घर सोडून पळून गेला नसता तर संस्कार मिळाले असते.\n",
      "1.0 [[0.19554138]] अबे सुअर की औलाद  इस तरह की बात करते  तुझे शर्म नहीं आई।  #नीच   निचता की ही बात करेगा।\n",
      "1.0 [[0.49129789]] ये भड़वा बहुत बड़ा दलाल है,, आज राइट विंगर पत्रकार बनने का ढोंग कर रहा है,, इसके पुराने ट्वीट गूगल करके पढ़ लो, खुद समझ जाओगे।\n",
      "1.0 [[0.24283469]] अल्लाह को गाली दो तो हिन्दू खुश होते है,और भगवान को गाली दो तो मुसलमान..  अब इनको कौन समझाए की पानी और Water में कोई अंतर नही होता  @Anjupra7743\n",
      "1.0 [[0.1778901]] क्या हरामी आदमी है ये राहुल बहन का लावड़ा \n",
      "1.0 [[0.49729939]] जहां देखो चड्डी गमछा वालों को  गांड़ में गोली मरो सालो को\n",
      "1.0 [[0.34051966]] अच्छा,,और कौन कौन है नीच???    एक #नीच  शब्द ने कांग्रेस से कहा से कहा पहुँचा दिया,,       अब जरा शब्दों को सुधारने की जरूरत है शायद,,\n",
      "1.0 [[0.42651242]] संसद मे श्रीराम की लत लगाकर राष्ट्रवाद का ढोंग रचने वालो  130 बच्चों की मौत का जिक्र अल्लाह हू अकबर वाले ने ही किया बाकी हंस रहे थे\n",
      "1.0 [[0.48410419]] शान्ति दूत मोदी और बिकाऊ bollywood । देखिये। शेयर कीजिये\n",
      "1.0 [[0.48631381]] बंग्लादेश सरकार ने हर बेरोजगार को कपड़ा उत्पादन से जोड़कर इतिहास रच दिया हम बेरोजगारों को कहते हैं हिंदुत्व खतरे में है,,,\n",
      "1.0 [[0.40128488]] कनपुरिया - तुम्हारा नाम क्या है    आदमी - फॉफ डु प्लेसिस    कनपुरिया - कौनो बकचोदी किये होगे फॉफ से तभैइने दु बार पेलिस, वो छोड़ो नाम तो बताओ !\n",
      "1.0 [[0.4395563]] भारत में मजदुर दिन का महत्व अभी चाय की टापरीवाला अपने छोटु क समजा रहा था अबे भोस्डिके ठीक से काम करियो वार्ना आधा दिन का पगार तो जायेगा साथ में मजदुर दिन की आधे दिन की छुट्टी भी नहीं मिलेंगे  \n",
      "1.0 [[0.37624395]] अमें! सामने मीडिया और कैमरा ऑन करवा कर साधना में कौन लीन होता है!   हद हो गयी नौटन्की की     #ModiInKedarnath\n",
      "1.0 [[0.14976197]] 1857 की “क्रांति” का बिगुल बजाने वाली, झाँसी की रानी लक्ष्मीबाई का आज “बलिदान” दिवस है, लेकिन गोदी “मीडिया” में कहीं एक पट्टी तक नहीं,अगर प्रियंका चोपड़ा की “मैरिज” Anniversary होती,तो पूरा दिन “तमाशा” होता.\n",
      "1.0 [[0.31463906]] 2 संप्रदायो में भारी तनाव की स्‍थिति  पुलिस और मीडिया का कोई अता पता नहीं\n",
      "1.0 [[0.40558345]] पहले इतना बताओ कि जाति व्यवस्था या वर्ण व्यवस्था बनाने वाले लोग किस देश मे पाये जाते हैं ये किसके छल की देन है ।\n",
      "1.0 [[0.16336221]] 18 साल का सैनिक शहीद हुआ तो वह बच्चा नहीं था और     25 साल का पत्थरबाज मारा जाए तो वह बच्चा था   कौन सा नशा करते हो दोगले\n",
      "1.0 [[0.38654118]] तुम चिंता काहे कर रहे हो मानक जी,   अब पत्थरबाज बनना इतना आसान नही,  #ZairaWasim\n",
      "1.0 [[0.44673122]] @MishraSanheev   एक #कमीने को चौराहे पर बुलाया था.... नेपाल भाग गया.\n",
      "1.0 [[0.06308258]] देख @sardanarohit  दल्ले ये भी तो एक पत्रकार है इसे अपने जाति धर्म का नहीं पता बस पत्रकारिता क्या होती है ये पता है । साले आज दंगल कर रहा है जब दस सूअर मिल के एक लाचार , कमजोर, इंसान की जान ले रहे थे तो तेरा दंगल पिछवाड़े में घुसा था । दलाल मीडिया।हरामी\n",
      "1.0 [[0.27104641]] नीच को नीच ही दिखते हैं।  तू #हिन्दुस्तान का सबसे बड़ा #नीच है। जो एक  #सुअर का प्रचार करने के लिए गया था। जिताया नहीं अपने   #सुअर_बाप को नीच\n",
      "1.0 [[0.4377139]] Salute sister...shaandaar jindabaad# jai hind #  थोड़ा देसी हो जाऊ तो क्या फर्क# पढ़ा लिखा इंसान दिल से चोट खा सकता है पर # जिन्होंने पैदा किया बड़ा किया निभाया#उससे कभी नहीं#हमेशा अपनो की इज्जत करे # #नीच पर नहीं लागू \n",
      "1.0 [[0.43356246]] न मन्दिर बनेगा न 370 हटेगा,अब आंधी में देश का धन लुटेगा,एक त्रासदी का तूफान आएगा,लोकतंत्र को समेट कर ले  जाएगा,मानवता को झकझोर देगा?\n",
      "1.0 [[0.48629302]] @timesofindia मोदी का भडवा पत्रीका है अौर नक्सलीय हिन्दु वादी सोच से ग्रसीत भडवो का प्रत्रीका है     नेपाली बिधालयमा चिनियाँ भाषाको अनिवार्य शिक्षा - LiveMandu  https://livemandu.com/9879/  -via #hamropatro\n",
      "1.0 [[0.34046285]] भोसड़ीके किस सपने में जी रहा है  यह तेरे बाप की जागीर नही है तुम मुल्लो को हमने भीख में पाकिस्तान दे रखा है सालो\n",
      "1.0 [[0.45875102]] कोई जरूरत नही है तुम्हारी, भोसडीके तुम हमारे दुश्मन हो दुश्मन रहोगे... हर बार चोदो जाओगे\n",
      "1.0 [[0.3454444]] #शेरो के काफिले में #कुत्ते अच्छे नही लगते,  #सबका_साथ वाला नारा सही था  लेकिन @ArvindKejriwal वो लोग है जिनको #सबसे_अलग रखना चाहिए,  अगर इन जैसे लोगो को आप न्योता देंगे तो आम जनता का आपसे भी भरोसा उठ जाएगा  @narendramodi   @narendramodi_in   @PMOIndia\n",
      "1.0 [[0.41317748]] अन्य पार्टियों को छोड़कर भाजपा  में शामिल होने वाले विधायक ओर  सांसद गंगोत्री में गोता लगा कर देश  भक्ति का सर्टिफिकेट प्राप्त कर रहे हैं,,,\n",
      "1.0 [[0.4617372]] थप्पड़ नहि जूता पड़ा है #जमनात ज़ब्त हो गयी #कमीने की \n",
      "1.0 [[0.17648254]] इस्लामिक आतंकवाद  इस्लामिक आतंक का समर्थन करने वाले मुस्लिम  मस्जिदों में से बहार निकलते मुस्लिम पत्थरबाज,  झंडे पर कुरान की आयतें लिख कर ह्त्या और बलात्कार की धमकी देने वाले मुस्लिम आतंकवादी  इस्लामिक आतंकियों का समर्थन करने वाले पाकिस्तानी कश्मीरी  @Payal_Rohatgi @Afraoo7 @ojhaneha1\n",
      "1.0 [[0.33547775]] #चोर,#नीच चौकीदार अपनी हद में रह, और अपने #दलाल चौकीदार  की गुलामी कर।\n",
      "1.0 [[0.27713521]] हिन्दू परिवार ने तीन मुस्लिम बेटियों की शादी कराई  शबगा गांव के शिक्षक सतेंद्र पंवार ग़रीब मुस्लिम परिवार की 3 बेटियों की शादी करवाकर हिन्दू मुस्लिम एकता की मिसाल पेश की।  ऐसी खबरें दिल को सुकून देती हैं, और नफरत फैलाने वाले नफरतखोरों को तकलीफ़ देती है।  @yasarshah_SP @dralvirashah\n",
      "1.0 [[0.41474995]] लड़कियां तो यूँही बदनाम है साहब   .  .  .  .  .  .  .  .  .  .  .  .  चूना तो ये #Dream11Team वाले भी कम नहीं लगाते हैं  \n",
      "1.0 [[0.49490668]] प्रज्ञा_ठाकुर ने #गोडसे_ज़िंदाबाद कहा तो नाराज़ हो गये   #कन्हैया_कुमार ने भारत तेरे टुकडे होंगे कहा तो लोकसभा उम्मीदवार बना दिया।\n",
      "1.0 [[0.32081422]] हिमाचल प्रदेश में करीब 37 साल बाद सेब की फसल में बीमारी लगी है और इसका व्यापक असर हो रहा है, लेकिन राज्य की बीजेपी सरकार को इसकी कोई चिंता नजर नहीं आती\n",
      "1.0 [[0.49689599]] जमानत बाबारामरहिम की ही करवाना जल्दबाजी में अबु सलेम की जमानत मत करवा देना -- सूचना\n",
      "1.0 [[0.46752229]] तिलमिलाइये मत सही सही लिखीये दलाली खतरे में हैं का।   Arrested हैं attested  क्यों लिख रहे हैं।\n",
      "1.0 [[0.27223703]] दिल्ली में मंदिर तोड़ा गया कोई भी नेता आवाज  नहीं उठा रहा है अगर मस्जिद तोड़ी गई होती तो रंडी जैसा नाच  करते साले ह****\n",
      "1.0 [[0.28532397]] मोदी ने जो #साजिश रची वह चौाकाने वाली नहीं, क्योंकि वह #नीच और #घटिया इंसान है। लेकिन तेजबहादुर को चुनाव लड़ने से रोककर सबसे घटिया और गैरकानूनी काम चुनाव आयोग ने किया है।\n",
      "1.0 [[0.43967384]] सही बोला आपने अपनी #औकात में रहेंगे पत्थरबाज ।\n",
      "1.0 [[0.04315437]] अबे दोगले ,मुस्लिम युवकों द्वारा तोड़फोड़ की गई ये बोलने में तेरे मुँह में दही जम गया क्या    अराजक तत्व मुस्लिम थे मुस्लिम     कितने दोगले हो तुम कांग्रेसियों    तुम्हारी गांड क्यों फटती है शांतिदूतों से,मुझे आज तक समझ नही आया    जो कायर हिन्दू पहले मुस्लिम बन गए थे वो तुम जैसे ही थे\n",
      "1.0 [[0.24889522]] #templeterrorattack   कुत्ते की पूंछ सीधी हो सकती है लेकिन मुसलमान कभी सुधार नहीं सकता.. सूअर साले शैतान की किताब पढ़ते हैं\n",
      "1.0 [[0.4599119]] साली दो देश की लुंड की पैदाईश मरवाने हमारे पास आयी थी ना.\n",
      "1.0 [[0.43932124]] जय श्री राम के नारे जबरदस्ती लगवाने वालों का हिंदु धर्म से कोई लेना देना नही है ये मै नही गीता और रामायण उपनिशेद पुराण कह रहे हैं,,\n",
      "1.0 [[0.24168098]] वीडियो मे एक रंडी का बंच्चा कविता सुना रहा है।  जिससे माहौल गरम हो गया है।   न्यूज चैनलो से अनुरोध है की इस हरामी की पुरी कविता दिखाई जाये। \n",
      "1.0 [[0.05464311]] मंदिर तोड़ने वाला “मुसलमान”  नहीं हो सकता,और मस्जिद पे “हमला”  करने वाला “हिंदू” कैसा,दिल्ली की घटना से दिल बेहद दुखी है,दंगाइयों का कोई धर्म नहीं होता,पुलिस को “सख़्त”  कार्यवाही करनी चाहिये,और हर क़ीमत पर “शांति” और “सद्भावना” क़ायम रखनी चाहिये.\n",
      "1.0 [[0.48365921]] आज आजम खान ने अपनी अम्मी को नाम से पुकारा है।सरे राह रण्डी कह कर कास अपने अब्बा का नाम भी ले लेता भड़वा\n",
      "1.0 [[0.30984176]] चचा, जिंदा हो क्या?   छोटी छोटी बातों पर ट्वीट करने वाले ने पिछले 5 दिन से कोई ट्वीट नही किया।   वो कन्हैया आपकी सांत्वना का इंतजार कर रहा है।   #कन्हैया_कुमार   #भारत_माता_की_जय   #AbHogaNYAY   #ModiAaGaya\n",
      "1.0 [[0.31878719]] कांग्रेस मुस्लिम #लीग से #गठबंधन करे तो गलत तुम #पीडीपी से करो तो #सही     कितने #कमीने हो #बे #तुम सब  @RoflSinha @BJP4India @yadavakhilesh @INCIndia @narendramodi @AcharyaPramodk  @anuacharya @aajtak @DrKumarVishwas @RahulGandhi #BJP_भगाओ_देश_बचाओ @yadavtejashwi @LalluSinghBJP\n",
      "1.0 [[0.41448691]] कुछ चुल्ले लिख रहे है की   'मैं हूं तबरेज'    हाँ तो  इसमे बताने की क्या बात है, शक्ल से ही चोर लगते हो।  \n",
      "1.0 [[0.45840603]] बेशर्मी कि हद है पुरा मंदिर गिरा दिया ये दल्ले केह रहे हैं कि शरारती तत्व है यही उलटा होता तो रंडी रोना चालु कर देते\n",
      "1.0 [[0.37334282]] #जिंदगी की यही #रीत है !   #पीठ पीछे सब #कमीने और #सामने सब #sweet हैं...RS\n",
      "1.0 [[0.37264785]] अब दोगला भड़वा पत्रकार पत्रिका का गुलाबो अपने सम्पादकीय में उस दलित युवक  के   लिये आवाज नही उठायेगा  अब कोई दलित संगठन वहां जाकर छाती नही  पीटेगा  कोई दोगली सरकार उस दलित के परिवार को  नौकरी या पांच लाख रुपए की मदद नही करेगी  ना लोग ईकठा होकर इसके विरोध मे रैली‌करेगे    03\n",
      "1.0 [[0.26705453]] 1400 वर्षों से ये हमारे मंदिरो को तोड़ते आए है  हमारे घरों और जमीनो पर क़ब्ज़ा किया  बहन बेटियों से बलात्कार किया  ज़बरदस्ती धर्म परिवर्तन करवाए    फिर भी ये दलाल मीडिया, नेता और मानवअधिकार वाले इन्हें #Peaceful कहते है...!!!    पता नहि हिंदू कब परशुराम बनेगा ??  #मीडिया रंडी का कोठा है\n",
      "1.0 [[0.36561091]] नारियों को घुंघट/पर्दा रखना है या नहीं, यह उन पर डिपेंड है। पुरुष वर्ग कौन होता है, यह कहने वाला की महिला क्या पहने,क्या ना पहने ?  @LambaAlka @salempurmanisha @Anjupra7743 @KaranwalTanu\n",
      "1.0 [[0.4710767]] निगाहे  #आज भी ढुंढ रही है...    उस महान #कमीने को    जिसने #बरसों पहले कहा था,.......    '#इंटरनेट का #अविष्कार,.....    .#लोगों का समय #बचाएगा'       \n",
      "1.0 [[0.49257335]] कुछ दिन आपको पढ़ने आये या न आये लेक़िन जय श्री राम बोलना लिखना जरूर आना चाहिए??    क्योंकि अब इस देश का विकास और विस्तार जय श्री राम से होने वाला है, हर छोटी बात पे राम का नाम बुलवाना फ़िर उसे मारना कहां की आस्था है?    ऐसे नीच सोच को बढ़ावा देने वाले इस देश के विनासक बनेंगे।\n",
      "1.0 [[0.46730709]] मैं यद्यपि समाजवादी पार्टी को पसन्द नही करता लेकिन मैं आपको व्यक्तिगत तौर पर बहुत पसंद करता हूँ और आप संसद जाएंगे इसकी मुझे दिल से खुशी है।\n",
      "1.0 [[0.29886997]] @sudhirchaudhary बेशर्म और नीच तिहाड़ी तुम्हे रत्ती भर गैरत है?  #नीच #कायर #पतलकार\n",
      "1.0 [[0.15622587]] कितनी दोगली मीडया है mushalman बोलने में कितना कास्ट हो रहा है हरामी\n",
      "1.0 [[0.36106495]] कश्मीर का “रऊफ” कलकत्ता के 5 टुरिस्ट को बचाते हुए ख़ुद डूब गया। डूबने वाले ने ये भी नही सोचा कि वो जिन्हे बचाने की कोशिश कर रहा वो तीनो “हिंदू” हैं, बस इंसानियत को सर्वप्रथम रखा।  जगह-जगह कशमीरियों को पीटने वाले तथाकथित देशभक्त गौर से देखो।    @AshrafFem Bhai\n",
      "1.0 [[0.37280138]] अब मैं पहले की तरह बोलता नहीं हूं,  हर बात को सही और ग़लत में तोलता नहीं हूं,  सब की अपनी - अपनी जिंदगानी है  जो चले गये उनकी भी अपनी एक कहानी है,  फिर भी बाते अपनी यूं हीं चलती रहेंगी,  जो तुझसे हुआ करती थी वो खुद से हुआ करेंगी।    #Hindi #हिंदी_शब्द\n",
      "1.0 [[0.25528913]]  एक #जगह पर #बोर्ड लगा था     #प्रधान_मंत्री बनने का #तरीका_सीखे  #सिर्फ_100 रु में    मैं #अंदर गया तो देखा #कमीने लोग  #चाय_बनाना  सीखा रहे थे    नोट :- इसका #मोदी_जी से दूर दूर तक नाता नही है कोई सोचना भी मत\n",
      "1.0 [[0.45555499]] शेर शेर ही रहता है, चाहे जंगल में रहे या जेल में!  चाहे घेर कर कितनों को घात लगाकर मार दे, गीदड़ गीदड़ ही रहता है!  समझे का ?    @RJDforIndia @TejYadav14\n",
      "1.0 [[0.42472314]] हम देश को नया प्रधानमंत्री देंगे ~ अखिलेश यादव  जनता- भोसडीके पहले तू सरकारी बंगले से उखाड़ी हुई टोटी और टायल्स दे बे टोटी चोर\n",
      "1.0 [[0.28087523]] धर्म क्यों नहीं होता सुअर थे साले\n",
      "1.0 [[0.46404005]] कटे लुंड की पैदाइश इंडिया मै इसलिए इतना भोख़ रहा है। पाकिस्तान मै होता तो तेरा अब तक दूसरा खतना हो जाता।  तुम सुवर ही रहोगे, गद्दार ही रहोगे। #Halala करने को तुम अपनी शान समजते हो और जो #गाय तुम्हे दूध देती है उसी का मास खाते हो। गलती #इस्लाम की है उसमे तो मा को चोदना भी #सबाब है।\n",
      "1.0 [[0.47943312]] ज़ालिम के आगे जो भी बगावत नहीं करता                            अल्लाह कभी उसकी हिफाजत नहीं करता !!                               हम  भूल  गए  अपनी  तारिख  को  वरना                                  गीदड़  कभी  शेरों  पे  हुकूमत  नहीं  करता !!\n",
      "1.0 [[0.42454715]] @KapilMishra_IND बेहोश पिस्सरा यह तो बताओ क्यूँ हुआ ? दंगाई ग़लत है , पर सचाई ज़रूरी है, लेकिन तुमसे उमीद क्या करूँ #नीच\n",
      "1.0 [[0.46819385]] देशभक्त साथियों  अपने प्रिय सांसद को फोन/SMS कर एकबार जरूर पूछिए कि:    समान शिक्षा, समान चिकित्सा, समान नागरिक संहिता, धर्मांतरण विरोधी कानून, जनसंख्या नियंत्रण कानून और घुसपैठ विरोधी कानून कब बनेगा?    चुनाव सुधार, पुलिस सुधार, न्यायिक सुधार, शिक्षा सुधार और प्रशासनिक सुधार कब होगा?\n",
      "1.0 [[0.47777015]] लुंड नहीं बहना, लंड होता है लोड़ा होता है । \n",
      "1.0 [[0.24980703]] मरना नही है सुअर को मरना ह\n",
      "1.0 [[0.35201992]] ये विडियो साले जयचंद के बच्चें भी देख रहे होंगे, लेकिन उनकी अपनी ज़मीर फिर भी नही जागेगी, क्योंकि वो हरामी के ही औलाद हैं ।।।।\n",
      "1.0 [[0.29100205]] मोमिन वो नही जिसकी महफ़िल पाक है,  मोमिन वो है जिसकी तन्हाई पाक है।     - हज़रत अली\n",
      "1.0 [[0.36716768]] #मणिशंकर अय्यर साहब आपने क्या गलत कहा था एक #नीच को नीच ही तो कहा था जो बिलकुल सही था में सेल्यूट करता हु आपको\n",
      "1.0 [[0.12663285]] @AcharyaPramodk  आत्मीक रूप से जालीदार टोपी वाले कटवे उनका धर्म भी है जात भी है पंथ है सम्प्रदाय है उनका नाम भी है रंग भी है रूप भी है बस अपनी आँखों को खोल और पहचान दिख जाएंगे ये हरामी पना बंद करो अच्छे बनने ढोंग बंद करो । \n",
      "1.0 [[0.34854835]] मेरा देश बदल रहा है  एक समय था जब गठबंधन बनाकर सरकार बना लिया जाता था   पर अब गठबंधन बनाकर विपछ बनाया जा रहा है\n",
      "1.0 [[0.47631966]] mr.Piyush 8.06 am local halt at shahad with heavy rush now 8.25am.यहां भोसडीके कुछ करते नही। only giving priority to express.\n",
      "1.0 [[0.40287667]] तरबेज़ का मरना भी छोटी सी ही तो बात है, इतना हंगामा क्यों फिर  जब तुम्हारी मस्जिदें टूटेंगी तब भी छोटी बात ही कहोगे क्या सुअर की औलाद\n",
      "1.0 [[0.49463577]] ये जो तुमने माथे पे बिंदिया लगाई है,  सच कहूँ, बिंदिया  की शोभा बढाई है।    ये जो तुमने कलाई में चूडियाँ पहनी हैं,  सच कहूँ, चूडियों की शोभा बढाई है ।।  #हिन्दी_शब्द                                       #शब्दनिधि\n",
      "1.0 [[0.48513935]] एकदम सही    जितनी तेजी से कांग्रेस डूबी    उससे कई गुना तेजी से bjp जाएगी    धर्मनिरपेक्षता का खूंटा गांड में गड़ा रह जायेगा\n",
      "1.0 [[0.43437566]] ये जाने देश में कैसी लहर चल पड़ी है। चैनलों की बहस में हिस्सा लेने वाले लोग एंकरों को दलाल, भड़वा, चमचा और जाने क्या-क्या कह रहे हैं। ये तब हो रहा है जब लगभग सारे विपक्षी दलों ने अपने ऑफिशियल प्रतिनिधि चैनलों की बहस में भेजने बंद कर दिए है। नाइंसाफ़ी है ये। ग़लत है।   निंदा कीजिए।\n",
      "1.0 [[0.2975218]] उसकी ऒर आपकी यह तीव्र इच्छा अभी तो पूरी होने से रही।  5 साल ऒर इन्तजार करें।  BTW यह #नीच तो पहले भी बोला था मोदी कभी इस देश का पीएम नहीं बन सकता।  एक मुहावरा है #सर 'कुत्ते भॊंकते रहते हैं, हाथी चलता रहता है।'  एक ऒर है #सर 'कॊवों के कोसने से ढोर नहीं मरते'।\n",
      "1.0 [[0.01426891]] जब तक देश से दल्ली मीडिया बिल्कुल से बैन नही होगा तब न सरकार कुछ विकास करेगी, न इस देश का विकास होगा?    बस जहां BJP कमजोर है रोज उसी बंगाल पे डिबेट हो रहा है, UP मे हैवानियत ने सारी हदें पार कर दी है? पर सरकार से कोई सवाल नही।    मीडिया देश से जनता से बहुत बड़ी गद्दारी कर रहीं है।\n",
      "1.0 [[0.48969883]] मेरे सांवरे  अगर तुम खुश होते हो तो कदायी बख्श देते हो    अगर तुम नाराज होते हो तो बादशाही बख्श देते हो    गर तुम अपना बनाते हो तो सब कुछ लूट लेते हो  #राधेराधे\n",
      "1.0 [[0.45734226]] देश में अलग अलग जगह पर दिल दहलाने वाली घटनाएं सामने आ रही है,  एक तो संस्कारो की कमी है या कानून व्यवस्था का डर ही  खत्म हो गया है।  @Anjupra7743\n",
      "1.0 [[0.41591148]] #Amethi  राजीव गांधी जी की पुण्यतिथि 21 मई को है लेकिन पूरा देश आज ही राजीव जी को याद कर रहा है     #नीच को मुंह की खानी पड़ी है  #MainHindustanHoon   #ShameOnPMModi   #शर्म_करो_pm_मोदी\n",
      "1.0 [[0.06014048]] अगर इस्लाम में acting हराम है तो  क्या सलमान, शाहरुख, अमीर और अन्य मुस्लिम कलाकार हरामी हैं\n",
      "1.0 [[0.46538284]] Police को सारा गुस्सा उस समय ही क्यों आता है जब सामने कोई गरीब होता है ।।   जब सामने कोई नेता, विधायक या सांसद होता है तो यही क्रोध कहाँ काफूर हो जाता है।।\n",
      "1.0 [[0.46359735]] मीडिया की ओकात तो विजय वर्गीयजी ने बतादीया है सही कहा विजय वर्गीय ने में समर्थन करता हु , रंडी की तरह  बिकाऊ का मiन ही क्या ओर अपमान ही क्या...?\n",
      "1.0 [[0.4695628]] @DrKumarVishwas randitv के रंडिश कुमार या ये तथाकथित सेक्युलर जमात क्या दिल्ली में मंदिर तोड़ने पे कुछ अपना गंदा से रंडी सा मुँह खोलेंगे,आप भी कुछ बोलेंगे ?????  एक और बात ये अमन पसंद लोग नही है ।\n",
      "1.0 [[0.391938]] अंधा बाटे रेवड़ी फिर फिर अपने देय  अभी साप मारा गया है मुँह नहीं कुचला  गया #कन्हैया_कुमार\n",
      "1.0 [[0.12204097]] चोर, देश द्रोही काफ़िर तु है। सुरेश जी नहीं।  आज तेरा पोल खोल रहा है तो तु बिन पानी मछली की तरह फड़फड़ा रहा है।  तु बचके रहना सुअर बुखारी कहीं तेरा पोल ना खुल जाएं।  और सुन बुखारी राष्ट्र वादी मीडिया को नसीहत देना छोड़ दें।\n",
      "1.0 [[0.05742682]] पते की बात बोल ना रे बसपाई,कि अरबियों ने तुम्हारी अम्मियों से b #गैंगरेप्स ही किए थे,जिससे फिर तुम संसार में आए!यदि न किए होते तो तुम लोग b शायद वैध यानी कि #हिंदू होते!  पता h,अरबी लोग तुम लोगों को हरामी k अलावा और किसी नाम से नहीं नवाज़ते!इधर हम हिंदू तुम्हें हिंदू नहीं मानते!\n",
      "1.0 [[0.49461456]] और ये चाइना का ओप्पो!   वैसे ये सब छोड़ो ये बताओ औक़ात क्या है तुम्हारी ? हैसियत क्या है ?  जाओ #KailashVijayvargiya को बताकर आओ चतुर्वेदी जी\n",
      "1.0 [[0.49296593]] मैने किस को टारगेट किया उस से तुम को क्या प्रॉब्लम है?  मादरचोद जुलहा...  अपने बिहार मे एक कहावत है।  बिन जुलाहे, बिन गुनाहे, 50 जुत्ता।  गर गुनाह किया है तो गिनने की जरूरत नही।  तो आगे से औकात मे रहना। और है अपने रंडी बहन सब को मेरे tl पर मत भेजा कर।\n",
      "1.0 [[0.44495101]] कादर खान और शक्ति कपूर दोनों बन जाओ तो दोनों बच जाएंगे।  आउं। लोलिता।\n",
      "1.0 [[0.17773301]] विपक्ष को “वन” नेशन वन “इलेक्शन” का विरोध करने की बजाय खुली बहस करनी चाहिये, ये अलग बात है कि “फ़िलहाल”  इसका फ़ायदा “भाजपा” को होगा, लेकिन किसी “पार्टी” को लाभ होने के “डर” से,         देश का “नुक़सान”  तो नहीं किया जा सकता.\n",
      "1.0 [[0.13629399]] कोई बेबस नहीं होगा कोई लाचार नहीं होगा ~  जो अब तक हुआ है वो बार बार नहीं होगा ~  बस हुकूमत दरिंदो को चौराहे पर फाँसी दे ~  मेरा दावा है फिर कोई बलात्कार नहीं होगा ~    ~ शाहरुख सिद्दीकी   #shahrukhsiddiqui @srspoet   #TwinkleSharma #JusticeForTwinkle\n",
      "1.0 [[0.34343647]] जो सिर्फ जीना चाहते है वो लोग चुप है, लेकिन जो लोग आत्मसम्मान और स्वाभिमान से जीना चाहते है वो लड़ रहे है।\n",
      "1.0 [[0.38841619]] क्या करे इन्होंने सोचा होगा कि कुछ लोग यही बोलकर संसद पहुँच गए तो हम क्यों नहीं....  #प्रज्ञा_ठाकुर\n",
      "1.0 [[0.36473436]] वैसे भी ये सुअर मस्जिद में करते क्या है एक दूसरे का पिछवाड़ा ही तो देखते है\n",
      "1.0 [[0.37401946]] सच कह दो बुरा मान जाते हैं लोग...  मासूम को जब ट्विटर पर लाकर सेल करने की कोशिश हुई,तभी लगा था कि उसकी किस्मत इतनी अच्छी नहीं जितना दिखाने की कोशिश की गई.हे ईश्वर! उस मासूम का ख्याल रखियेगा \n",
      "1.0 [[0.10863004]] यही अगर किसी मस्जिद में हुआ होता तो तेरे आतंकी कौम वाले पूरे देश मे दंगा फसाद कर दिए होते..दोगले पत्रकार देश मे असहिष्णुता घोषित कर दिए होते.और तू मुस्लिमो का रहनुमा बन कर यह बात पूरे विश्व मे फैला दिया होता कि हिंदुस्तान में मुस्लिम डरे हुए है  हरामी के इस का बदला जरूर लिया जाएगा \n",
      "1.0 [[0.16358131]] कितनी शर्म की बात है न कि हम सोचते है हम अमेरिका चीन और जापान जैसा देश बनाने का सपना देख रहे है।    जहां एक मीम और गाय पर पूरी सत्ताधारी पार्टी  और मीडिया उतर जाती है, वही 200 बच्चों के मरने पर सब गूंगे बन गए है।    क्या पहले ऐसा था हमारा देश? क्या इतनी बेशर्म थी सरकार और मीडिया?\n",
      "1.0 [[0.45567806]] जो भी #केसरिया (भगवा) का विरोध करता है, वो रंग का नहीं #तिरंगे का 'हिंदुस्तान' का विरोधी है।  वो दस बापों का/की औलाद और इंटरनैशनल भड़वा और रंडी है।  @INCIndia  @MehboobaMufti  @bjp  @OmarAbdullah\n",
      "1.0 [[0.32929819]] वो भोपाली जिहादी सुअर अल तकिया चला रहा है।\n",
      "1.0 [[0.40452449]] आजम खान  the   सुअर\n",
      "1.0 [[0.15194319]] तुम जैसे हिंदूद्रोही गद्दार & मुगलो K तलवे चाटने वाले ही अब ज्ञान बांट रहे हैं क्योंकि इस जिहादी हमले में मुस्लिमों की आतंकी भीड़ ने हमारे मन्दिर को तोड़ा है अगर इसके उलट हिन्दू कुछ बोल भी दे तो तुम लोग & ये पालतू केजरीवाल सैकड़ो ट्वीट करता अब ज्ञान न पेल तू सुअर । #TempleAttack\n",
      "1.0 [[0.3985273]] चमक उठी सन सत्तावन में,जो “तलवार”पुरानी थी, ख़ूब लड़ी “मर्दानी” थी वो “झाँसी” वाली रानी थी...बलिदान दिवस पे कोटि कोटि नमन.\n",
      "1.0 [[0.44638028]] जिन भाई बहनों को क़ाबा देखने की तड़प है वो RT करें।     अल्लाह हम सभी को @HolyKaaba देखने की तौफ़ीक़ अता फ़रमाए - आमीन\n",
      "1.0 [[0.4209597]] #भाँड_मोदी का बयान: हमें गठबंधन सरकार चलाने का अनुभव है    #मेरा_बयान: नकली शेर कब #कुत्ते बन कर टोली में भौंकने को राजी हो गए? क्या जनता तुम्हें भोंकने देगी? गलतफहमी में हो #मोदी  देश की जनता तुमसे त्रस्त है और इसबार मतदान तुम्हारे विरुद्ध और @RahulGandhi @INCIndia के पक्ष में था\n",
      "1.0 [[0.35984276]] 'निजीकरण' सरकार की अक्षमता नहीं अयोग्यता हैं।\n",
      "1.0 [[0.42540255]] भाजपा वाले ख़ूब जानते हैं कोन सा #मुद्दा जनता के मुँह पर कब #चिपकाना है #कर्नाटक चुनाव में जिन्ना”गुजरात”में #नीच,”MP”Cg और”राजस्थान”मे”बजरंगबली”दिल्ली”पंजाब”हरियाणा”के लिए #राजीव गांधी और #सिख दंगे,12मई के बाद कोई और,ऐ सिर्फ इसलिए ताकी जनता 2014 का #धोषणा पत्र न देख सके\n",
      "1.0 [[0.34040678]] साले तू भड़वा गीरी ही कर सकता है।  और तेरे बस का कुछ नही। गुफा की पैदावार \n",
      "1.0 [[0.47024473]] अगर साउथ का हीरो ग़लती से भी bc हीरोइन को संगे मर मर का बदन बोलदे भगवान ख़ुद नीचे उतर उसे दो चमाट मार बोलेगा भोसडीके तेरे बाप ने छिनी हथोडी से यह महकाय मूर्ति बनाई है क्या ??    \n",
      "1.0 [[0.0874335]] हाँ आप का अधिकार है दुर्गा मंदिर तोड़ सकते है  हम हिंदुओ से नमक हरामी की हद हो गयी\n",
      "1.0 [[0.39001037]] भारत छोड़ो आंदोलन RSS ने इसमें हिस्सा नही लिया जबकि मुस्लमान सिखों ने अंग्रेजों से पूरा मुकाबला किया,,,\n",
      "1.0 [[0.45367164]] ये मौलवी नहीं है, ये तो भड़वा है\n",
      "1.0 [[0.33721618]] अब भड़वा इतना बजाऊँगी पता नही चलेगा आदमी है या घन्टा है \n",
      "1.0 [[0.37798198]] भक्तों ने सबसे पहला फोटोशॉप तब किया था जब अपने बाप की शक्ल हटाकर #नीच मोदी की शक्ल चिपकाई थी।  उसके बाद पैसा कमाने का धंधा मिल गया \n",
      "1.0 [[0.44100964]] लोगो का कॉन्फिडेंस तो देखो भेनचोद   इंजिनियरिंग की 26-26 Backlog पड़ी है  और डिग्री भी अभी तक खतम नहीं हुई है  फिर भी वो साले GPSC एक्जाम की तैयारी कर रहे हैं.      मतलब कैसे कर लेते हो भेनचोद ये सब.  इतना कॉन्फिडेंस लाते कहा से हो यार.\n",
      "1.0 [[0.4540994]] यह मोदी नाम कुछ पिता है क्या है ।भड़वा पत्रकार\n",
      "1.0 [[0.31519472]] PM ने अपने मंत्रियों को दफ़्तर समय पर जाने और ‘घर से काम’ न करने का निर्देश दिया है?    देख लो अंधी जनता BJP ने 5 साल सिर्फ मज़हब-जाती और गोदी मीडिया का सहारा लेकर चुनाव जीत लिया है।    उम्मीद है कि इसे सुन के 5 साल मज़हब पे नही विकास रोजगार महिला सुरक्षा जैसे मुद्दे पे सवाल करोगे।\n",
      "1.0 [[0.45064639]] तेरे जैसे मादरचोद की कोई नही सुनता\n",
      "1.0 [[0.2654617]] बीजेपी ने तो जय श्रीराम का नारा लगाया जो कि सही हैं क्योंकि इससे करोड़ों लोगों को भाईचारा का संदेश मिला।मगर जो लोग #देश तोङने वाले नारा लगाए उनको क्या कहेंगे #नीच राजनीति का उदभवकर्ता या #देश द्रोही  #जय श्रीराम\n",
      "1.0 [[0.39126177]] मुस्लिम की दुकान पर नहीं आसाराम की कुटी में भेजा करो भोसडीके\n",
      "1.0 [[0.44826453]] टाइटैनिक फिल्म का हीरो चेन्नई में पानी की कमी पर फिक्र जता रहा है और इन्हें संसद में नेहरू को कोसने से ही फुरसत नहीं।\n",
      "1.0 [[0.17829289]] अबे कुछ तो बोल दे .मुसलमानों की भीड़ ने 100 साल पुराने हिंदू मंदिर में जमकर तोड़फोड़ किया सारी मूर्तियां तोड़ डाली और यह दोगला नीच अपनी बेटी की उपलब्धि बता रहा है अगर मस्जिद में हमला हुआ होता तो यह लहंगा उठाऊ डांस करता  pakka भडवा है\n",
      "1.0 [[0.44192896]] मुझे दुख इस बात की नहीं है   कि #कन्हैया_कुमार हार गया,मुझे दुख इस बात का है कि वह ढाई लाख देशद्रोही  कौन थे?  जिन्होंने कन्हैया को वोट दिए!!  #Bihar\n",
      "1.0 [[0.35128784]] अबे भाई मुझे समझ में नहीं आता @narendramodi और @BJP4India को हम लो क्यूँ जिताये थे.........ताकि इन सुअर की औलादों की माँ ******** जाए लेकिन ये लोग तो भी वही निकले.........चूड़ी वाले\n",
      "1.0 [[0.19511289]] आज भी कई लोगो को गलिय पड़ती पर वो चुप रहते ह सही पगर नही मिलती फिर भी काम  करते है उनसे ये बोल जाता है अभी काम का लो फिर तंख्वा बढ़ा देगे फिर काम होने पर निकल दिया जाता है   #कमीने मालिक #दिलसे\n",
      "1.0 [[0.49654822]] बेटा #कन्हैया_कुमार चच्चा का बहुत कुर्ता खिंचे हो ना अब का खिंचेगे अपने बाल या कान? \n",
      "1.0 [[0.4432678]] Those who are born from 12 peoples spearms at once inserted in theirs mothers.     ये भोसडीके एक बाप की औलाद हो ही नही सकते\n",
      "1.0 [[0.45463042]] इधर #बात न बने तो #उधर #ट्राई मारते है  लड़के #कमीने कहा #हार मानते है\n",
      "1.0 [[0.21542241]] ढ़ोंगीबाबा बाबा अगर सत्य लिखने में गाँड फटती है तो मत लिखो, लेकिन ईतना भी गांडू मत बनो की तुम्हे मन्दिर तोड़ने वालों में मुस्लिम दिखना ही बन्द हो जाये।।।  बेफिक्र होकर लिखो अगर कही कोई हिन्दू मस्जिद तोड़ता है तो लेकिन इस तरह की दोगलापंथी मत कर,,,,,,,,,ढोंगी कही का।  चल फुट\n",
      "1.0 [[0.47947792]] सुषमा स्वराज जी ने बंगला खाली कर दिया।    सोशल मीडिया पर इसकी बहुत तारीफ हुई।    अब बताइये कोर्ट द्वारा जबरन सरकारी बंगला खाली करवाने पर टोटी टाइल्स उखाड़ ले जाने वाले नेता क्या लेंगे उनसे सबक!     #अखिलेश        #सुषमा_जी       #निशु    \n",
      "1.0 [[0.39119582]] हरियाणा बीजेपी सरकार ने बाबारामरहिम का जेल में आचरण अच्छा बताया मतलब बेटी बचाओ आंदोलन की तरफ बीजेपी का शानदार कदम,,,  @ziddy_zoya\n",
      "1.0 [[0.29651942]] बताओं.....इनकी औकात क्या हैं.....??  ये मैं नहीं...बल्कि BJP का बच्चा चोर नेता कैलाश विजयवर्गीय पूछ रहा हैं !  वैसे मेरे विचार से तो ये सब......भड़वा और दलाल हैं ! \n",
      "1.0 [[0.23219563]] गांडू मदारी तो भड़वा मोहम्मद पैगम्बर हे सूअर गलत का विरोध करना अल्लाह टला हिजड़े ने नही सिखाया तुम्हे भडवे\n",
      "1.0 [[0.24567296]] बंगाल में एक पेड़ गिर जाए चार-छे पत्ते बिखर जाए तो दल्ली मीडिया वहां पहुँच के नंगा नाच सुरु कर देती है??    ममता से नही सम्हल रहा बंगाल, बंगाल का हाल बेहाल जैसे हेडलाइन बनते है।    वही UP मे 10 दिनो से लगातार हत्या और बलात्कार हो रहे है? इसपे मीडिया ऐसे चुप है जैसे UP यूगांडा मे है।\n",
      "1.0 [[0.40117143]] ऐसा ही मुसलमानो का रवैया रहा तो जमामसजिद पर धावा बोलना पडेगा साथ मे मिडिया रंडी रोना रोये तो यही सवाल करना है मंदिर पर सनाटा और मसजिद पर रोना ये कैसे चलेगा\n",
      "1.0 [[0.45739506]] हिन्दुस्तान के ईस्लाम में लड़कियों-महिलाओं को रंडी बन कर देह बेचना हराम नहीं है, पर फिल्मों मे काम करना हराम है।  मुश्किल ये है कि मुस्लिम लड़कियां अगर तरक्की करेगी तो मौलवियों की बिस्तर ठंढ़ी हो जायगी। थू..... \n",
      "1.0 [[0.44933852]] भक्त कहते हैं कि #साहेब शेर की तरह दहाड़ते हैं, मगर #PressConference में ऐसे मौन बैठे थे जैसे क्लास में टीचर ने बच्चे को चुप रहने की सज़ा दी हो     #MuteModi\n",
      "1.0 [[0.34999644]] पूरी मुस्लिम कौम ही पत्थरबाज हो गई हैं।यहाँ का वीडियो देखकर कश्मीर में इन्हें पत्थरबाज की नौकरी पक्की।\n",
      "1.0 [[0.19666442]] अरे सुअर चिंता मत कर हिन्दू भी किसी मस्जिद तो तोड़ देंगे और फिर मस्जिद को बनवा देंगे।फिर देखूंगा उस दिन तू क्या बोलता हे।\n",
      "1.0 [[0.17935096]] भड्वे कामचोर लोगों की पार्टी समाजवादी पार्टी तुम्हारे 2 MP सूअर की औलाद हैं जिन्होने जया प्रदा को तवायफ कहा वो साले  सूअर की पैदायश हैं।\n",
      "1.0 [[0.41770421]] He is a #नीच also  Will all bjp leaders accept it too? #मनीशंकर\n",
      "1.0 [[0.33026908]] #प्रज्ञा_ठाकुर की जीत शर्मनाक जिसने  शहादत को सूतक श्राप से हुई मौत कहा,  गोडसे को देशभक्त कहा जबकि दूसरी  तरफ पाक की जनता ने हाफिज सईद की  जमानत जब्त करा दी थी,छोड़िए सरकार   किसकी बनी या नही,हमारी बौद्धिक संपदा  नष्ट हो गई झूठ,छल कपट,अपशब्द ये है  न्यू इंडिया बधाई हो आपको\n",
      "1.0 [[0.16820629]] इस हरामी चुतिये की अक्ल अब खुल रही है \n",
      "1.0 [[0.19158159]] That is why he is unable to speak against his friends,  मैंने इनका नमक खाया हैं। नमक हरामी कैसे करूँ।  @drharshvardhan\n",
      "1.0 [[0.44525066]] दिल्ली में 300 मुल्ले मंदिर तोड़ते है     ओर ये मुल्लो का पिछवाड़ा चाटने वाला केजरीवाल झारखंड के चोर मुल्ले को 5लाख देता है भड़वा    @ArvindKejriwal   @MithileshTpt @shuklaji__\n",
      "1.0 [[0.21275718]] मतलब कुछ भी पब्लिश कर दोगे अगर न्यूज चैनल हो तो, कुछ भी फुद्दू से घटना को बना दो हिन्दू मुस्लिम का मुद्दा, भोसडीके न्यूज चैनल्स सच में चूतिया गए है आजकल। कुछ नहीं मिला पब्लिश करने को तो बस लग जाते है हिन्दू मुस्लिम के बीच लगी आग में तेल डालने\n",
      "1.0 [[0.40976179]] कृपया, आप इस रंडी की औलाद महमूद को कहां से ले आते हो. इसे अपने कार्यक्रम से भगा दो. वर्ना सभी हिन्दू भाई news18india का वहिष्कार कर रहे हैं. मेरी सभी हिन्दुओं से अपील है.\n",
      "1.0 [[0.35259931]] गाय का गोस्त ले जाता पकडा गया भाजपा का कार्यकर्ता हैदराबाद मंदिर मे ले जा रहा था दंगे करवाने के लिए#अंधभक्तों की #नीच हरकत, ये चाहते ही नहीं देश में #शांति  @Zubeena_ @EngrKhalid7 @ShekhJiyarat @pihugreat @Gajendr34511205 @Abdal__Abdullah @RiituS\n",
      "1.0 [[0.3765351]] 18 साल का सैनिक शहीद हुआ तो वह बच्चा नहीं था और     25 साल का पत्थरबाज मारा जाए तो वह बच्चा था   कौन सा नशा करते हो #### के\n",
      "1.0 [[0.05693963]] बात आपकी बिल्कुल सही है. लेकिन दिल्ली का मुखिया घुँघरू सेठ UP, झारखंड etc तक भाग जाता है सरकारी नौकरी और मुआवज़ा देने शांतिदूत कौम को लेकिन वो ही जिहादी हरामी मुँह में दही जमा लेता जब दिल्ली में शांतिदूत कौम अगर महा आक्रामक हिन्दू समाज पर हमला करता है तो. \n",
      "1.0 [[0.3920604]] #AarPaar:राहुल गांधी जी बीजेपी के लिए चुनाव प्रचार सामग्री है. राहुल गांधी से देश नहीं चलेगा देश तरक्की चाहता है बेहतर इलाज चाहता है, राहुल गांधी क्या कर रहे थे उस से मतलब नहीं है. @syedasimwaqar प्रवक्ता #AIMIM @News18India पर. @AMISHDEVGAN   @asadowaisi\n",
      "1.0 [[0.37813894]] अनपढ़ लोगो की वजह से ही हमारी मातृभाषा बची हुई हैं साहब  वरना पढ़े हुए कुछ लोग तो राम राम बोलने में भी शरमाते हैं !  #राम_राम\n",
      "1.0 [[0.31244805]] सूअर गटर मे पडा़ रहना चाहता हैं तो पड़ा रहने दो भाई\n",
      "1.0 [[0.47038989]] @UPGovt  @myogiadityanath  गांड मे जब नही है गुदा तो क्यो लंका मैं कूदा  हमे अज़ादी दो योगी जी ईन कटवो कि हम माँ चो... देंंगे\n",
      "1.0 [[0.43631727]] मेरे बिहार k परिजनों,ऐसी सेवा करना इस #कमीने की,k फिर आतंकवाद की किसी b type की कोई सेवा करने k योग्य ही न रहे!हमें ऐसे सेवक नहीं चाहिए जो हमारे #रक्तवंशियों को उजाड़ कर #मलेच्छों k लिए खड़े2 #प्राण लुटाते हों!  #भाई_से_भाई_लड़वाएगा_तो_मार_ही_खाएगा न!ये #म्लेच्छ गुजरात पर #कलंक h!\n",
      "1.0 [[0.34821834]] भोंसड़ी के तुम दोनों फ्रॉड हो     दोनो माके लौंडे हरामी हो\n",
      "1.0 [[0.26511876]] आज तक मिडिया मूरदाबाद है साले  हिन्दू बहन बेटियों को लव-जिहाद में फसा कर जिन्दा जला देते हैं तब मिडिया वाले कुत्ते किधर मर जाते हैं साले भड़वे भौसडिके आज तक वाले कुत्ते है  हिन्दू समाज के भाईयों आज तक चेनल न देखें\n",
      "1.0 [[0.33999206]] मिडिया में न्याय स्कीम की चर्चा नही हुई...   -ये बयान न्यूज़ #एंकर का है कि #कांग्रेस प्रवक्ता का?   तुम लोगो ने तो राहुल गांधी के #कुत्ते से लेकर #समोसे तक को कवरेज दी...   तुम सब राहुल वाले पत्रकार हर इंटरव्यू में मोदीजी को नीचा दिखाते थे...छींटाकशी करते थे...  हम भूले नहीं है_\n",
      "1.0 [[0.43598934]] AIMIM सांसद @asadowaisi का PM पर बड़ा हमला, कहा उनकी कथनी और करनी में फ़र्क़ है. उन्हें शाहबानो याद आती हैं मगर तबरेज़ और अख़लाक़ याद नहीं आता.  @News18India\n",
      "1.0 [[0.47971365]] अगर इतना ही बदलाव लाना था तो फिर आपने गंदगी फैलाई क्यों?  वादे तो करते हैं लेकिन कोई वादा पूरा नहीं करते. @syedasimwaqar #AIMIM on #HTP क्या मदरसों में सुधार कर PM मोदी मुसलमानों का भरोसा जीत पाएँगे? #मुसलमानों_के_मोदी @nehapant19 at @News18India   @asadowaisi\n",
      "1.0 [[0.48707127]] गोदी मीडिया आतंकवादी बोलने में तेरी गांड क्यों फट रही\n",
      "1.0 [[0.24307314]] जब तक सरकार स्पष्टीकरण नहीं करती है तक तक सरकार द्वारा जो भी विज्ञापन निकाल कर भर्ती करने की तैयारी चल रही है उस पर रोक लगाई जाय अगर सरकार ऐसा नही करती है तो यह साफ होगा सरकार इन 17 अतिपिछड़ी जातियों के साथ धोखा करने जा रही है।\n",
      "1.0 [[0.21921556]] अब मंदिर वही बनाएंगे भी हुआ जुमला   मंदिर थोड़ा साइड में बनाएंगे     तो फिर अब तक बबाल किस बात का  चुनाव आते ही बीजेपी वालों को राम मंदिर याद आता है    राम के नाम पर लिया गया करोड़ों रुपये का चन्दा डकार जाते हैं  कुर्सी मिलते ही राम को भूल जाते हैं ऐसा क्यों?  @AbbasAliRushdi @LambaAlka\n",
      "1.0 [[0.48858677]] #प्रज्ञा_ठाकुर का पुतला जलाना ही पड़ेगा अब, बहुत बज रही है,   पहले #नाथूराम ओर अब #आरक्षण।\n",
      "1.0 [[0.25737826]] चोदू साले, कटे हुए लुंड की आधी पैदाइश... चौकीदार जेल में नही है और ना ही उसपे कोई केस भी है। ललुआ जेल में है वो भी बहुत सारे मामलों में। सज़ा याफ्ता कैदी है वो\n",
      "1.0 [[0.41775132]] योग नहीं मेडम ढकोसला करेंगी  साथ में आप भी कर लेना,,,\n",
      "1.0 [[0.49038732]] पहले बलात्कारी को आखिरी दम तक बचाया जाता है अगर उसे सजा हो गई तो जेल में  उसका अच्छा आचरण बताया जाता है,,,\n",
      "1.0 [[0.44223853]] कभी कश्मीर सुनते ही हसीन वादियाँ  कल्पना में ल्वत: आ जाती थीं पर  अब पत्थरबाज, देशविरोधी गतिविधियाँ और आतंकवादीयों का  आश्रयस्थल कल्पना में  कश्मीर सुनते ही  आ जाता है ।\n",
      "1.0 [[0.39944509]] तो तूने क्या किया है सिवाय धरना देने के ? bjp का नाम लिए बिना तुम सुअर लोगों का खाना नहीं पचता । bjp से बेहतर व्यवस्था तूने अपने पूरी बाप जिंदगी में नहीं देखी होगी ।\n",
      "1.0 [[0.48238761]] अरे मदार चोद ये भगवा आतंवादी है ये नहीं पता है इस रंडी को\n",
      "1.0 [[0.38945176]] 5 साल से रंडी रोना रो रहा है एक को तो भेज के दिखा पिछवाड़े मे दम है तो। ये बाप का हिन्दुस्तान नही है। जिस दीन हम भगाना शुरू कर देगे तो तू कहीं जाने लायक नही रहेगा\n",
      "1.0 [[0.45459346]] चल बे सुअर तेरे जैसे कुत्तो के मुँह से देशभक्ति की बात अच्छी नही लगती।\n",
      "1.0 [[0.46622732]] कहाँ है दिल्ली का मालिक भड़वा  @ArvindKejriwal   मन्दिर में तोड़फोड़ पर चुप ??\n",
      "1.0 [[0.46108039]] भड़व़ा आत़ंक़ीं  हैं सब ये ??\n",
      "1.0 [[0.39509838]] @ikamalhaasan रिश्ता #श्री_विद्या से दूसरा #वाणी_गणपति तीसरा #सारिका (जिसकी श्रुति हसन और अक्षरा है) चौथा #सिमरन_बग्गा जो 22 साल उम्र में छोटी थी पांचवा #गौतमी_ताडिमल्ला जिसके साथ अभी रह रहा है ...  चरित्र का इतना #नीच आदमी बता रहा है कि गोडसे भारत का पहला आतंकवादी था....\n",
      "1.0 [[0.41645293]] सुअर की औलाद है घर मे भी हवस पूरी करते होंगे\n",
      "1.0 [[0.43654409]] तुमने हमारा मंदिर तोडा है हम तुम्हारी गांड तोड़ेंगे।। समझे मियां केजरुद्दीन\n",
      "1.0 [[0.41297527]] दिल्ली में मंदिर में हमला होता है   और केजरी भड़वा सोता है ।\n",
      "1.0 [[0.06266333]] क्यों बे झाँटु कुत्ते जब तेरे जैसा 2 कोड़ी का भड़वा हरामी बलात्कारी नेता बन सकता है तो क्या नहीं हो सकता और पार्टी को चंदा मिलता है कांग्रेस जैसी पार्टी की हालत यह है की लोग  10 रूपये भी चंदा नहीं देना चाहते \n",
      "1.0 [[0.22787431]] मा*रचोद मुल्ला।हिम्मत है तो सामने आकर काफिर बोल,साले हलाला से पैदा हुआ है न फिर से वहीं घुसा दुँगा।सुअर पालते हो और सुअर की पूजा करते हो मस्जिद में तुम सब।\n",
      "1.0 [[0.29528471]] जिनकी हिंदी अच्छी नही है वह कुछ गलत बोलकर माफी मांगते हुये कई बार देखे गये लेकिन जिनकी हिंदी अच्छी है उन्होंने कितना भी गलत बोला हो उन्हें कभी माफी मांगते हुये नहीं देखा गया और ना ही इस पर कोई चर्चा हुई।    चन्दन राय, युवा कवि\n",
      "1.0 [[0.38977845]] भो्‍सड़िके दलले अपने जैविक पिता मोदी योगी की gaand से बाहर आजा नहीं तो दम घुट जाएगा तेरा ज़हर वाली वायु मे\n",
      "1.0 [[0.30812524]] महोदय - हसन साहब को अंग्रेज़ी मे आपका संदेश समझ मे नही आयेगा - हिन्दी मे अनुवाद करने का प्रयास कर रहा हूँ     “पहले इनको दलाल / भडवा / दल्ले कहा जाता था, आज बस एस टी हसन कहते हैं” \n",
      "1.0 [[0.30111861]] अरे आंटी कहां घोड़े बेच कर सो रही थी कि तुम्हें पता ही नहीं वह लोग कौन थे वह थे भगवा आतंकी और सड़क छाप संघी गुंडे ।\n",
      "1.0 [[0.3195528]] इस मुल्ली को कितना तकलीफ हो रहा हैं की इसका एक जीजा के उपर चार्ज शीट दाखिल हुआ हैं और हा इसको हर मुसलमान बेगुनाह ही दिखाई देता हैं दोषी तो बस सिर्फ हिन्दू हैं,, हिन्दू मुस्लिम में राजनीतिक करने वाली रंडी हैं ये जो दुसरे को बदनाम करके अपनी रोटी शेक रही हैं\n",
      "1.0 [[0.14114399]] वो तो ठीक है लेकिन मन्दिर की मूर्तियों को तोडने की प्रतियोगिता किसने रखवायी थी वो तो बता दो। हरामखोर मुस्लिम मरे तो रँडी रोना ।हिन्दू मरे तो जुबान को लकवा मार जाता है साले हरामखोर दोगले।\n",
      "1.0 [[0.44206006]] कश्मीर से धारा 370 और 35A हटा दें तो कश्मीर को उत्तर भारतीय यूपी बिहार बना देंगे फिर आतंकी और पत्थरबाज अपने आप भाग जाएंगे।\n",
      "1.0 [[0.39764775]] @RahulGandhi जिसने भी मोदी को #नीच कहा वह हलाला की पैदाइश है,न विश्वास हो तो अपनी अम्मा से पूछ लें!  जिस भाषा मे बोला जायेगा उससे भी गन्दी भाषा में जबाब आयेगा,  @rssurjewala @AnandSharmaINC @JhaSanjay @divyaspandana @priyankagandhi\n",
      "1.0 [[0.26500154]] साले चाधरमोद इतने जूते पड़ेंगे ना की सूअर जैसी शक्ल बागड़बिल्ले जैसी हो जाएगी, सूअरों तुम्हारा इलाज अब तरीके से किया जायेगा, इंतजार करो \n",
      "1.0 [[0.23830128]] साला तुम लोग दिल्ली मे हिंदु मंदिर तोडा जाता है कुछ नही बोलते और बाकि मामलो मे गांड मराते हो बढा चढाकर दोगले \n",
      "1.0 [[0.38947427]] तो हो जाओ ना दफन,अल्ला हु अकबर बोल कर हमारे मंदिर क्यों तोड़ रहे हो,सहनशीलता की भी एक हद होती है,गुजरात का रंडी रोना रोने वालो गोधरा क्यों भूल जाते हो!\n",
      "1.0 [[0.3146156]] इस सूअर को यहाँ आने किसने दिया   ये भोसडिके सबके लिए हराम है\n",
      "1.0 [[0.40579844]] टाटा स्काई इसको लगा डाला तो बजेपी का जिगलाला । #कमीने\n",
      "1.0 [[0.39913452]] कभी कभी लगता है ओवैसी नाम नहीं ब्रांड है  @asadowaisi @imAkbarOwaisi @syedasimwaqar @shaukat_aimim\n",
      "1.0 [[0.47586166]] यह गलतफहमी है कि हिंदी-उर्दू में कोई पैदायशी वैर था। दोनों भाषाओं में फर्क तो अंग्रेजों की शह पर उन नेताओं ने पैदा की जो खुद अंग्रेजीदां और भाषा विमुख थे। इधर हिंदी भारत में वोट बैंक राजनीति का मोहरा बनी और उधर उर्दू पाकिस्तान में राजभाषा न बन सकी सकी।\n",
      "1.0 [[0.39134147]] में क्योकि वह तुझे नीची जाती में नहीं gernal में काउंट किया जायेगा\n",
      "1.0 [[0.38700094]] भगवा ब्रिगेड सभी शिक्षण संस्थानो को खत्म करना चाहती है भाजपा चाहती है कि युवा पढ़े नही पकोड़े बेचे,जेनयू के बाद अब सुनियोजित तरीके से अलीगढ़ मुस्लिम यूनिवर्सिटी का माहौल खराब किया जा रहा है ऐसी स्टूडेंट्स विरोधी शिक्षा विरोधी सरकार को हम सत्ता से हटाकर ही रहेंगे। #StandWithAMU\n",
      "1.0 [[0.08415857]] BJP भी जानती है कि यह हरामी बदशकल बहुत ही महाचूतिया, सुअर से भी गिरा इंसान है, बुरा ना मानो कीचड़ से लथपथ इस जानवर का @ManojTiwariMP @DocVatsa @AamAadmiParty @ravi4354 @JanLokPaal\n",
      "0.0 [[0.54366029]] झुँड में सिर्फ तीन प्रजाति ही शिकार करते हैं..  1- #कुत्ते  2- #हिजड़े  3- #भगवा_आतंकी\n",
      "0.0 [[0.66230668]] Police system pura des ka kharab ho Chuka h is par koi action nahi leti h koi sarkar or bharsth police ki sankhya badhti ja Rahi h\n",
      "0.0 [[0.53271951]] समस्या ये है कि अगर हैक होने की बात कही तो चुनाव आयोग कह देगा आओ हैक करके दिखाओ  सब जानते हैं कि हैक होगी नहीं तो नया बहाना तो ढूंढेंगे  #EVMHacking #कुत्ते     वैसे पार्टियों का हाल ये  है अभी #ExitPolls के बाद से\n",
      "0.0 [[0.81118476]] । इस वीडियो पर ज्यादा टिप्पणी ना करें क्योंकि हमारी सरकार मुसलमानों का विश्वास जीत रही है पहले तो यह पत्थरबाज सिर्फ कश्मीर में देखे जाते थे अब यह हिंदुस्तान के कोने कोने में हैं मुसलमानों का विश्वास जीतने के लिए हिंदुओं का विश्वास खोती हुई भारतीय जनता पार्टी बहुत दुख बहुत निराशा\n",
      "0.0 [[0.81236253]] ये सब कुछ जाँच के लिये हो रहा है या चुनाव जीतने के लिये ? एक “सत्य”सवाल !    @AbbasAliRushdi\n",
      "0.0 [[0.58019816]] तु डुकर का भी वही होंगा, और तेरे नाम से समझ आगया है के तुम्हारी एक ही बिरादरी है जो ये सारे नफ़रतों का बाज़ार जमाके रखे हो। अरे हरामी अपना नहीं तो वो बच्ची का सोच के तेरे साथ भी वो हो सकता है जो विडीओ वाले के साथ होंगा। \n",
      "0.0 [[0.57280802]] @RahulGandhi @narendramodi जी को चोर बता सकते है,   उनकी माताजी @narendramodi जी को #मौत_का_सौदागर बता सकते हैं,   #मणीशंकर_अय्यर @narendramodi जी को #नीच बोल सकते हैं।     पर @narendramodi जी की क्या औकात की वो गांधीपरिवार को कुछ भी बोले!!    #NamdarVsKamdar\n",
      "0.0 [[0.62001661]] मिट रहे फ़ासले, खुल रहे रास्ते: @digilocker_ind को 2.38 करोड़ से अधिक लोगों को इस्तेमाल कर रहे हैं।     डिजिटल इंडिया, चलो बनाएं न्यू इंडिया। #DigitalIndiaNewIndia\n",
      "0.0 [[0.8625686]] स्कूटर खड़ी करने पर बहस हुई दोनों में हाथापाई हल्के से जख्मी हुए सब ठीक है, मुहल्ले की बात कोई परेशानी नहीं है।    हां कुछ अलगावबादी सुअर के पिल्ले समाज के दुश्मनों के बातों में न आएं !\n",
      "0.0 [[0.6473487]] भक्त बेचारे कल से परेशान है !  की पकौडे बेच कर 5 लाख कैसे कमाए..     और मोदी जी की छूट का हक़दार बने !! \n",
      "0.0 [[0.70173372]] ये जो अंजना,  रुबिका , सरदाना लिंचिंग की खबर पर तुलनात्मक विश्लेषण करते हैं ना ये विश्लेषण नहीं होता ये उसे जायज़ ठहराना होता है ।  अगर मगर लेकिन अब तब ये सब अपने सरकार माई बाप के दामन पर लगा खून का धब्बा चाटने के लिए किया जाता है ...     Via @Arifkindian\n",
      "0.0 [[0.56146864]] मारो इस हरामी की औलाद को पकड़ के। साला नपुंसक, एक लड़की के साथ दुर्व्यवहार कर रहा है।\n",
      "0.0 [[0.70742818]] क्या बे #कटुए #कुत्ते, तू क्यों भौंक रहा है??   #पोर्किस्तान के निवासी\n",
      "0.0 [[0.61148977]] जी सही कहा आपने सुअर आचार्य जी  दंगाईयो का कोई धर्म नही होता अगर दंगाई   विशेष समुदाय से हों पीड़ित बहुसंख्यक हो  मगर पीड़ित जालीदार टोपी वाला हुआ तो  दंगाईयो का धर्म भी होता हैं और अगड़ा समुदाय   भी होता हैं वाह क्या कहने तेरी घटिया सोच के\n",
      "0.0 [[0.91839783]] AMU को बीते साढे चार साल मे लगातार निशाना बनाया गया है। अब फिर से AMU मीडिया के ट्रोल्स और बजरंग दल के निशाने पर है। AMU पर विपक्ष का कोई नेता जुबान नही खोल पाया है, सिर्फ भीम आर्मी ने आवाज़ उठाई है। भाई @BhimArmyChief का AMU के लिये आवाज उठाने के लिये बहुत बहुत शुक्रिया।\n",
      "0.0 [[0.99422197]] भैया जी उत्तर प्रदेश के हर जिले के जो जिला अध्यक्ष हैं 70% परिवर्तन ला दीजिए साथ ही पूरे उत्तर प्रदेश समाजवादी कार्यकर्ता पदाधिकारी नेता तो आप आदेश दीजिए हर जुल्म ज्यादती के खिलाफ रोड पर उतरना ही उचित है अगर संभव हो भैया जी तो आदेश करें आपका बूथ प्रभारी विधानसभा 346 मुबारकपुर से बूथ संख्या 119,120,121,122,धन्यवाद जय अखिलेश जय समाजवाद जिंदाबाद जिंदाबाद\n",
      "0.0 [[0.71650436]] कल जयपुर में हुए IPL मैच में लोगों ने लगाये *चौकीदार चोर है* के नारे.....\n",
      "0.0 [[0.62408009]] कैसा लगेगा ये सुनकर कि श्रीनगर मे  शहीद सैनिक औरंगज़ेब की हत्या  आतंकियों ने नही बल्कि आतंकियों के  मददगार कुछ संघी सैनिकों ने करवा दी?  हाँ 3 सैनिकों को आतंकियों कि  मुखबरी करने के आरोप में गिरफ्तार  किया गया है, लेकिन दिनभर टीवी पर  जवान-जवान करने वाले ऐंकरों को  औरंगजेब जवान नही लगता।\n",
      "0.0 [[0.56310934]] Sabhi party jila ikai ko tatkal prabav se bhang kar ke phir se ?????????\n",
      "0.0 [[0.9376709]] इस FBपोस्ट को पढें क्योंकि ऐसे ही घटीया सोंच के ABVP कार्यकर्ता होते है जो महिलाओं को हमेशा गलत नजरिए से देखते है। इनका बस चले तो ये अपनी सगी बहन को भी नहीं छोडते    महिला विरोधी होना ही RSS के कोर्स में है और कुछ भक्त इस कोर्स को पूरी कर भाजपा के नेता बने बैठे है। @abhisar_sharma\n",
      "0.0 [[0.60922111]] #GhantiBajao में आज रात 10 बजे @anuraagmuskaan के साथ देखिए    जायरा का मजहब-मजहब... तो मुमताज,नर्गिस, मीनाकुमारी का धर्म क्या ?    जायरा को अल्लाह ने नहीं 'कठमुल्लाओं' ने भटकाया !\n",
      "0.0 [[0.68120683]] बेगूसराय से #कन्हैया_कुमार को इतने वोट तो मिलने ही चाहिए जितने सहला राशिद के बैग से ****** मिले थे।  #स्मृति_ईरानी #VijayiBharat\n",
      "0.0 [[0.7706486]] आदरणीय राष्ट्रीय अध्यक्ष जी माफी के साथ कहना चाहता हूँ । सडक पर उतरये और सबको आदेश करये वरना समाजवादी नौजवान अपनी प पहचान खो दे गा।\n",
      "0.0 [[0.59778389]] प्रभु जी व्यस्तता एक सांसद की हमेशा बनी रहती है। कोई दो राय नहीं है। लेकिन अगर पुलिस की सिर्फ़ इस घटना पर अभी तक FIR हुई है तो बहुत ही गंभीरता से सोचना होगा। कि इस ज़मात के सुअर गुंडों पर सख़्त करवाई अभी तक क्यों नहीं हुई।    सबका साथ, सबका विकास, सबका विश्वास..झूठ लग रहा है...अब \n",
      "0.0 [[0.61374188]] @Binakahelunga   इस #कमीने के घर मे बहन शायद नही भी हो पर #माँ.......... तो होगी ही !\n",
      "0.0 [[0.9543329]] उस्मान मियाँ के पीठ में दर्द हुआ    अल्ट्रासाउंड केलिए radiology पहुंचा..    डॉ: “कमीज़ उतारो, पजामे का नाड़ा खोलो, उल्टे लेट जाओ...”    उस्मान मियाँ :- “ मे के रिया था के पहले अल्ट्रासाउंड कल्लेते।”  \n",
      "0.0 [[0.83321335]] ये रंडी रोना बंद कर के.. अब हर बलात्कारी को सजा खुद जनता दे, तो ज्यादा बेहतर होगा,\n",
      "0.0 [[0.70336758]] @AkashVOnline जैसे सूअर के लात पड़ती है तेरा भी हाल कुछ ऐसा कर दिया मोदी ने। तेरे जैसे कायर, नपुनसक और गंदी नाली के कीड़े का यही हाल होना चाहिये। देखा जनता का दनादन? १३० करोड़ लोग तेरे सड़े हुए मूँह पर थूकते हैं।\n",
      "0.0 [[0.88333625]] गाली नहीं देनी चाहिए!मजबूर हूँ-मांजरेकर इतना बड़ा मादरचोद है इसको पता नहीं धोनी से क्या समस्या है.ये मादरचोद को उससे समस्या है और अगर इस मादरचोद मैं दम है तो सीधे उससे बात करे,लेकिन अगर ये पब्लिक के सामने इस देश के शान को खराब करने की कोशिश करेगा तो ये समझ जाए! @sanjaymanjrekar\n",
      "0.0 [[0.99911068]] स्थानीय लोगो के अनुसार तबरेज की मौत के बाद उस इलाके में ओवैसी के पार्टी के मुल्ले जम कर गुंडागर्दी कर रहे हैं वहाँ ओवैसी के गुंडों ने आके घरों मे घुस घुस के महिलाओं के रेप और हत्या की धमकी दी और ओवैसी जिंदाबाद के नारे लगाए    लेकिन मीडिया इस पर पूरी तरह खामोश है!\n",
      "0.0 [[0.90317737]] BREAKING: बीजेपी विधायक आकाश विजयवर्गीय को जमानत मिल गई है. @AkashVOnline को भोपाल स्पेशल कोर्ट से दो मामलों में 20-20 हजार रुपये के मुचलके पर जमानत मिली है. पहला मामला बिना इजाजत प्रदर्शन करने का था और दूसरा मामला नगर निगम अधिकारी के साथ मारपीट का था\n",
      "0.0 [[0.61450899]] Tay Ho gaya Bhaiya Ji ki kitne mai Seat Bechni Hai Congress Ko\n",
      "0.0 [[0.54393387]] अमन की शांति की बात सुअर मादरचोदों को नही समझ में आएगी क्योंकि इनकी अम्मी औरंगजेब से चुदी है समझ गए बे मादर चोद रंडी के बच्चे\n",
      "0.0 [[0.67568759]] रंडी तू मोदी जी के  बाहों मेँ नहीं पहुँच पाएगी  जितना मर्जी बकवास कर ले जहर उगल ले क्योकि इमरती बाई तुझे लग नहीं लगने देगी तेरी इसी दोगलेपन ने बॉलीवुड मेँ काम नहीं मिलता था एक काम कर प्रिया से सम्पर्क कर पोर्न स्टार बन जाएंगी इसी लायक बची है तू\n",
      "0.0 [[0.73136661]] ये एक ऐसा #नीच आदमी है कि जो धवन के अंगूठे में लगी चोट पर तो ट्वीट करता है किन्तु जब मुजफ्फरपुर में 130 से ज्यादा नौनीहाल मर चुके हैं लेकिन इस #नीच आदमी के मुह से न तो कोई शब्द निकलता है और न ही कोई ट्वीट करता है    #BluddyHell\n",
      "0.0 [[0.52904129]] अब जनता के प्राकृतिक ऑटोमैटिक #राइफल का बारूद #नसबन्दी करके बन्द करोगे,,तो फिर खिलौना #बन्दूक तो चलाएंगे ही।।।।  इब कुत्ते कर्म करोगे तो फेर #कुत्ते की मौत ही मरोगे    #तेरा बी टेम आग्या #KejriwalAssassinationClaim\n",
      "0.0 [[0.50237519]] आपके बगल में बैठा आपका बॉडीगार्ड किसी से वहाँ आपसी विवाद में उलझ अपना लाइसेंसी हथियार निकालकर किसी को दाग दे,और खुद को भी ठोक ले.. तो उसमें कोई क्या करे??इतनी तो समझ आपमें हैं जरूर इसलिए अंतिम पंक्ति तो कहीं से जायज थी ही नही,आपको जाति की रोटी इस लाश पर सेंकनी है तो अलग बात।\n",
      "0.0 [[0.59323573]] इस सूअर को जल्दी हूरों के पास भेज दो\n",
      "0.0 [[0.65450263]] तेरे को दिल्ली के सड़क पर घुमने वाले #कुत्ते भी कटेंगे     सटक गया खुजली\n",
      "0.0 [[0.82421034]] क्या मीडिया के #ExitPoll पर BJP की सुनामी चल रही है,    ये देखकर मुझे तेरी मेहरबानिया फिल्म के #कुत्ते की वफादारी याद आ गई-  #जी_हाँ\n",
      "0.0 [[0.82589023]] हम बोले थे ये मादरचोद मुल्ले भारत को इराक़ उर सीरिया जैसा बना के छोड़ेंगे। \n",
      "0.0 [[0.82406139]] एक ऐसे काम करने वाले सुअर के औलाद के पूरे खानदान को उड़ा दो, फिर देखो खौफ ।  @manakgupta @abhisar_sharma @Radhika_Khera @nk_pvtltd @SapnaChowdharyy @sakshijoshii @Mimansa_Zee\n",
      "0.0 [[0.85923957]] #बल्लेबाज विधायक का #जूतामार बाप..    1994 में तत्कालीन ASP प्रमोद फड़नीकर जी पर जूते से वार करते उस समय के महापौर कैलाश विजयवर्गीय।    जैसा बाप वैसा बेटा।\n",
      "0.0 [[0.55956557]] जिसे बेस्ट हिंदू मुस्लिम डिबेट के लिए दलाल का एवार्ड मिलना चाहिए उसे बेस्ट हिंदी न्यूज़ ऐंकर का एवार्ड मिला है।  एवार्ड भी मज़ाक बन कर रह गया है।     #Rohitsardana\n",
      "0.0 [[0.60985054]] सुअर का अगर कोई अपडेट होता तो  अपडेट होने के बाद वो बांग्लादेशी क्रिकेट फैन होता \n",
      "0.0 [[0.57014297]] ये @sherryontopp असली सरदार नही है।  इसकी जुबान #कुत्ते से भी बदतर है।थूक के चाट लेता है,  खुद का हगा खा लेता है।बस पगड़ी #सरदारों वाली है,बाकि खून तो मिलावटी ही है। थू।!#ElectionResults2019 #VijayiBharat @INCIndia @DrKumarVishwas @Payal_Rohatgi @OpIndia_com #Amethi #ModiReturns\n",
      "0.0 [[0.98714543]] श्री #तबरेज़_अंसारी के पूज्य पिताजी #मशूकर जी , 15 वर्षो पहले ऐसी ही एक वारदात को अंजाम देते हुए दुष्ट ग्रामीणो के हाथो जन्नत के दीदार हेतु रूखसत हुए थे।    मगर उनका ये श्रेष्ठ कारनामा #लिंचिंग का रूतबा प्राप्त ना कर सका।    जिसके कारण मासूब तबरेज के बाल मन पर गहरा प्रभाव पड़ा।\n",
      "0.0 [[0.50773783]] यह वही #भारतीय_पार्लियामेंट है जहां 2001 में आतंकी #अफ़ज़ल_गुरु आया था और 2019 में #प्रज्ञा_ठाकुर।    #तब भी भाजपा और #अब भी भाजपा।    #BlackDay\n",
      "0.0 [[0.88234326]] शहीदों के नाम पर “सियासत” करते करते तुम “संसद” में 303 हो गये, लेकिन अब इतना तो बता दो, कि सेना के बहादुर जवानों के “रोज़” शहीद होने का सिलसिला कब तक रुकेगा.\n",
      "0.0 [[0.58301975]] अबे सूअर का जना जब पैदा ही चोरी करने के लिए होगा घरों में घुसकर तो उसे लोग लतियाएंगे ही\n",
      "0.0 [[0.50612408]] मोदी जी का किरदार निभाते निभाते मोदी जी  की ही आत्मा घुस गई इनमें #नीच \n",
      "0.0 [[0.61110945]] Yogi ji ke purv janmo ka pap hai........jise up ki janata bhugat rahi hai.\n",
      "0.0 [[0.74579306]] दिल्ली में आयुष्मान भारत योजना को रोक कर मुख्यमंत्री केजरीवाल ने दिल्ली की जनता के साथ बहुत बड़ा विश्वासघात किया है - श्री @ManojTiwariMP\n",
      "0.0 [[0.71746294]] एक मुसलमान अपनी पत्नी तलाक़ देकर भी छोड़ दें तो तीन साल की सज़ा     एक हिन्दू अपनी पत्नी को बिन तलाक़ दिए ही छोड़ दें तो प्रधानमंत्री भी बन सकता है.. @RubikaLiyaquat    ये कैसा इंसाफ है..।।    इंसाफ़ के लिए RT करे..\n",
      "0.0 [[0.72463308]] MLA #AIMIM @warispathan  EXPOSED DRUG MAFIA    Adv Waris Pathan ka NARIYALWADI kabrastaan ke drugs ke mudde per  Kaha ke hum hamesha drugs ke khilaf the hain or rahenge   Drugs free mumbai ki muheem ko barkarar rakkhenge.\n",
      "0.0 [[0.63297659]] Kal kuch or Bola tha .... Kal pure josh me the gathbandhan ki sarkaar ayegi ab kaa hua .... ❤️❤️❤️\n",
      "0.0 [[0.62944725]] Divide India in the name of castism...\n",
      "0.0 [[0.85296802]] मनीष सिसोदिया और सत्येंद्र जैन के खिलाफ दिल्ली के पार्लियामेंट स्ट्रीट थाने में शिकायत दर्ज    केजरीवाल का कॉमनवेल्थ घोटाला - मनीष सिसोदिया आज का कलमाडी हैं\n",
      "0.0 [[0.73046555]] #प्रज्ञा_ठाकुर ने #गोडसे_ज़िंदाबाद कहा तो नाराज़ हो गये   #कन्हैया_कुमार ने भारत तेरे टुकडे होंगे कहा तो लोकसभा उम्मीदवार बना दिया  #अभिब्यक्ति की आज़ादी केवल इन #ग़द्दारों के लिए है  हमारे विचार तो इनके लिए #छाती पर #सांप लौटाने जैसे लगते हैं    @BJP4India   @biranchilaal   #RWA\n",
      "0.0 [[0.53651567]]  Tujhe logo ko ungli karne me bahut maja aata he isliye padai pe dhyan nahi de pa rahi he\n",
      "0.0 [[0.51308387]] जिहाद, आतंकवाद, पत्थरबाज, भारत विरोधी नारे, पाकिस्तान समर्थक।\n",
      "0.0 [[0.52155155]] जिन संस्थाओं को संविधान की रक्षा करनी चाहिए उन्हें भाजपा खोखला कर रही है। एक तरफ़ चुनाव आयोग की रीढ़ की हड्डी टूट चुकी है तो दूसरी तरफ़ पुलिस मूकदर्शक बनी अपराध होते देख रही है।    समय है #MahaParivartan का\n",
      "0.0 [[0.79464419]] संघी भारत के हार से खुश क्योकि उन्हें लगता है हमारी हार से पाकिस्तान बाहर हो चुका है।    लेक़िन ऐसा कुछ नही है अभी भी Pak वर्ल्ड कप मे बना हुआ है बहुत कुछ बाकी है।    लेकिन हमारे देश के अनपढ़ संघी खुश हो रहे है क्योंकि हम हार गए बल्कि हमे ये सोचना चाहिए कि हम कैसे हार गए?    #INDvENG\n",
      "0.0 [[0.62771944]] Aap to Pura family ko le.dube Bhaiya ji ....but koe Nhi hm sab Aap ke sath h ....\n",
      "0.0 [[0.58330766]] जो दिल्ली के चांदनी चौक में हुआ उस से बड़ी इनटॉलेरेंस की घटना कोई हो नही सकती,एक  पार्किंग विवाद की छोटी सी घटना को बड़ा बना कर बाबर और औरंगजेब के वंशजो द्वारा 100 साल पुराने मन्दिर पर हमला करना किसी आतंकवादी हमले से कम नही है।\n",
      "0.0 [[0.96805584]] Few ppl tried to mock you by chanting Modi Modi in front of you at MSG.. and you started wrestling with them as if you were the big brother of Under Taker. Here 200+ ppl destroyed the place of worship.. and you call it minor communal flare. Rajdeep just being Rajdeep here.\n",
      "0.0 [[0.71984908]] मायवती नें सरकारी बंगला ख़ाली करनें के बाद बड़ा बंगला बनवा लिया पर आप छोटे घोंसले में रहने को मज़बूर हो मान्यवर ॥\n",
      "0.0 [[0.81047093]] तरबेज अंसारी की मौत पर यूपी के शहरों में मुस्लिम समुदाय के लोग विरोध प्रदर्शन और हंगामा कर रहे हैं....  गंगाराम की हत्या के बाद भी हिन्दू शांत हैं...  अब बताओ कौन सी है असहिष्णु कौम??  कौन है देश की शांति बिगाड़ने में आगे??  @shahid_siddiqui @khanumarfa @TheSamirAbbas\n",
      "0.0 [[0.68307041]] कांग्रेस नेताओं के टाइम लाइन चेक कर लीजिए  जवाब मिल जाएगा  वैसे आरोप लगाना कांग्रेस पर सबसे आसान है क्योंकि बीजेपी पर आरोप लगाते ही औकात बताने लगते हैं\n",
      "0.0 [[0.61258266]] New India -:} देखिए इस मासूम बच्चे को 3/4 लोग मिलकर बेरहमी से पीट रहे है  न्यू इंडिया की तस्वीर देखिए पुराना भारत !!\n",
      "0.0 [[0.79125357]] @aimim_national sirf musalmano ki party nhi hai,Kyu ki #Aurangabad me musalman majority me nahi hai balki minority me hai, aur waha janab @asadowaisi sahab ko dalito ne bhi vote diya hai Maha dalito ne bhi vote Diya hai pichdo ne bhi vote Diya hai aur #Hinduo ne bhi vote Diya hai\n",
      "0.0 [[0.71252054]] दुनिया के 50 इमानदार लोगों की सूची में मनमोहन सिंह का नाम , काश बेइमान नेताओं की सूची बनती तो पूरी लिस्ट पर बीजेपी का कब्जा होता,\n",
      "0.0 [[0.65510188]] आरक्षण ब्राह्मणों की वर्ण-व्यवस्था की देन है, जब तक जातिवाद रहेगा आरक्षण आबाद रहेगा।  जय भीम जय भारत\n",
      "0.0 [[0.68879477]] .  दिल्ली में मूर्ति तोड़ने की बात थी.. वहां तो अपनी 'सेना' लेकर पहुंच गए थे.!  जहां एक 'जिन्दा' आदमी को तोड़ दिया गया,, वहां कब जाओगे.?    कोई नी...  ट्वीट कर दिए ना.. काम पूरा हुआ.!  जय भीम \n",
      "0.0 [[0.54881525]] तेरे बाप @arvindkejriwal ने सीवर साफ करने की मशीनों को विज्ञापन दिया था दिल्ली के हर अखबार में कि अब किसी सफाई कर्मचारी को सीवर में नही उतरना पडेगा  फिर तेरे ये बहनोई सीवर को क्या हज समझ कर घुसे है इसमें जियारत करने  अगर तू एक बाप की औलाद है तो बोल की ये 'हज' कर रहे है\n",
      "0.0 [[0.60485031]] मोम की औक़ात ही क्या!  कोशिश करें तो पत्थर पिघलेगा.  तुम कितने आमिर लाओगे!  हर घर से कोहली निकलेगा.    ~ शाहरुख सिद्दीकी   #shahrukhsiddiqui @srspoet   #INDvPAK #INDvsPAK   #IndiaVsPakistan #CWC19\n",
      "0.0 [[0.76392936]] चलिए मानक जी धोनी के ग्लब्स में से निकल गए? लेक़िन दलाली के नदी से नही निकल पाए??    विपक्ष को छोटी-छोटी बात पे कोसने वाले एक हफ़्ते से 13 कर्मियों के साथ गायब विमान पे सरकार से सवाल नही कर सकें।    खैर छोड़िए एक ट्वीट करके इन्होंने पात्रकारिकता पे एहसान कर दिया है।\n",
      "0.0 [[0.90366037]] उत्तर प्रदेश में बेख़ौफ़ जुर्म करनेवाले।    घरवालों के सामने से उठा ले गए, दलित लड़की से 6 लोगों ने किया गैंगरेप?    अब देखना है कितने पत्रकारों का ज़मीर जागता है इस दलित लड़की को न्याय दिलवाने के लिए??\n",
      "0.0 [[0.77205096]] देश विरोधी बात करने वालों को पहले सरकार द्वारा सुरक्षा दी जाती थी। भारत विरोधी 4 बयान दे दिया तो तुरंत सुरक्षा दे दी जाती थी।    हमने 919 लोग, जिन्हें भारत विरोधी बयान देने के कारण सुरक्षा मिली थी, हमने उनकी सुरक्षा को हटाने का काम किया है: गृह मंत्री श्री @AmitShah\n",
      "0.0 [[0.51969773]] ये सब अबतक रंडी रोना चालू कर दिए होते।\n",
      "0.0 [[0.65960853]] जबतक फांसी का प्रावधान नहीं लाएगी सरकार तबतक हमारे देश की बच्चियों के साथ यही होता रहेगा  और इन हत्यारे, बलात्कारियों के समर्थन में तिरंगा यात्रा निकालने वालों को भी साथ साथ फाँसी होनी चाहिए.  कानून बनाने से बनता है, हवाबाज़ी से सरकारें नहीं चलतीं हैं  #StopRape\n",
      "0.0 [[0.61340791]] Kuch ni sir... Ab talaq ka waqt aa gya...na ho tho likh lo... 23 k bad kbi b talaq ho skta h\n",
      "0.0 [[0.61031593]] इस चुनाव में #भगवे की जीत हुई   और #भड़वे हार गए  #दिग्विजयसिंह  #कन्हैया_कुमार  #शत्रुघ्न_सिन्हा  #राज_बब्बर  #ज्योतिरादित्य_सिंधिया  ETC\n",
      "0.0 [[0.64451565]] #KailashVijayvargiya :- तू है कौन ? तेरी औकात क्या है ? #WhoAreYou    गोदी मीडिया का पत्रकार :- साहब मैं दलाल हूँ, आप लोगों के ही टुकडे पर पल रहा हूँ \n",
      "0.0 [[0.87161449]] आने वाला एक बेहतरीन उत्तरप्रदेश आज के महाराष्ट्र के साथ!!  @ShaukatAli_77 @imtiaz_jaleel @bilaljaleel_ @syedKashaf95\n",
      "0.0 [[0.96902564]] #Bihar के लोकप्रिय मुख्यमंत्री आदरणीय श्री @NitishKumar  जी द्वारा #CEC पर चुनाव के टाइमिंग और चरणों पर सवाल उठाने के साथ साथ #प्रज्ञा_ठाकुर  द्वारा बापु पर दिए गए व्यान को न केवल निंदा की बल्कि उन्हें भाजपा से पार्टी से निकालने की मांग उनके ईमानदारी,सुशासन की पहचान है।जय हो।\n",
      "0.0 [[0.83225117]] अब की परिसिथिति में खुद की बुरी तरह फटंत के डर से जीजाजी की आंत, दांत, लुंड वगैरह में कैंसर हो गया है! पर डॉ मोदी और डॉ योगी १००%  पक्का और शर्तिया इलाज इल्म के माहिर हैं इसको पता नहीं है !!!\n",
      "0.0 [[0.5309905]] अच्छा न किया भाग्यविधाता ने तेरे साथ, बस रंडी रोना ही लिखा तेरे नसीब में \n",
      "0.0 [[0.53133734]] अब गांड फ़टी तो    अमन और तहजीब की बाते करने लगे साले भड़वे हरामखोर\n",
      "0.0 [[0.68984583]] नीति आयोग की रिपोर्ट सरकार को लज्जित करने वाली है कि जनस्वास्थ्य के मामले में यूपी देश का सबसे पिछड़ा राज्य है। तो फिर केन्द्र व यूपी में बीजेपी की सरकार होने पर ऐसी डबल इंजन वाली सरकार का क्या लाभ? ऐसा विकास करोड़ों जनता के किस काम का जिसमें उसका जीवन पूरी तरह से नरक बना हुआ है?\n",
      "0.0 [[0.62553887]] रंडी रोना चालू हो गया होता प्रधानमंत्री जी खुद रोते विश्वास जीतना है उन्हें\n",
      "0.0 [[0.88451016]] तू हवा के रुख पर चाहतो के दीप जलाने कि जिद न कर  ये कतिलो का शहर है यहाँ मुस्कराने कीं जिद ना कर. #Lynchistaan #India  @KaranwalTanu  @Anjupra7743 @SHIVANI92_\n",
      "0.0 [[0.83489525]] अबे चूतिया, तेरे जैसे झांटू मेरे यहां आज भी गोबर फेकते है , भैंस के तबेला में रहते रहते तू भी पाड़ा हो गया है.. जा दूध में पानी मिला अहीर बहीर कहिंका.. सही कहा गया है अहीरा सब का दिमाग घुटने में होता है..  हरामी खुद जातिगत टिप्पडी किया अब मुझे पाठ पढ़ा रहा अहीर बिलार..\n",
      "0.0 [[0.80745873]] अल्लाह के हुक्म से बग़ावत करना सीधे अल्लाह से बगावत करना है  नमाज़ हो रोज़ा हो हज ज़कात या पर्दा सब अल्लाह के हुक्म हैं  तुम उस अल्लाह से बगावत करते हो जिसने तुम्हे एक नापाक कतरे से इंसानी शक्ल दी है......\n",
      "0.0 [[0.98374402]] हरा हारने के लिए... और डायपर के लिए...  हमलोग तो बस हरे चीजों पे मूत-ते  है... पता लगाना है तो तुम भी आओ..तुमपे भी मूतेंगे.... हरी झंडी के साथ हरी रंडी.. दोनों पे मूतेंगे \n",
      "0.0 [[0.84318166]] चल फुट गद्दार। साला खुद को Indian बोलता है और रंडी रोना सिर मुसलमानों के लिए मचाये रहता है। तेरे जात भाई तो जैसे सब दूध के धुले हैं, फरिश्ते हैं? भाग पाकिस्तानी।\n"
     ]
    }
   ],
   "source": [
    "# Some error analysis done for you\n",
    "print('Label Predicted Tweet')\n",
    "for x,y in zip(test_x,test_y):\n",
    "    y_hat = predict_tweet(x, freqs, theta)\n",
    "    if np.abs(y - (y_hat[0] > 0.5)) > 0:\n",
    "        print(f'{y} {y_hat} {x}')"
   ]
  },
  {
   "cell_type": "markdown",
   "metadata": {},
   "source": [
    "Later in this specialization, we will see how we can use deeplearning to improve the prediction performance."
   ]
  },
  {
   "cell_type": "markdown",
   "metadata": {},
   "source": [
    "<a name='6'></a>\n",
    "## 6 - Predict with your own Tweet"
   ]
  },
  {
   "cell_type": "code",
   "execution_count": 32,
   "metadata": {},
   "outputs": [
    {
     "name": "stdout",
     "output_type": "stream",
     "text": [
      "['जनता', 'के', 'प्राकृतिक', 'ऑटोमैटिक', 'राइफल', 'बारूद', 'नसबन्दी', 'करके', 'बन्द', 'करोगे', 'खिलौना', 'बन्दूक', 'चलाएंगे', 'इब', 'कुत्ते', 'कर्म', 'करोगे', 'फेर', 'कुत्ते', 'मौत', 'मरोगे', 'तेरा', 'बी', 'टेम', 'आग्या', 'kejriwalassassinationclaim']\n",
      "[[0.52904129]]\n",
      "non-hate\n"
     ]
    }
   ],
   "source": [
    "# Feel free to change the tweet below\n",
    "my_tweet = 'अब जनता के प्राकृतिक ऑटोमैटिक #राइफल का बारूद #नसबन्दी करके बन्द करोगे,,तो फिर खिलौना #बन्दूक तो चलाएंगे ही।।।।  इब कुत्ते कर्म करोगे तो फेर #कुत्ते की मौत ही मरोगे    #तेरा बी टेम आग्या #KejriwalAssassinationClaim'\n",
    "print(process_tweet(my_tweet))\n",
    "y_hat = predict_tweet(my_tweet, freqs, theta)\n",
    "print(y_hat)\n",
    "if y_hat > 0.5:\n",
    "    print('non-hate')\n",
    "else: \n",
    "    print('hate')"
   ]
  },
  {
   "cell_type": "code",
   "execution_count": 31,
   "metadata": {
    "tags": []
   },
   "outputs": [
    {
     "name": "stdout",
     "output_type": "stream",
     "text": [
      "['अच्छा', 'समुदाय', 'हमेशा', 'गरीब', 'लोगो', 'के', 'भंडारा', 'अरेंज']\n",
      "[[0.70406021]]\n",
      "non-hate\n"
     ]
    }
   ],
   "source": [
    "# Feel free to change the tweet below\n",
    "my_tweet = 'कितना अच्छा समुदाय है ये हमेशा गरीब लोगो के लिए भंडारा अरेंज करता है'\n",
    "print(process_tweet(my_tweet))\n",
    "y_hat = predict_tweet(my_tweet, freqs, theta)\n",
    "print(y_hat)\n",
    "if y_hat > 0.5:\n",
    "    print('non-hate')\n",
    "else: \n",
    "    print('hate')"
   ]
  },
  {
   "cell_type": "code",
   "execution_count": null,
   "metadata": {},
   "outputs": [],
   "source": []
  }
 ],
 "metadata": {
  "kernelspec": {
   "display_name": "Python 3 (ipykernel)",
   "language": "python",
   "name": "python3"
  },
  "language_info": {
   "codemirror_mode": {
    "name": "ipython",
    "version": 3
   },
   "file_extension": ".py",
   "mimetype": "text/x-python",
   "name": "python",
   "nbconvert_exporter": "python",
   "pygments_lexer": "ipython3",
   "version": "3.10.4"
  }
 },
 "nbformat": 4,
 "nbformat_minor": 4
}
