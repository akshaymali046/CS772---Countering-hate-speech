{
 "cells": [
  {
   "cell_type": "code",
   "execution_count": 1,
   "id": "d5ffc693-a5f4-4706-988c-ec92524e3a9f",
   "metadata": {
    "tags": []
   },
   "outputs": [],
   "source": [
    "import csv\n",
    "all_hateoffensive_tweets=[]\n",
    "all_nonhate_tweets=[]\n",
    "with open('hindi_dataset.tsv', newline='', encoding=\"utf8\") as tsvfile:\n",
    "    reader = csv.reader(tsvfile, delimiter='\\t')\n",
    "    for row in reader:\n",
    "        if row[3] == \"HATE\" or row[3] == \"OFFN\":\n",
    "           all_hateoffensive_tweets.append(row[1])\n",
    "        else:\n",
    "           all_nonhate_tweets.append(row[1]) "
   ]
  },
  {
   "cell_type": "code",
   "execution_count": 2,
   "id": "548b8383-6eb3-4e26-b93f-d3ab2991d7ec",
   "metadata": {
    "tags": []
   },
   "outputs": [],
   "source": [
    "from nltk.corpus import stopwords\n",
    "from nltk.stem import PorterStemmer\n",
    "from nltk.tokenize import TweetTokenizer\n",
    "import re\n",
    "import string\n",
    "from matplotlib.patches import Ellipse\n",
    "import matplotlib.transforms as transforms\n",
    "import numpy as np \n",
    "from collections import defaultdict\n",
    "words_dict = defaultdict(int)\n"
   ]
  },
  {
   "cell_type": "code",
   "execution_count": 3,
   "id": "abf7b531-2f25-425a-b637-d05a117915c2",
   "metadata": {
    "tags": []
   },
   "outputs": [
    {
     "data": {
      "text/plain": [
       "3434"
      ]
     },
     "execution_count": 3,
     "metadata": {},
     "output_type": "execute_result"
    }
   ],
   "source": [
    "len(all_nonhate_tweets)"
   ]
  },
  {
   "cell_type": "code",
   "execution_count": 4,
   "id": "b1c20a74-5ee1-4909-8452-d5ba1628fa90",
   "metadata": {
    "tags": []
   },
   "outputs": [
    {
     "data": {
      "text/plain": [
       "1232"
      ]
     },
     "execution_count": 4,
     "metadata": {},
     "output_type": "execute_result"
    }
   ],
   "source": [
    "len(all_hateoffensive_tweets)"
   ]
  },
  {
   "cell_type": "code",
   "execution_count": 5,
   "id": "bc33cf35-3710-44a0-b1a6-95d6521ee500",
   "metadata": {
    "tags": []
   },
   "outputs": [
    {
     "data": {
      "text/plain": [
       "'मुंबई में बारिश से लोगों को काफी समस्या हो रही है'"
      ]
     },
     "execution_count": 5,
     "metadata": {},
     "output_type": "execute_result"
    }
   ],
   "source": [
    "all_nonhate_tweets[6]"
   ]
  },
  {
   "cell_type": "code",
   "execution_count": 6,
   "id": "1a4f478f-c650-4f65-9159-63402effdfb6",
   "metadata": {
    "tags": []
   },
   "outputs": [
    {
     "data": {
      "text/plain": [
       "'तबरेज के लिए तो तेरे अमनपसंद कौम के अम्मि बेगम ने चूडियां तोडकर विध्वा विलाप किये थे!  तुम लोगों के मजार पर हिन्दू मोहल्ले के कुत्ता भी पैशाब कर दे तब भी दंगा भड़काने वाले हरामी कौम है,मन्दिर कि मूर्ति तुडवाने मे तेरा ही साजिश है  '"
      ]
     },
     "execution_count": 6,
     "metadata": {},
     "output_type": "execute_result"
    }
   ],
   "source": [
    "all_hateoffensive_tweets[6]"
   ]
  },
  {
   "cell_type": "code",
   "execution_count": 7,
   "id": "015cf716-9097-498b-9ebb-126b002a312b",
   "metadata": {
    "tags": []
   },
   "outputs": [],
   "source": [
    "stopwords=[]\n",
    "with open('hindi-stopwords.txt', 'r',encoding='UTF-8') as file:\n",
    "    file=file.readlines()\n",
    "    for line in file:\n",
    "        stopwords.append(line.strip())"
   ]
  },
  {
   "cell_type": "code",
   "execution_count": 8,
   "id": "2a42eeca-08b9-4435-8a5b-9e8a7b34f113",
   "metadata": {
    "tags": []
   },
   "outputs": [
    {
     "data": {
      "text/plain": [
       "['मैं', 'मुझको', 'मेरा', 'अपने आप को', 'हमने']"
      ]
     },
     "execution_count": 8,
     "metadata": {},
     "output_type": "execute_result"
    }
   ],
   "source": [
    "stopwords[0:5]"
   ]
  },
  {
   "cell_type": "code",
   "execution_count": 9,
   "id": "e159c857-22a8-4b75-a939-ef3ef2f231ae",
   "metadata": {
    "tags": []
   },
   "outputs": [],
   "source": [
    "def process_tweet(tweet):\n",
    "    '''\n",
    "    Input: \n",
    "        tweet: a string containing a tweet\n",
    "    Output:\n",
    "        tweets_clean: a list of words containing the processed tweet\n",
    "\n",
    "    '''\n",
    "    stemmer = PorterStemmer()\n",
    "    # remove stock market tickers like $GE\n",
    "    tweet = re.sub(r'\\$\\w*', '', tweet)\n",
    "    # remove old style retweet text \"RT\"\n",
    "    tweet = re.sub(r'^RT[\\s]+', '', tweet)\n",
    "    # remove hyperlinks\n",
    "    #tweet = re.sub(r'https?:\\/\\/.*[\\r\\n]*', '', tweet)\n",
    "    tweet = re.sub(r'https?://[^\\s\\n\\r]+', '', tweet)\n",
    "\n",
    "    # remove hashtags\n",
    "    # only removing the hash # sign from the word\n",
    "    tweet = re.sub(r'#', '', tweet)\n",
    "    # tokenize tweets\n",
    "    tokenizer = TweetTokenizer(preserve_case=False, strip_handles=True,\n",
    "                               reduce_len=True)\n",
    "    tweet_tokens = tokenizer.tokenize(tweet)\n",
    "\n",
    "    tweets_clean = []\n",
    "    for word in tweet_tokens:\n",
    "        if (word not in stopwords and  # remove stopwords\n",
    "            word not in string.punctuation) and word != '।' and word != \"...\":  # remove punctuation\n",
    "            # tweets_clean.append(word)\n",
    "            stem_word = word  # stemming word\n",
    "            tweets_clean.append(stem_word)\n",
    "\n",
    "    return tweets_clean"
   ]
  },
  {
   "cell_type": "code",
   "execution_count": 10,
   "id": "631ee4e2-3fee-4f4b-82e4-e4ce0c7185d6",
   "metadata": {
    "tags": []
   },
   "outputs": [
    {
     "data": {
      "text/plain": [
       "['तबरेज',\n",
       " 'के',\n",
       " 'तेरे',\n",
       " 'अमनपसंद',\n",
       " 'कौम',\n",
       " 'के',\n",
       " 'अम्मि',\n",
       " 'बेगम',\n",
       " 'चूडियां',\n",
       " 'तोडकर',\n",
       " 'विध्वा',\n",
       " 'विलाप',\n",
       " 'किये',\n",
       " 'लोगों',\n",
       " 'के',\n",
       " 'मजार',\n",
       " 'हिन्दू',\n",
       " 'मोहल्ले',\n",
       " 'के',\n",
       " 'कुत्ता',\n",
       " 'पैशाब',\n",
       " 'दे',\n",
       " 'दंगा',\n",
       " 'भड़काने',\n",
       " 'हरामी',\n",
       " 'कौम',\n",
       " 'मन्दिर',\n",
       " 'मूर्ति',\n",
       " 'तुडवाने',\n",
       " 'तेरा',\n",
       " 'साजिश']"
      ]
     },
     "execution_count": 10,
     "metadata": {},
     "output_type": "execute_result"
    }
   ],
   "source": [
    "process_tweet('तबरेज के लिए तो तेरे अमनपसंद कौम के अम्मि बेगम ने चूडियां तोडकर विध्वा विलाप किये थे!  तुम लोगों के मजार पर हिन्दू मोहल्ले के कुत्ता भी पैशाब कर दे तब भी दंगा भड़काने वाले हरामी कौम है,मन्दिर कि मूर्ति तुडवाने मे तेरा ही साजिश है  ')"
   ]
  },
  {
   "cell_type": "code",
   "execution_count": 11,
   "id": "ec5bafa2-1c9d-4e89-a679-91a0858c1183",
   "metadata": {},
   "outputs": [
    {
     "data": {
      "text/plain": [
       "3434"
      ]
     },
     "execution_count": 11,
     "metadata": {},
     "output_type": "execute_result"
    }
   ],
   "source": [
    "len(all_nonhate_tweets)"
   ]
  },
  {
   "cell_type": "code",
   "execution_count": 12,
   "id": "4d088634-cdd3-40ba-a899-a465564178f0",
   "metadata": {
    "tags": []
   },
   "outputs": [
    {
     "data": {
      "text/plain": [
       "1232"
      ]
     },
     "execution_count": 12,
     "metadata": {},
     "output_type": "execute_result"
    }
   ],
   "source": [
    "len(all_hateoffensive_tweets)"
   ]
  },
  {
   "cell_type": "code",
   "execution_count": 13,
   "id": "4a1f7665-e98a-4118-9437-dbbdab0e0b84",
   "metadata": {
    "tags": []
   },
   "outputs": [],
   "source": [
    "test_pos = all_nonhate_tweets[2800:]\n",
    "train_pos = all_nonhate_tweets[:2800]\n",
    "test_neg = all_hateoffensive_tweets[1000:]\n",
    "train_neg = all_hateoffensive_tweets[:1000]\n",
    "\n",
    "train_x = train_pos + train_neg\n",
    "test_x = test_pos + test_neg\n",
    "\n",
    "train_y = np.append(np.ones(len(train_pos)), np.zeros(len(train_neg)))\n",
    "test_y = np.append(np.ones(len(test_pos)), np.zeros(len(test_neg)))"
   ]
  },
  {
   "cell_type": "code",
   "execution_count": 14,
   "id": "14968932-7e77-4f77-9519-9c63cb6da390",
   "metadata": {
    "tags": []
   },
   "outputs": [],
   "source": [
    "def count_tweets(result, tweets, ys):\n",
    "    '''\n",
    "    Input:\n",
    "        result: a dictionary that will be used to map each pair to its frequency\n",
    "        tweets: a list of tweets\n",
    "        ys: a list corresponding to the sentiment of each tweet (either 0 or 1)\n",
    "    Output:\n",
    "        result: a dictionary mapping each pair to its frequency\n",
    "    '''\n",
    "    for y, tweet in zip(ys, tweets):\n",
    "        for word in process_tweet(tweet):\n",
    "            # define the key, which is the word and label tuple\n",
    "            pair = (word,y)\n",
    "            \n",
    "            # if the key exists in the dictionary, increment the count\n",
    "            if pair in result:\n",
    "                result[pair] += 1\n",
    "\n",
    "            # else, if the key is new, add it to the dictionary and set the count to 1\n",
    "            else:\n",
    "                result[pair] = 1\n",
    "    return result"
   ]
  },
  {
   "cell_type": "code",
   "execution_count": 15,
   "id": "76b28086-3168-4dc7-825b-3f97b2bf3269",
   "metadata": {
    "tags": []
   },
   "outputs": [],
   "source": [
    "freqs = count_tweets({}, train_x, train_y)"
   ]
  },
  {
   "cell_type": "code",
   "execution_count": 16,
   "id": "7492d194-2f1c-44de-8fd4-dc3f9644d84a",
   "metadata": {
    "tags": []
   },
   "outputs": [],
   "source": [
    "def lookup(freqs, word, label):\n",
    "    '''\n",
    "    Input:\n",
    "        freqs: a dictionary with the frequency of each pair (or tuple)\n",
    "        word: the word to look up\n",
    "        label: the label corresponding to the word\n",
    "    Output:\n",
    "        n: the number of times the word with its corresponding label appears.\n",
    "    '''\n",
    "    n = 0  # freqs.get((word, label), 0)\n",
    "\n",
    "    pair = (word, label)\n",
    "    if (pair in freqs):\n",
    "        n = freqs[pair]\n",
    "\n",
    "    return n"
   ]
  },
  {
   "cell_type": "code",
   "execution_count": 17,
   "id": "c2c0ce06-eeb6-4e17-b944-653af264a069",
   "metadata": {
    "tags": []
   },
   "outputs": [],
   "source": [
    "def train_naive_bayes(freqs, train_x, train_y):\n",
    "    '''\n",
    "    Input:\n",
    "        freqs: dictionary from (word, label) to how often the word appears\n",
    "        train_x: a list of tweets\n",
    "        train_y: a list of labels correponding to the tweets (0,1)\n",
    "    Output:\n",
    "        logprior: the log prior. (equation 3 above)\n",
    "        loglikelihood: the log likelihood of you Naive bayes equation. (equation 6 above)\n",
    "    '''\n",
    "    loglikelihood = {}\n",
    "    logprior = 0\n",
    "\n",
    "    # calculate V, the number of unique words in the vocabulary\n",
    "    vocab = []\n",
    "    for pair in freqs.keys():\n",
    "        if pair[0] not in vocab:\n",
    "            vocab.append(pair[0])\n",
    "        \n",
    "    V = len(set(vocab))    \n",
    "\n",
    "    # calculate N_pos, N_neg, V_pos, V_neg\n",
    "    N_pos = N_neg = 0\n",
    "    for pair in freqs.keys():\n",
    "        # if the label is positive (greater than zero)\n",
    "        if pair[1] > 0:\n",
    "\n",
    "            # Increment the number of positive words by the count for this (word, label) pair\n",
    "            N_pos += lookup(freqs, pair[0], 1)\n",
    "\n",
    "        # else, the label is negative\n",
    "        else:\n",
    "\n",
    "            # increment the number of negative words by the count for this (word,label) pair\n",
    "            N_neg += lookup(freqs, pair[0], 0)\n",
    "    \n",
    "    # Calculate D, the number of documents\n",
    "    D = len(train_y)\n",
    "\n",
    "    # Calculate D_pos, the number of positive documents\n",
    "    # Calculate D_neg, the number of negative documents\n",
    "\n",
    "    D_pos = 0\n",
    "    D_neg = 0\n",
    "    for i in range(len(train_y)):\n",
    "        if train_y[i] == 1:\n",
    "            D_pos += 1\n",
    "        else:\n",
    "            D_neg += 1\n",
    "\n",
    "    # Calculate logprior\n",
    "    logprior = np.log(D_pos/D_neg)\n",
    "    \n",
    "    # For each word in the vocabulary...\n",
    "    for word in vocab:\n",
    "        # get the positive and negative frequency of the word\n",
    "        freq_pos = lookup(freqs, word, 1)\n",
    "        freq_neg = lookup(freqs, word, 0)\n",
    "        \n",
    "\n",
    "        # calculate the probability that each word is positive, and negative\n",
    "        p_w_pos = (freq_pos+1)/(N_pos+V)\n",
    "        p_w_neg = (freq_neg+1)/(N_neg+V)\n",
    "\n",
    "        # calculate the log likelihood of the word\n",
    "        loglikelihood[word] = np.log(p_w_pos/p_w_neg)\n",
    "\n",
    "    return logprior, loglikelihood"
   ]
  },
  {
   "cell_type": "code",
   "execution_count": 18,
   "id": "cf05676c-1da9-4e31-97f4-72b691d48fe9",
   "metadata": {
    "tags": []
   },
   "outputs": [
    {
     "name": "stdout",
     "output_type": "stream",
     "text": [
      "1.0296194171811581\n",
      "16357\n"
     ]
    }
   ],
   "source": [
    "logprior, loglikelihood = train_naive_bayes(freqs, train_x, train_y)\n",
    "print(logprior)\n",
    "print(len(loglikelihood))"
   ]
  },
  {
   "cell_type": "code",
   "execution_count": 19,
   "id": "ca1651fd-5349-4cd6-8f2c-a03b8ef4ff4e",
   "metadata": {
    "tags": []
   },
   "outputs": [],
   "source": [
    "def naive_bayes_predict(tweet, logprior, loglikelihood):\n",
    "    '''\n",
    "    Input:\n",
    "        tweet: a string\n",
    "        logprior: a number\n",
    "        loglikelihood: a dictionary of words mapping to numbers\n",
    "    Output:\n",
    "        p: the sum of all the logliklihoods of each word in the tweet (if found in the dictionary) + logprior (a number)\n",
    "\n",
    "    '''\n",
    "    # process the tweet to get a list of words\n",
    "    word_l = process_tweet(tweet)\n",
    "\n",
    "    # initialize probability to zero\n",
    "    p = 0\n",
    "\n",
    "    # add the logprior\n",
    "    p += logprior\n",
    "\n",
    "    for word in word_l:\n",
    "\n",
    "        # check if the word exists in the loglikelihood dictionary\n",
    "        if word in loglikelihood:\n",
    "            # add the log likelihood of that word to the probability\n",
    "            p += loglikelihood[word]\n",
    "\n",
    "    return p"
   ]
  },
  {
   "cell_type": "code",
   "execution_count": 20,
   "id": "ae9f40b8-a967-4b79-9e5a-c93415d7b5a3",
   "metadata": {
    "tags": []
   },
   "outputs": [],
   "source": [
    "def test_naive_bayes(test_x, test_y, logprior, loglikelihood, naive_bayes_predict=naive_bayes_predict):\n",
    "    \"\"\"\n",
    "    Input:\n",
    "        test_x: A list of tweets\n",
    "        test_y: the corresponding labels for the list of tweets\n",
    "        logprior: the logprior\n",
    "        loglikelihood: a dictionary with the loglikelihoods for each word\n",
    "    Output:\n",
    "        accuracy: (# of tweets classified correctly)/(total # of tweets)\n",
    "    \"\"\"\n",
    "    accuracy = 0  # return this properly\n",
    "    dictss={}\n",
    "    y_hats = []\n",
    "    for tweet in test_x:\n",
    "        # if the prediction is > 0\n",
    "        if naive_bayes_predict(tweet, logprior, loglikelihood) > 0:\n",
    "            # the predicted class is 1\n",
    "            y_hat_i = 1\n",
    "        else:\n",
    "            # otherwise the predicted class is 0\n",
    "            y_hat_i = 0\n",
    "\n",
    "        # append the predicted class to the list y_hats\n",
    "        y_hats.append(y_hat_i)\n",
    "\n",
    "    # error is the average of the absolute values of the differences between y_hats and test_y\n",
    "    error = np.sum(np.squeeze(np.asarray(y_hats)) != np.squeeze(test_y))/len(test_y)\n",
    "\n",
    "    # Accuracy is 1 minus the error\n",
    "    accuracy = 1 - error\n",
    "    return accuracy"
   ]
  },
  {
   "cell_type": "code",
   "execution_count": 21,
   "id": "91de08fc-f3f0-4364-9508-3e66a8f9406c",
   "metadata": {
    "tags": []
   },
   "outputs": [
    {
     "name": "stdout",
     "output_type": "stream",
     "text": [
      "0.7066974595842956\n"
     ]
    }
   ],
   "source": [
    "print((test_naive_bayes(test_x, test_y, logprior, loglikelihood)))"
   ]
  },
  {
   "cell_type": "code",
   "execution_count": 22,
   "id": "fe2ad3a2-01e5-447a-b83d-eec643f67a77",
   "metadata": {
    "tags": []
   },
   "outputs": [
    {
     "name": "stdout",
     "output_type": "stream",
     "text": [
      "Sabhi party jila ikai ko tatkal prabav se bhang kar ke phir se ????????? -> 3.93\n",
      "प्रियाजी, #Media420 की नमक हरामी की हद तब पार हुई ,जब पाकिस्तान में नाबालिग हिंदू बच्ची का मुस्लिम ने अपहरण करके उसे इस्लाम धर्म अपनाने के लिए मजबूर किया  , इस बारे मे ना तो मीडिया ने मुंह खोला और ना ही सरकार द्वारा कोई ठोस कदम उठाया गया| -> -16.12\n",
      "कोई किसी को “गाली” दे, कोई किसी को “ठोक” दे, कोई किसी को “धमकी”  दे या कोई किसी की “हत्या”  कर दे..........राम के “नाम”  पर, अब सब चलेगा. -> -0.77\n",
      "जो औरत     आतंकवादियों की मौत पर बंद कमरे मे रोती हो    उस बारडांसर विदेशी औरत ने शहीदों को श्रद्धांजलि तक नही दी    और कहते है उसके बेटे/बेटी/दामाद  को देश सौंप दो    ताकि ये  @INCIndia  @RahulGandhi  @priyankagandhi  @priyankac19  सब मिलकर    ऐसे ही पुलवामा करवाते रहें    #कमीने  -> 3.08\n",
      "अब इन सूअरों को उनकी औकात दिखानी जरूरी है,  100 मैसे 98 मुल्ले नीच ओर घटिया मानसिकता वाली सोच के सुअर होते हैं ।  दिल्ली वालों एक बार हिम्मत दिखाओ, आने वाली पीढ़िया आपको दुआएं देगी।  मारो कटवो को  #TempleTerrorAttack -> -3.29\n"
     ]
    }
   ],
   "source": [
    "for tweet in test_neg[34:39]: \n",
    "    p = naive_bayes_predict(tweet, logprior, loglikelihood)\n",
    "    print(f'{tweet} -> {p:.2f}')"
   ]
  },
  {
   "cell_type": "code",
   "execution_count": 23,
   "id": "fbf3f943-dcac-4595-8525-5e64661700e3",
   "metadata": {
    "tags": []
   },
   "outputs": [
    {
     "name": "stdout",
     "output_type": "stream",
     "text": [
      "भेनचोद तुझी लायकी आहे का महाराजां बद्दल बोलायची तुझी आयची गांड -> 5.70\n",
      "ज़ी न्यूज़ खबर दे रहा है...    ' कश्मीर घाटी के मुसलमान....अमरनाथ यात्रियों का स्वागत करने को दिल से तैयार बैठे हैं '....    समझ नहीं आ रहा है कि खुश हों या घबड़ाएं... -> 7.85\n",
      "सउदी अरब में नमाज के बाद योग करते असली वाले मुसलमान  -> 0.85\n",
      "ज़ुल्म इतना बुरा नहीं जितनी  बुरी तुम्हारी खामोशी है...     हक़ बोलना सीखो वरना पीढियां गूंगी हो जाएंगी... -> 1.69\n",
      "#AIMIM Party Floor Leader Habeeb E Millat Akbaruddin Owaisi Sahab Addressed Speach at Owaisi School Of Excellence Jamal Colony #Hyderabad! @imAkbarOwaisi   @asadowaisi -> 9.25\n"
     ]
    }
   ],
   "source": [
    "for tweet in test_pos[0:5]: \n",
    "    p = naive_bayes_predict(tweet, logprior, loglikelihood)\n",
    "    print(f'{tweet} -> {p:.2f}')"
   ]
  },
  {
   "cell_type": "code",
   "execution_count": 24,
   "id": "b9514e33-8afb-48ac-93e9-2ced2448514a",
   "metadata": {
    "tags": []
   },
   "outputs": [],
   "source": [
    "def get_ratio(freqs, word):\n",
    "    '''\n",
    "    Input:\n",
    "        freqs: dictionary containing the words\n",
    "\n",
    "    Output: a dictionary with keys 'positive', 'negative', and 'ratio'.\n",
    "        Example: {'positive': 10, 'negative': 20, 'ratio': 0.5}\n",
    "    '''\n",
    "    pos_neg_ratio = {'positive': 0, 'negative': 0, 'ratio': 0.0}\n",
    "    # use lookup() to find positive counts for the word (denoted by the integer 1)\n",
    "    pos_neg_ratio['positive'] = lookup(freqs,word,1)\n",
    "    \n",
    "    # use lookup() to find negative counts for the word (denoted by integer 0)\n",
    "    pos_neg_ratio['negative'] = lookup(freqs,word,0)\n",
    "    \n",
    "    # calculate the ratio of positive to negative counts for the word\n",
    "    pos_neg_ratio['ratio'] = (lookup(freqs,word,1)+1) / (lookup(freqs,word,0)+1)\n",
    "    return pos_neg_ratio\n"
   ]
  },
  {
   "cell_type": "code",
   "execution_count": 25,
   "id": "6dac1f38-e2c6-4dd3-9fa4-2b671295b595",
   "metadata": {
    "tags": []
   },
   "outputs": [],
   "source": [
    "# UNQ_C9 GRADED FUNCTION: get_words_by_threshold\n",
    "\n",
    "def get_words_by_threshold(freqs, label, threshold, get_ratio=get_ratio):\n",
    "    '''\n",
    "    Input:\n",
    "        freqs: dictionary of words\n",
    "        label: 1 for positive, 0 for negative\n",
    "        threshold: ratio that will be used as the cutoff for including a word in the returned dictionary\n",
    "    Output:\n",
    "        word_list: dictionary containing the word and information on its positive count, negative count, and ratio of positive to negative counts.\n",
    "        example of a key value pair:\n",
    "        {'happi':\n",
    "            {'positive': 10, 'negative': 20, 'ratio': 0.5}\n",
    "        }\n",
    "    '''\n",
    "    word_list = {}\n",
    "\n",
    "    ### START CODE HERE ###\n",
    "    for key in freqs.keys():\n",
    "        word= key[0]\n",
    "\n",
    "        # get the positive/negative ratio for a word\n",
    "        pos_neg_ratio = get_ratio(freqs, word)\n",
    "\n",
    "        # if the label is 1 and the ratio is greater than or equal to the threshold...\n",
    "        if label == 1 and pos_neg_ratio['ratio'] >= threshold:\n",
    "        \n",
    "            # Add the pos_neg_ratio to the dictionary\n",
    "            word_list[word] = pos_neg_ratio\n",
    "\n",
    "        # If the label is 0 and the pos_neg_ratio is less than or equal to the threshold...\n",
    "        elif label == 0 and pos_neg_ratio['ratio'] <= threshold:\n",
    "        \n",
    "            # Add the pos_neg_ratio to the dictionary\n",
    "            word_list[word] = pos_neg_ratio\n",
    "\n",
    "        # otherwise, do not include this word in the list (do nothing)\n",
    "\n",
    "    ### END CODE HERE ###\n",
    "    return word_list\n"
   ]
  },
  {
   "cell_type": "code",
   "execution_count": 26,
   "id": "9dd31007-eaa0-49e9-af24-14eecaaa6608",
   "metadata": {
    "tags": []
   },
   "outputs": [
    {
     "name": "stdout",
     "output_type": "stream",
     "text": [
      "{'text': {'positive': 1, 'negative': 0, 'ratio': 2.0}, 'वापसी': {'positive': 3, 'negative': 2, 'ratio': 1.3333333333333333}, 'भारत': {'positive': 148, 'negative': 46, 'ratio': 3.1702127659574466}, '314': {'positive': 1, 'negative': 0, 'ratio': 2.0}, 'रोका': {'positive': 2, 'negative': 1, 'ratio': 1.5}, 'सब': {'positive': 110, 'negative': 66, 'ratio': 1.6567164179104477}, 'रंडी': {'positive': 148, 'negative': 35, 'ratio': 4.138888888888889}, 'नाच': {'positive': 7, 'negative': 4, 'ratio': 1.6}, 'देखने': {'positive': 12, 'negative': 3, 'ratio': 3.25}, 'व्यस्त': {'positive': 2, 'negative': 3, 'ratio': 0.75}, 'शांतीदूत': {'positive': 1, 'negative': 0, 'ratio': 2.0}, 'के': {'positive': 1866, 'negative': 734, 'ratio': 2.540136054421769}, 'होगा': {'positive': 76, 'negative': 37, 'ratio': 2.026315789473684}, 'रंडीरोना': {'positive': 1, 'negative': 0, 'ratio': 2.0}, 'शुरू': {'positive': 32, 'negative': 13, 'ratio': 2.357142857142857}, 'देंगे': {'positive': 24, 'negative': 15, 'ratio': 1.5625}, '\n"
     ]
    }
   ],
   "source": [
    "# Test your function: find negative words at or below a threshold\n",
    "print(str(get_words_by_threshold(freqs, label=0, threshold=5))[0:1000])"
   ]
  },
  {
   "cell_type": "code",
   "execution_count": 27,
   "id": "f5afb13b-54dc-4f72-9b57-13e894f61192",
   "metadata": {},
   "outputs": [
    {
     "name": "stdout",
     "output_type": "stream",
     "text": [
      "Truth Predicted Tweet\n",
      "1\t0.00\tइन भोश्री वाले मुल्लो के भड़वे मुहाम्मद ने   इन सूअर के बच्चो को जानवरों के साथ भी करने कि इजाज़त दी हुई है     भड़वे मुहॉम्मद का भड़वा धर्म     इन सालो को सिर्फ हवस मिटानी है फिर चाहे जैसे भी हो \n",
      "1\t0.00\tBreaking News :- हरियाणा के फरीदाबाद में कांग्रेस प्रवक्ता विकास चौधीर की गोली मारकर हत्या,  खट्टर जी पहले अपराध रोकिए, राम रहीम को बाद में पैरोल दिलाइएगा।\n",
      "1\t0.00\tतेरी परेशानी क्या है सुअर  के पिल्ले मतलब दंगा नही हुआ तो तुझे वो बात भी हजम नही हुई कि वहां के हिन्दू मुस्लिम्स ने मिलकर बैठ कर समस्या का हल निकाल लिया ।  तू चाहता क्या हेबे हिंदी के बलात्कारी  \n",
      "1\t0.00\tUP पुलिस द्वारा “पत्रकारों” की धुनाई सरकार की “तानाशाही” के साथ साथ “लोकतंत्र” के लिये एक बड़ा “ख़तरा” है,लेकिन पत्रकारों को भी अपना “ज़मीर” बेचने से पहले, कुछ थोड़ा बहुत ज़रूर सोचना चाहिये.\n",
      "1\t0.00\tकेजरीवाल का कामनवेल्थ घोटाला  सिसोदिया आज का कलमाड़ी हैं    दिल्ली में स्कूलों में कमरों के नाम पर हुई लूट का पूरा सच - जानिए कपिल मिश्रा से\n",
      "1\t0.00\t  #चमचों के बीच गुजरते हुए #मोदी_मोदी बोल दो या फिर  #कुत्ते की पूंछ पर पैर रख दो ...    फिर देखो ...     दोनों की एक जैसी प्रतिक्रिया होगी       #SaturdayThoughts  #ModiGlobalPower\n",
      "1\t0.00\tअबे सुअर की औलाद  इस तरह की बात करते  तुझे शर्म नहीं आई।  #नीच   निचता की ही बात करेगा।\n",
      "1\t0.00\t#साहेब ने इण्टरव्यु के लिए #अक्षय_कुमार को चुना! जो सिर्फ उनकी तारीफ़ वाले बकवास सवाल करे,  अभी भी कह रहा हूँ आ जाइए @ndtv office, @ravishndtv का सामना कीजिए. AC रूम में पसीना फेंक देंगे क्योंकि जायज़ मुद्दों पर बात होगी #अक्षय वाली चाटुकारिता नही     #ModiWithAkshay #Elections2019\n",
      "1\t0.00\tदिल्ली के दिल चांदनी चौक में दुर्गा मंदिर में 300 नमाजियों की भीड़ नें हमला करके मूर्तियां तोड़ दीं।    चर्च का कांच टूटने या एक शॉल वाले की पिटाई पर खूब कोहर्रम हुआ परंतु अब पूर्ण सन्नाटा।    रुदाली गैंग और असहिष्णुता का रोना रोने वाले अब सेक्युलर बुर्के में घुस गए।\n",
      "1\t0.00\t#MobLynching-  1. झारखंड के सरायकेला में मंदिर में तोड़फोड़। गांव की औरतों को रेप की धमकियां।    2. मुरादाबाद में गंगाराम को पीट-पीटकर मार डाला। उनकी नाबालिग बेटी से रेप हुआ।    3. मेरठ के प्रह्लादनगर में मुसलमानों के डर से लोग घर बेच रहे हैं। 1/n\n",
      "1\t0.00\tअल्लाह को गाली दो तो हिन्दू खुश होते है,और भगवान को गाली दो तो मुसलमान..  अब इनको कौन समझाए की पानी और Water में कोई अंतर नही होता  @Anjupra7743\n",
      "1\t0.00\tजहां देखो चड्डी गमछा वालों को  गांड़ में गोली मरो सालो को\n",
      "1\t0.00\tसंसद मे श्रीराम की लत लगाकर राष्ट्रवाद का ढोंग रचने वालो  130 बच्चों की मौत का जिक्र अल्लाह हू अकबर वाले ने ही किया बाकी हंस रहे थे\n",
      "1\t0.00\tनन्ही “फूल” सी बिटिया,एक प्यारी सी गुड़िया, हाथ नहीं काँपे उन राक्षसों के, ज़िंदा जला दिया जाये तो भी सज़ा अधूरी ही रहेगी...#TwinkleSharma\n",
      "1\t0.00\tअमें! सामने मीडिया और कैमरा ऑन करवा कर साधना में कौन लीन होता है!   हद हो गयी नौटन्की की     #ModiInKedarnath\n",
      "1\t0.00\t18 साल का सैनिक शहीद हुआ तो वह बच्चा नहीं था और     25 साल का पत्थरबाज मारा जाए तो वह बच्चा था   कौन सा नशा करते हो दोगले\n",
      "1\t0.00\tदेख @sardanarohit  दल्ले ये भी तो एक पत्रकार है इसे अपने जाति धर्म का नहीं पता बस पत्रकारिता क्या होती है ये पता है । साले आज दंगल कर रहा है जब दस सूअर मिल के एक लाचार , कमजोर, इंसान की जान ले रहे थे तो तेरा दंगल पिछवाड़े में घुसा था । दलाल मीडिया।हरामी\n",
      "1\t0.00\tअपने दादा नाना से पूछ लो भड़वा कौन है तलवार के डर से कलमा पढ़कर सुन्नत करवाने वाले  कौमी\n",
      "1\t0.00\tनीच को नीच ही दिखते हैं।  तू #हिन्दुस्तान का सबसे बड़ा #नीच है। जो एक  #सुअर का प्रचार करने के लिए गया था। जिताया नहीं अपने   #सुअर_बाप को नीच\n",
      "1\t0.00\t#शेरो के काफिले में #कुत्ते अच्छे नही लगते,  #सबका_साथ वाला नारा सही था  लेकिन @ArvindKejriwal वो लोग है जिनको #सबसे_अलग रखना चाहिए,  अगर इन जैसे लोगो को आप न्योता देंगे तो आम जनता का आपसे भी भरोसा उठ जाएगा  @narendramodi   @narendramodi_in   @PMOIndia\n",
      "1\t0.00\tइस्लामिक आतंकवाद  इस्लामिक आतंक का समर्थन करने वाले मुस्लिम  मस्जिदों में से बहार निकलते मुस्लिम पत्थरबाज,  झंडे पर कुरान की आयतें लिख कर ह्त्या और बलात्कार की धमकी देने वाले मुस्लिम आतंकवादी  इस्लामिक आतंकियों का समर्थन करने वाले पाकिस्तानी कश्मीरी  @Payal_Rohatgi @Afraoo7 @ojhaneha1\n",
      "1\t0.00\t#चोर,#नीच चौकीदार अपनी हद में रह, और अपने #दलाल चौकीदार  की गुलामी कर।\n",
      "1\t0.00\tहिन्दू परिवार ने तीन मुस्लिम बेटियों की शादी कराई  शबगा गांव के शिक्षक सतेंद्र पंवार ग़रीब मुस्लिम परिवार की 3 बेटियों की शादी करवाकर हिन्दू मुस्लिम एकता की मिसाल पेश की।  ऐसी खबरें दिल को सुकून देती हैं, और नफरत फैलाने वाले नफरतखोरों को तकलीफ़ देती है।  @yasarshah_SP @dralvirashah\n",
      "1\t0.00\tदिल्ली में मंदिर तोड़ा गया कोई भी नेता आवाज  नहीं उठा रहा है अगर मस्जिद तोड़ी गई होती तो रंडी जैसा नाच  करते साले ह****\n",
      "1\t0.00\tये नीच पैदा ही हुआ था, या पैदा होने के बाद महा नीच बना।  इस खबीस के बाल बच्चे होते तब तो इसे पता चलता न कि बच्चो के मरने का दर्द क्या होता है।  #नीच\n",
      "1\t0.00\tअबे दोगले ,मुस्लिम युवकों द्वारा तोड़फोड़ की गई ये बोलने में तेरे मुँह में दही जम गया क्या    अराजक तत्व मुस्लिम थे मुस्लिम     कितने दोगले हो तुम कांग्रेसियों    तुम्हारी गांड क्यों फटती है शांतिदूतों से,मुझे आज तक समझ नही आया    जो कायर हिन्दू पहले मुस्लिम बन गए थे वो तुम जैसे ही थे\n",
      "1\t0.00\t#templeterrorattack   कुत्ते की पूंछ सीधी हो सकती है लेकिन मुसलमान कभी सुधार नहीं सकता.. सूअर साले शैतान की किताब पढ़ते हैं\n",
      "1\t0.00\tअगर ये सच है तो ये भड़वा गद्दार जेल के अंदर क्यों नही, मोदी अब इन जैसो को भी सजा नही दिलवा पाए तो क्या काम का 56' https://www.facebook.com/100001413129582/posts/2405442892846125/ …\n",
      "1\t0.00\tजय श्री राम के नारे जबरदस्ती लगवाने वालों का हिंदु धर्म से कोई लेना देना नही है ये मै नही गीता और रामायण उपनिशेद पुराण कह रहे हैं,,\n",
      "1\t0.00\tपत्रकारों ने सत्ता के आगे झुक कर   अपना 'ओहदा' खो दिया और   सिर्फ 'औकात' रह गई।\n",
      "1\t0.00\tअंसारी ने मिलकर सिर्फ इसलिए मार दिया क्योंकि मंगरु पाहन ने इन युवकों को अपने घर के बाहर गांजा पीने से मना किया था।  मंगरु पाहन अपने पीछे पत्नी व तीन बच्चों को छोड़कर चले गए हैं। मंगरु पाहन जो निर्दोष थे   जिनका कोई आपराधिक इतिहास नही था   #MobLynching\n",
      "1\t0.00\tकुछ चुल्ले लिख रहे है की   'मैं हूं तबरेज'    हाँ तो  इसमे बताने की क्या बात है, शक्ल से ही चोर लगते हो।  \n",
      "1\t0.00\t#कुत्ते दो तरीके के पाले जाते हैं  एक पाला हुआ   दूसरा खरीदा हुआ  मणिशंकर कांग्रेस का पाला हुआ कुत्ता है और सिद्धू खरीदा हुआ \n",
      "1\t0.00\tआज मोदी के मुस्लिम पे किये जा रहे वादों को मास्टरस्ट्रोक बता रही है?डिबेट में सबका-साथ सबका विकास बता रही है।    लेकिन कही अगर विपक्ष पार्टियों मे से किसी ने मुस्लिम के लिए योजना लाती है तो मीडिया के साथ पूरी BJP मण्डली कूद जाती विरोध मे?    लेकिन ये तो BJP कर रही इस लिए सब ठीक है।\n",
      "1\t0.00\tनारियों को घुंघट/पर्दा रखना है या नहीं, यह उन पर डिपेंड है। पुरुष वर्ग कौन होता है, यह कहने वाला की महिला क्या पहने,क्या ना पहने ?  @LambaAlka @salempurmanisha @Anjupra7743 @KaranwalTanu\n",
      "1\t0.00\tविरोध इस बात पर निर्भर करता है कि विरोध कौन कर रहा है और किसका कर रहा है? ये बड़ा फैक्ट है, आप चोर को चोर बोल रहे है मगर जनता उसे साहूकार मान रही है यहां आपका विरोध उल्टा काम कर रहा है।  अब राजनीति में वही टिकेगा जो जनता के हिसाब से राजनीति करेगा!  @yadavakhilesh   @dimpleyadav\n",
      "1\t0.00\tआज पूरे देश में ट्विंकल के रेप और मर्डर की आवाज गूंज रही है। और बीजेपी के किसी भी नेता ने ट्विंकल के लिये इंसाफ की बात नहीं की। बीजेपी में इस तरह की टिपणी करने वाले  नेताओ को क्या कहा जाये। #कुत्ते होते है। अब मुझे ऐसा लगता है #बीजेपी #मोदी को वोट देकर बहुत बड़ी भूल कर दी।\n",
      "1\t0.00\tराजस्थान मे हमारे एक दलित भाई की सिर्फ इसलिए  पीट पीट कर हत्या कर दी जाती है क्योंकि उसने  उसने एक दुसरे मजहब की बेटी से मोहब्बत करने की   हिमाकत की  पीटने वाले सभी डरी हुई कौम के लोग है    अब कोई सेकुले रंडी जन्तर मन्तर पर मोमबत्ती या तख्ती उठा कर उसके लिए  अपना हलाला नही करवायेगी  01 \n",
      "1\t0.00\t@sudhirchaudhary बेशर्म और नीच तिहाड़ी तुम्हे रत्ती भर गैरत है?  #नीच #कायर #पतलकार\n",
      "1\t0.00\tजैसे तुम्हारी पत्रकारिता ने मुस्लिमों ,रियाल/दीनार की लालच ने घुटने टेक कर तुमको माहौल मेकर मक्कारी का मुजरा करने वाला भड़वा, हिंदुबिरोधी ,ग़द्दार ,मुसलमानों का चमचा ,दल्ला बना दिया और निष्पक्षता के मामले तेरा गन्दा जमीर खत्म हो गया है।वैसा न सोच ,वैसा यहां असंभव है।\n",
      "1\t0.00\tकितनी दोगली मीडया है mushalman बोलने में कितना कास्ट हो रहा है हरामी\n",
      "1\t0.00\tशेर शेर ही रहता है, चाहे जंगल में रहे या जेल में!  चाहे घेर कर कितनों को घात लगाकर मार दे, गीदड़ गीदड़ ही रहता है!  समझे का ?    @RJDforIndia @TejYadav14\n",
      "1\t0.00\tजयपुर मे दिल दहला देने वाली घटना 7 साल की बच्ची का बलात्कार बच्ची हॉस्पिटल मे ज़िंदगी और मौत की जंग लड रही है    जो हुआ है वह मानवता के नाम पर कलंक है ऐसे अपराधियों को सख्त सजा होनी    @RubikaLiyaquat और @anjanaomkashyap जायरा से फुर्सत मिल जाए तो एक हल्ला बोल देना इस मासूम के लिए\n",
      "1\t0.00\tमरना नही है सुअर को मरना ह\n",
      "1\t0.00\tये विडियो साले जयचंद के बच्चें भी देख रहे होंगे, लेकिन उनकी अपनी ज़मीर फिर भी नही जागेगी, क्योंकि वो हरामी के ही औलाद हैं ।।।।\n",
      "1\t0.00\t@AcharyaPramodk  आत्मीक रूप से जालीदार टोपी वाले कटवे उनका धर्म भी है जात भी है पंथ है सम्प्रदाय है उनका नाम भी है रंग भी है रूप भी है बस अपनी आँखों को खोल और पहचान दिख जाएंगे ये हरामी पना बंद करो अच्छे बनने ढोंग बंद करो । \n",
      "1\t0.00\tये जो तुमने माथे पे बिंदिया लगाई है,  सच कहूँ, बिंदिया  की शोभा बढाई है।    ये जो तुमने कलाई में चूडियाँ पहनी हैं,  सच कहूँ, चूडियों की शोभा बढाई है ।।  #हिन्दी_शब्द                                       #शब्दनिधि\n",
      "1\t0.00\tएकदम सही    जितनी तेजी से कांग्रेस डूबी    उससे कई गुना तेजी से bjp जाएगी    धर्मनिरपेक्षता का खूंटा गांड में गड़ा रह जायेगा\n",
      "1\t0.00\tजब तक देश से दल्ली मीडिया बिल्कुल से बैन नही होगा तब न सरकार कुछ विकास करेगी, न इस देश का विकास होगा?    बस जहां BJP कमजोर है रोज उसी बंगाल पे डिबेट हो रहा है, UP मे हैवानियत ने सारी हदें पार कर दी है? पर सरकार से कोई सवाल नही।    मीडिया देश से जनता से बहुत बड़ी गद्दारी कर रहीं है।\n",
      "1\t0.00\tमेरे सांवरे  अगर तुम खुश होते हो तो कदायी बख्श देते हो    अगर तुम नाराज होते हो तो बादशाही बख्श देते हो    गर तुम अपना बनाते हो तो सब कुछ लूट लेते हो  #राधेराधे\n",
      "1\t0.00\tरमजान के बाद 852 रेप केस...  840 केस मे अपराधी मुसलमान!!  शिकार काफ़िर बच्चियां और साहेब विश्वास जीत रहे हैं।  बच्चियों से हैवानियत हराम नहीं   बेगुनाहों को बम से उड़ाना हराम नहीं   बकरियों के साथ दुष्कर्म हराम नहीं   बस वंदे मातरम् हराम है इन लोगों के लिए ।\n",
      "1\t0.00\t#Amethi  राजीव गांधी जी की पुण्यतिथि 21 मई को है लेकिन पूरा देश आज ही राजीव जी को याद कर रहा है     #नीच को मुंह की खानी पड़ी है  #MainHindustanHoon   #ShameOnPMModi   #शर्म_करो_pm_मोदी\n",
      "1\t0.00\tPlease अपनी अपनी बीमारी बतायें     हमें रात में अंधेरा दिखाई देता है     \n",
      "1\t0.00\tअगर इस्लाम में acting हराम है तो  क्या सलमान, शाहरुख, अमीर और अन्य मुस्लिम कलाकार हरामी हैं\n",
      "1\t0.00\t@DrKumarVishwas randitv के रंडिश कुमार या ये तथाकथित सेक्युलर जमात क्या दिल्ली में मंदिर तोड़ने पे कुछ अपना गंदा से रंडी सा मुँह खोलेंगे,आप भी कुछ बोलेंगे ?????  एक और बात ये अमन पसंद लोग नही है ।\n",
      "1\t0.00\tअंधा बाटे रेवड़ी फिर फिर अपने देय  अभी साप मारा गया है मुँह नहीं कुचला  गया #कन्हैया_कुमार\n",
      "1\t0.00\tचोर, देश द्रोही काफ़िर तु है। सुरेश जी नहीं।  आज तेरा पोल खोल रहा है तो तु बिन पानी मछली की तरह फड़फड़ा रहा है।  तु बचके रहना सुअर बुखारी कहीं तेरा पोल ना खुल जाएं।  और सुन बुखारी राष्ट्र वादी मीडिया को नसीहत देना छोड़ दें।\n",
      "1\t0.00\tविपक्ष को “वन” नेशन वन “इलेक्शन” का विरोध करने की बजाय खुली बहस करनी चाहिये, ये अलग बात है कि “फ़िलहाल”  इसका फ़ायदा “भाजपा” को होगा, लेकिन किसी “पार्टी” को लाभ होने के “डर” से,         देश का “नुक़सान”  तो नहीं किया जा सकता.\n",
      "1\t0.00\tआप देखना मिडिया इतना रंडी विलाप करेगी और कांग्रेस वोट के लिए अगले एक हप्ते में ही दोबारा जाँच का नाम देकर उसे पीड़ित निर्दोष और फरिस्ता घोसित कर देगी ।\n",
      "1\t0.00\tजो सिर्फ जीना चाहते है वो लोग चुप है, लेकिन जो लोग आत्मसम्मान और स्वाभिमान से जीना चाहते है वो लड़ रहे है।\n",
      "1\t0.00\tवैसे भी ये सुअर मस्जिद में करते क्या है एक दूसरे का पिछवाड़ा ही तो देखते है\n",
      "1\t0.00\t@ArvindKejriwal @drharshvardhan @narendramodi नाक तले चांदनी चौक में मंदिर पर हमला हुआ आप खामोश हो गए अभी किसी मस्जिद के किसी मुल्लाह पर  हमला हो जाता आप रंडी रोना को जाता  अब आपको दिखाई नहीं दे रहा कहीं कुछ भी\n",
      "1\t0.00\tयही अगर किसी मस्जिद में हुआ होता तो तेरे आतंकी कौम वाले पूरे देश मे दंगा फसाद कर दिए होते..दोगले पत्रकार देश मे असहिष्णुता घोषित कर दिए होते.और तू मुस्लिमो का रहनुमा बन कर यह बात पूरे विश्व मे फैला दिया होता कि हिंदुस्तान में मुस्लिम डरे हुए है  हरामी के इस का बदला जरूर लिया जाएगा \n",
      "1\t0.00\tकितनी शर्म की बात है न कि हम सोचते है हम अमेरिका चीन और जापान जैसा देश बनाने का सपना देख रहे है।    जहां एक मीम और गाय पर पूरी सत्ताधारी पार्टी  और मीडिया उतर जाती है, वही 200 बच्चों के मरने पर सब गूंगे बन गए है।    क्या पहले ऐसा था हमारा देश? क्या इतनी बेशर्म थी सरकार और मीडिया?\n",
      "1\t0.00\tवो भोपाली जिहादी सुअर अल तकिया चला रहा है।\n",
      "1\t0.00\tपत्थरबाज और वहाँ के दोगले नेता जो खाते हिंदुस्तान की है और बोलते है पाकिस्तान की भाषा।।  वहाँ के लोग जो जरूरत पड़ने पर भारतीय सेना की मदद लेते है और बाद में उनपर ही पत्थर मारते हैं।।\n",
      "1\t0.00\tआजम खान  the   सुअर\n",
      "1\t0.00\tतुम जैसे हिंदूद्रोही गद्दार & मुगलो K तलवे चाटने वाले ही अब ज्ञान बांट रहे हैं क्योंकि इस जिहादी हमले में मुस्लिमों की आतंकी भीड़ ने हमारे मन्दिर को तोड़ा है अगर इसके उलट हिन्दू कुछ बोल भी दे तो तुम लोग & ये पालतू केजरीवाल सैकड़ो ट्वीट करता अब ज्ञान न पेल तू सुअर । #TempleAttack\n",
      "1\t0.00\tभाजपा वाले ख़ूब जानते हैं कोन सा #मुद्दा जनता के मुँह पर कब #चिपकाना है #कर्नाटक चुनाव में जिन्ना”गुजरात”में #नीच,”MP”Cg और”राजस्थान”मे”बजरंगबली”दिल्ली”पंजाब”हरियाणा”के लिए #राजीव गांधी और #सिख दंगे,12मई के बाद कोई और,ऐ सिर्फ इसलिए ताकी जनता 2014 का #धोषणा पत्र न देख सके\n",
      "1\t0.00\tहाँ आप का अधिकार है दुर्गा मंदिर तोड़ सकते है  हम हिंदुओ से नमक हरामी की हद हो गयी\n",
      "1\t0.00\tBJP नेता मुख्तार अब्बास नकवी और शहनवाज हुसैन इनको बीच चौराहे खड़ा करके इनसे भी जयश्रीराम के नारे लगवाओगे ?\n",
      "1\t0.00\tएक और मोब्लिचिंग    असम में गोमांस बेचने के शक में भीड़ ने मुस्लिम बुजुर्ग को सड़क पर पीटा, जबरन खिलाया सुअर का मीट!!     @asadowaisi @shaukat_aimim @AqdasShaikh_sp @dralvirashah @yasarshah_SP @akramtyagi @BhimArmyChief\n",
      "1\t0.00\tबीजेपी ने तो जय श्रीराम का नारा लगाया जो कि सही हैं क्योंकि इससे करोड़ों लोगों को भाईचारा का संदेश मिला।मगर जो लोग #देश तोङने वाले नारा लगाए उनको क्या कहेंगे #नीच राजनीति का उदभवकर्ता या #देश द्रोही  #जय श्रीराम\n",
      "1\t0.00\tअबे कुछ तो बोल दे .मुसलमानों की भीड़ ने 100 साल पुराने हिंदू मंदिर में जमकर तोड़फोड़ किया सारी मूर्तियां तोड़ डाली और यह दोगला नीच अपनी बेटी की उपलब्धि बता रहा है अगर मस्जिद में हमला हुआ होता तो यह लहंगा उठाऊ डांस करता  pakka भडवा है\n",
      "1\t0.00\tसिर्फ सेना के 13 #जवान और #विमान ही नहीं लापता है    वह #हरामखोर #कुत्ते भी लापता है जो #सेना के नाम पर #वोट मांगते है     #Kathua #Kathua #Kathua\n",
      "1\t0.00\tजो भी मेरे ईश्वर के विरूद्ध आये काट दो सालों को ये आग बहुत आगे जाएगी सीधे रण होना चाहिए   ईश्वर से कामना है ये जो राक्षस है उनका संघार करने के लिए इस्वर लोगो को शक्ति दे   सुरश चव्हाणके @SureshChavhanke  आप बहुत सही कर रहे है   ये साले सुअर है   इनको अहिँसा परमो धर्म समझ नही आता\n",
      "1\t0.00\tआज भी कई लोगो को गलिय पड़ती पर वो चुप रहते ह सही पगर नही मिलती फिर भी काम  करते है उनसे ये बोल जाता है अभी काम का लो फिर तंख्वा बढ़ा देगे फिर काम होने पर निकल दिया जाता है   #कमीने मालिक #दिलसे\n",
      "1\t0.00\tमडलजात पत्थरबाज ,बेगैरत अल्लाह के अनुयाई, निर्लज्ज भारतीय, बेशर्म अलगाववादी (जो यहां की थाली में खाकर यही छेद कर रहे है)  अब और भी सब्द है dm ओपन कीजिये लिखकर भेजता दिल खुश हो जाएगा। \n",
      "1\t0.00\tबॉम्ब धमाके कराने वाले शांति दूत है, पकडा गया हर आतंकी मुस्लिम है पर फिर भी आतंकवाद का कोई धर्म नही है???  और हिंदू यहां पर असहिष्णू है, हक के लिए बोले तो नफ़रत फैलाने वाला है, भगवा आतंकी है, सेक्युलरिज्म का पाठ सिर्फ हिंदू के लिये होता है। जय श्री राम।  #SayYesToJaiShriRam\n",
      "1\t0.00\tढ़ोंगीबाबा बाबा अगर सत्य लिखने में गाँड फटती है तो मत लिखो, लेकिन ईतना भी गांडू मत बनो की तुम्हे मन्दिर तोड़ने वालों में मुस्लिम दिखना ही बन्द हो जाये।।।  बेफिक्र होकर लिखो अगर कही कोई हिन्दू मस्जिद तोड़ता है तो लेकिन इस तरह की दोगलापंथी मत कर,,,,,,,,,ढोंगी कही का।  चल फुट\n",
      "1\t0.00\t1 चींटी मारो या 100 मनुष्य को पाप = होता है ऐसा सनातन धर्म में लिखा है, आजकल आतंकी #प्रज्ञा_ठाकुर #न्यालय को भी धमकाने लगी है, आजकल पापी पाखंडी भ्रष्ट लोग भी साध्वी महात्मा जैसे टाइटल अपने नाम के आगे लगाते हैं, जिनको अपने ही धर्मों का कुछ ज्ञान नहीं आज ऐसे ऐसे लोग भी विराजमान है।\n",
      "1\t0.00\tइतना भाँति भाँति के कपड़े तो मॉडल भी नहीं पहनती जितना मोदी पहनते हैं,   ऐसा लग्ज़री फ़क़ीर अब तक दुनिया ने नहीं देखा था ||\n",
      "1\t0.00\tबंगाल में एक पेड़ गिर जाए चार-छे पत्ते बिखर जाए तो दल्ली मीडिया वहां पहुँच के नंगा नाच सुरु कर देती है??    ममता से नही सम्हल रहा बंगाल, बंगाल का हाल बेहाल जैसे हेडलाइन बनते है।    वही UP मे 10 दिनो से लगातार हत्या और बलात्कार हो रहे है? इसपे मीडिया ऐसे चुप है जैसे UP यूगांडा मे है।\n",
      "1\t0.00\t1    शांतिदूत द्वारा पड़ोसी हिंदू कि 13 वर्षीय नाबालिग बच्ची का अपहरण, पुलिस में शिकायत करने पर शांतिदूत ने अपने पूरे परिवार संग मिलकर की अपह्रत बच्ची के हिंदू पिता की मोब्लिंचिंग।\n",
      "1\t0.00\tऐसा ही मुसलमानो का रवैया रहा तो जमामसजिद पर धावा बोलना पडेगा साथ मे मिडिया रंडी रोना रोये तो यही सवाल करना है मंदिर पर सनाटा और मसजिद पर रोना ये कैसे चलेगा\n",
      "1\t0.00\tकितने घटिया हो कांग्रेसियों तुम!  अपने देश के निर्वाचित प्रधानमंत्री की तुलना तुम कुत्ते से भी करने लगे।  ऐसी नफरत!  ..फिर तुमसे नफरत करने वाला व्यक्ति नेहरू, इंदिरा, राजीव में #कुत्ते की छवि क्यों न देखे?  इन कुसंस्कारों से कब बाहर आओगे तुम?\n",
      "1\t0.00\tहिन्दुस्तान के ईस्लाम में लड़कियों-महिलाओं को रंडी बन कर देह बेचना हराम नहीं है, पर फिल्मों मे काम करना हराम है।  मुश्किल ये है कि मुस्लिम लड़कियां अगर तरक्की करेगी तो मौलवियों की बिस्तर ठंढ़ी हो जायगी। थू..... \n",
      "1\t0.00\tपूरी मुस्लिम कौम ही पत्थरबाज हो गई हैं।यहाँ का वीडियो देखकर कश्मीर में इन्हें पत्थरबाज की नौकरी पक्की।\n",
      "1\t0.00\tभगवा आतंकीयाे के राजनितीक कांडाे की वजह से हमारे हिंदु भाईयाे काे बुरा भला ना कहे,  जाे राम एक बार कहने पर चाैदह साल के वनवास पे जा सकता है, वाे ज़बरदस्ती जय श्रीराम सुनने का माेहताज नही है  ‍‍‍\n",
      "1\t0.00\tअरे सुअर चिंता मत कर हिन्दू भी किसी मस्जिद तो तोड़ देंगे और फिर मस्जिद को बनवा देंगे।फिर देखूंगा उस दिन तू क्या बोलता हे।\n",
      "1\t0.00\tभड्वे कामचोर लोगों की पार्टी समाजवादी पार्टी तुम्हारे 2 MP सूअर की औलाद हैं जिन्होने जया प्रदा को तवायफ कहा वो साले  सूअर की पैदायश हैं।\n",
      "1\t0.00\tइस हरामी चुतिये की अक्ल अब खुल रही है \n",
      "1\t0.00\tदिल्ली में 300 मुल्ले मंदिर तोड़ते है     ओर ये मुल्लो का पिछवाड़ा चाटने वाला केजरीवाल झारखंड के चोर मुल्ले को 5लाख देता है भड़वा    @ArvindKejriwal   @MithileshTpt @shuklaji__\n",
      "1\t0.00\tशाबाश दलित बहन   यह है आज की फूलन देवी    बलात्कार की कोशिश करने वाले युवक का प्राइवेट पार्ट युवती ने काट दिया ऐसे लोगों को तभी शबक मिलेगा    @AryaShital @Rana11639322 @Anjupra7743 @BhimArmyChief @KaranwalTanu @bkarwadiya\n",
      "1\t0.00\tकृपया, आप इस रंडी की औलाद महमूद को कहां से ले आते हो. इसे अपने कार्यक्रम से भगा दो. वर्ना सभी हिन्दू भाई news18india का वहिष्कार कर रहे हैं. मेरी सभी हिन्दुओं से अपील है.\n",
      "1\t0.00\tगाय का गोस्त ले जाता पकडा गया भाजपा का कार्यकर्ता हैदराबाद मंदिर मे ले जा रहा था दंगे करवाने के लिए#अंधभक्तों की #नीच हरकत, ये चाहते ही नहीं देश में #शांति  @Zubeena_ @EngrKhalid7 @ShekhJiyarat @pihugreat @Gajendr34511205 @Abdal__Abdullah @RiituS\n",
      "1\t0.00\t18 साल का सैनिक शहीद हुआ तो वह बच्चा नहीं था और     25 साल का पत्थरबाज मारा जाए तो वह बच्चा था   कौन सा नशा करते हो #### के\n",
      "1\t0.00\tअकबर को नाना  बाबर को अपना बाप  औरंगज़ेब को दादा माननेवालों सुनो @asadowaisi    बंदे ने भगवा लपेटा है तो ये मत कहना के ये काफिर है, RSS का एजेंट है, भाजपा का दलाल है    अकबर को फेंको, औरंगजेब को दफना दो और बाबर का इस्लाम छोड़ प्रभु #श्रीराम के मंदिर की ईंट सर पे उठा लो    जय श्री राम\n",
      "1\t0.00\tबात आपकी बिल्कुल सही है. लेकिन दिल्ली का मुखिया घुँघरू सेठ UP, झारखंड etc तक भाग जाता है सरकारी नौकरी और मुआवज़ा देने शांतिदूत कौम को लेकिन वो ही जिहादी हरामी मुँह में दही जमा लेता जब दिल्ली में शांतिदूत कौम अगर महा आक्रामक हिन्दू समाज पर हमला करता है तो. \n",
      "1\t0.00\tअनपढ़ लोगो की वजह से ही हमारी मातृभाषा बची हुई हैं साहब  वरना पढ़े हुए कुछ लोग तो राम राम बोलने में भी शरमाते हैं !  #राम_राम\n",
      "1\t0.00\tसूअर गटर मे पडा़ रहना चाहता हैं तो पड़ा रहने दो भाई\n",
      "1\t0.00\tमुंबई के मलाड में 4 मज़हबी शांतिदूतों द्वारा एक #नर #कुत्ते के साथ बलात्कार किया गया, उन्होंने उसके पैर बाँध दिएऔर गैंग ने एक-एक कर बलात्कार किया डॉग ने भारी रक्तपात किया, डॉग जननांग ने डॉग की डेड रिपोर्ट की, अब वे किसी को नहीं बख्श रहे हैं, क्यों भाई अब कोई बचा है क्या ? \n",
      "1\t0.00\tरिजर्वेशन यानी पिछड़ी जातियों के लिए आरक्षण।  एक ख़ुदा को मानने वाला मुसलमान जातियों में बंट गया तो उसे मुसलमान कहलाने का कोई हक नहीं।  #समझा_करो_यार कि जनसंख्या को ख़ुदा की सौगात बताने वाले उन्हें पोसने के लिए सरकार से गुहार क्यों लगा रहे हैं।  #ठीक_है   #जनसंख्या_नियंत्रण_कानून\n",
      "1\t0.00\tभोंसड़ी के तुम दोनों फ्रॉड हो     दोनो माके लौंडे हरामी हो\n",
      "1\t0.00\tआज तक मिडिया मूरदाबाद है साले  हिन्दू बहन बेटियों को लव-जिहाद में फसा कर जिन्दा जला देते हैं तब मिडिया वाले कुत्ते किधर मर जाते हैं साले भड़वे भौसडिके आज तक वाले कुत्ते है  हिन्दू समाज के भाईयों आज तक चेनल न देखें\n",
      "1\t0.00\tमिडिया में न्याय स्कीम की चर्चा नही हुई...   -ये बयान न्यूज़ #एंकर का है कि #कांग्रेस प्रवक्ता का?   तुम लोगो ने तो राहुल गांधी के #कुत्ते से लेकर #समोसे तक को कवरेज दी...   तुम सब राहुल वाले पत्रकार हर इंटरव्यू में मोदीजी को नीचा दिखाते थे...छींटाकशी करते थे...  हम भूले नहीं है_\n",
      "1\t0.00\tअब मंदिर वही बनाएंगे भी हुआ जुमला   मंदिर थोड़ा साइड में बनाएंगे     तो फिर अब तक बबाल किस बात का  चुनाव आते ही बीजेपी वालों को राम मंदिर याद आता है    राम के नाम पर लिया गया करोड़ों रुपये का चन्दा डकार जाते हैं  कुर्सी मिलते ही राम को भूल जाते हैं ऐसा क्यों?  @AbbasAliRushdi @LambaAlka\n",
      "1\t0.00\tतेरे जानू लोग कर रहे है अनपढ़ गवर सिर्फ पेलवाना जानती है पढ़ना लिखना नहीं.बलात्कार और हत्या करने वाले up में उसमे छोटी बच्चियां ज्यादा है लोग है ..आमिर,शारुख,सलमान,मुहमद,इम्तिएज़ सब्बीर,नासिर,अजहर,मोहसिन..अब बता मुँह लुंड घुस गया न अब इन के खिलाफ पोस्ट्स कर ये मुस्लिम है \n",
      "1\t0.00\tअबे ओ तुर्क मुसल की पैदाइश, रमजान मे मथुरा में लस्सी के पैसा मांगने पर तेरे सूवर जात भीड हत्या कर गई तब तुम भोसडिके कहां था, कन्याओं महिलाओं को हत्या बलात्कार तेरा ही अल्लाह के खान्दान वालों ने किया इस पर तुम चुप रहा!इसलिए तेरे अल्लाह के जात पर जो भी हो तुम चुप रहो समझे \n",
      "1\t0.00\tकहाँ है दिल्ली का मालिक भड़वा  @ArvindKejriwal   मन्दिर में तोड़फोड़ पर चुप ??\n",
      "1\t0.00\tतुमने हमारा मंदिर तोडा है हम तुम्हारी गांड तोड़ेंगे।। समझे मियां केजरुद्दीन\n",
      "1\t0.00\tमा*रचोद मुल्ला।हिम्मत है तो सामने आकर काफिर बोल,साले हलाला से पैदा हुआ है न फिर से वहीं घुसा दुँगा।सुअर पालते हो और सुअर की पूजा करते हो मस्जिद में तुम सब।\n",
      "1\t0.00\tअरे आंटी कहां घोड़े बेच कर सो रही थी कि तुम्हें पता ही नहीं वह लोग कौन थे वह थे भगवा आतंकी और सड़क छाप संघी गुंडे ।\n",
      "1\t0.00\tसिर्फ सेना के 13 #जवान और #विमान ही नहीं लापता है    वह #हरामखोर #कुत्ते भी लापता है जो #सेना के नाम पर #वोट मांगते है\n",
      "1\t0.00\tइस मुल्ली को कितना तकलीफ हो रहा हैं की इसका एक जीजा के उपर चार्ज शीट दाखिल हुआ हैं और हा इसको हर मुसलमान बेगुनाह ही दिखाई देता हैं दोषी तो बस सिर्फ हिन्दू हैं,, हिन्दू मुस्लिम में राजनीतिक करने वाली रंडी हैं ये जो दुसरे को बदनाम करके अपनी रोटी शेक रही हैं\n",
      "1\t0.00\tवो तो ठीक है लेकिन मन्दिर की मूर्तियों को तोडने की प्रतियोगिता किसने रखवायी थी वो तो बता दो। हरामखोर मुस्लिम मरे तो रँडी रोना ।हिन्दू मरे तो जुबान को लकवा मार जाता है साले हरामखोर दोगले।\n",
      "1\t0.00\tसाले चाधरमोद इतने जूते पड़ेंगे ना की सूअर जैसी शक्ल बागड़बिल्ले जैसी हो जाएगी, सूअरों तुम्हारा इलाज अब तरीके से किया जायेगा, इंतजार करो \n",
      "1\t0.00\tसाला तुम लोग दिल्ली मे हिंदु मंदिर तोडा जाता है कुछ नही बोलते और बाकि मामलो मे गांड मराते हो बढा चढाकर दोगले \n",
      "1\t0.00\tवन्स अ कोंग्रेसी, भेनचोद ऑल्वेज़ अ कोंग्रेसी...\n",
      "1\t0.00\tटाटा स्काई इसको लगा डाला तो बजेपी का जिगलाला । #कमीने\n",
      "1\t0.00\tमें क्योकि वह तुझे नीची जाती में नहीं gernal में काउंट किया जायेगा\n",
      "1\t0.00\tBJP भी जानती है कि यह हरामी बदशकल बहुत ही महाचूतिया, सुअर से भी गिरा इंसान है, बुरा ना मानो कीचड़ से लथपथ इस जानवर का @ManojTiwariMP @DocVatsa @AamAadmiParty @ravi4354 @JanLokPaal\n",
      "0\t1.00\tझुँड में सिर्फ तीन प्रजाति ही शिकार करते हैं..  1- #कुत्ते  2- #हिजड़े  3- #भगवा_आतंकी\n",
      "0\t1.00\tPolice system pura des ka kharab ho Chuka h is par koi action nahi leti h koi sarkar or bharsth police ki sankhya badhti ja Rahi h\n",
      "0\t1.00\tसमस्या ये है कि अगर हैक होने की बात कही तो चुनाव आयोग कह देगा आओ हैक करके दिखाओ  सब जानते हैं कि हैक होगी नहीं तो नया बहाना तो ढूंढेंगे  #EVMHacking #कुत्ते     वैसे पार्टियों का हाल ये  है अभी #ExitPolls के बाद से\n",
      "0\t1.00\tशर्म आनी चाहिए उन गधों को जो हिन्दू-हिन्दू , मुस्लिम-मुस्लिम  करते करते आने वाली पीढ़ी में ज़हर बोने का काम कर रहे हैं   हम भारतीय है  @SheetalSuryav10   @Anjupra7743\n",
      "0\t1.00\t। इस वीडियो पर ज्यादा टिप्पणी ना करें क्योंकि हमारी सरकार मुसलमानों का विश्वास जीत रही है पहले तो यह पत्थरबाज सिर्फ कश्मीर में देखे जाते थे अब यह हिंदुस्तान के कोने कोने में हैं मुसलमानों का विश्वास जीतने के लिए हिंदुओं का विश्वास खोती हुई भारतीय जनता पार्टी बहुत दुख बहुत निराशा\n",
      "0\t1.00\tये सब कुछ जाँच के लिये हो रहा है या चुनाव जीतने के लिये ? एक “सत्य”सवाल !    @AbbasAliRushdi\n",
      "0\t1.00\tतु डुकर का भी वही होंगा, और तेरे नाम से समझ आगया है के तुम्हारी एक ही बिरादरी है जो ये सारे नफ़रतों का बाज़ार जमाके रखे हो। अरे हरामी अपना नहीं तो वो बच्ची का सोच के तेरे साथ भी वो हो सकता है जो विडीओ वाले के साथ होंगा। \n",
      "0\t1.00\t@RahulGandhi @narendramodi जी को चोर बता सकते है,   उनकी माताजी @narendramodi जी को #मौत_का_सौदागर बता सकते हैं,   #मणीशंकर_अय्यर @narendramodi जी को #नीच बोल सकते हैं।     पर @narendramodi जी की क्या औकात की वो गांधीपरिवार को कुछ भी बोले!!    #NamdarVsKamdar\n",
      "0\t1.00\tमिट रहे फ़ासले, खुल रहे रास्ते: @digilocker_ind को 2.38 करोड़ से अधिक लोगों को इस्तेमाल कर रहे हैं।     डिजिटल इंडिया, चलो बनाएं न्यू इंडिया। #DigitalIndiaNewIndia\n",
      "0\t1.00\tभक्त बेचारे कल से परेशान है !  की पकौडे बेच कर 5 लाख कैसे कमाए..     और मोदी जी की छूट का हक़दार बने !! \n",
      "0\t1.00\t#NusratJahan ने किसी गैर मुस्लिम से शादी की तो यह उनका 'व्यक्तिगत फैसला'   और  #ZairaWasim  ने फिल्म इंडस्ट्री  छोड़ी तो यह 'धार्मिक कट्टरता' ?   इतना हरामीपन कहां से लाते हो ?? बे दलाल मीडिया    इसमें तू क्यों रंडी रोना रो रहा है\n",
      "0\t1.00\tक्या बे #कटुए #कुत्ते, तू क्यों भौंक रहा है??   #पोर्किस्तान के निवासी\n",
      "0\t1.00\tजी सही कहा आपने सुअर आचार्य जी  दंगाईयो का कोई धर्म नही होता अगर दंगाई   विशेष समुदाय से हों पीड़ित बहुसंख्यक हो  मगर पीड़ित जालीदार टोपी वाला हुआ तो  दंगाईयो का धर्म भी होता हैं और अगड़ा समुदाय   भी होता हैं वाह क्या कहने तेरी घटिया सोच के\n",
      "0\t1.00\tAMU को बीते साढे चार साल मे लगातार निशाना बनाया गया है। अब फिर से AMU मीडिया के ट्रोल्स और बजरंग दल के निशाने पर है। AMU पर विपक्ष का कोई नेता जुबान नही खोल पाया है, सिर्फ भीम आर्मी ने आवाज़ उठाई है। भाई @BhimArmyChief का AMU के लिये आवाज उठाने के लिये बहुत बहुत शुक्रिया।\n",
      "0\t1.00\tये किस जुगाड़ में हैं हर बार किसी को बेइज़्ज़त करना अच्छा नही है @yadavakhilesh @AbbasAliRushdi @preeti_chobey @BrajeshYadavSP\n",
      "0\t1.00\t  मजे की बात देखिए #मौत सामने होते हुए भी   #भारतीय#सैनिक     फौज की #नौकरी नही #छोड़ते...    वही कुछ #कमीने #अखबार #पढ़कर #देश छोड़ने की बात करते हैं    #नसुरुद्दीन शाह\n",
      "0\t1.00\tअजहर मसूद को आतंकवादी “घोषित” करवा देना,मोदी सरकार की एक बहुत बड़ी “उपलब्धि” है,क्यूँ कि अभी तक किसी को ये “पता” ही नहीं था, के वो “आतंकवादी” है.\n",
      "0\t1.00\tभैया जी उत्तर प्रदेश के हर जिले के जो जिला अध्यक्ष हैं 70% परिवर्तन ला दीजिए साथ ही पूरे उत्तर प्रदेश समाजवादी कार्यकर्ता पदाधिकारी नेता तो आप आदेश दीजिए हर जुल्म ज्यादती के खिलाफ रोड पर उतरना ही उचित है अगर संभव हो भैया जी तो आदेश करें आपका बूथ प्रभारी विधानसभा 346 मुबारकपुर से बूथ संख्या 119,120,121,122,धन्यवाद जय अखिलेश जय समाजवाद जिंदाबाद जिंदाबाद\n",
      "0\t1.00\tSabhi party jila ikai ko tatkal prabav se bhang kar ke phir se ?????????\n",
      "0\t1.00\tजो औरत     आतंकवादियों की मौत पर बंद कमरे मे रोती हो    उस बारडांसर विदेशी औरत ने शहीदों को श्रद्धांजलि तक नही दी    और कहते है उसके बेटे/बेटी/दामाद  को देश सौंप दो    ताकि ये  @INCIndia  @RahulGandhi  @priyankagandhi  @priyankac19  सब मिलकर    ऐसे ही पुलवामा करवाते रहें    #कमीने \n",
      "0\t1.00\tक्या भगवा रंग को पनौती माना जाए?  क्योकी भगवा पहनते ही देश को हार का सामना करना पडा  #cricket\n",
      "0\t1.00\tइस FBपोस्ट को पढें क्योंकि ऐसे ही घटीया सोंच के ABVP कार्यकर्ता होते है जो महिलाओं को हमेशा गलत नजरिए से देखते है। इनका बस चले तो ये अपनी सगी बहन को भी नहीं छोडते    महिला विरोधी होना ही RSS के कोर्स में है और कुछ भक्त इस कोर्स को पूरी कर भाजपा के नेता बने बैठे है। @abhisar_sharma\n",
      "0\t1.00\tभगवा टीम ने एक भड़वा टीम को बाहर से ही भगवा दिया,  इसे  कूट नीति नही कूट कूट कर पेलना कहते है ।\n",
      "0\t1.00\tपाकिस्तान हरामियों का देश है।हिन्दुस्तान को उसकी भलाई के लिए कुछ न सोचेंगे और न ही उसे किसी भी प्रकार की मदद करेंगे।ये हरामी पाकिस्तान हमारे देश मेंआतंकवादी को भेज कर हमारे देशकेलोगों को मारते है इसके बाद तू बकवास कर रही है।अगर कश्मीर में कश्मीरी पंडित नहीं रह सकते तो कैसी रहेगी।\n",
      "0\t1.00\tसंसार गोलो छ छैन थाह भयेन तर त्यहाँ भित्र  बसने मान्छे   चै हरामी छन\n",
      "0\t1.00\tहम तेरे लिये कुछ नही कर सकते ऐ दोस्त...!!!  हमें अभी और मंदिर और मस्जिद बनानी है...!!  @AacharyaSahiiL @Anjupra7743 @Rana11639322 @Gabbar0099 @Badansi59019507 @ShaniSeth11 @Gautama75980374 @jai9120 @sharkbhagat @Amitaar21 @SheetalSuryav10 @AryaShital\n",
      "0\t1.00\tहम तेरे लिये कुछ नही कर सकते ऐ दोस्त...!!!  हमें अभी और मंदिर और मस्जिद बनानी है...!!  @AacharyaSahiiL @Anjupra7743 @Rana11639322 @Gabbar0099 @Badansi59019507 @ShaniSeth11 @Gautama75980374 @jai9120 @sharkbhagat @Amitaar21 @SheetalSuryav10 @AryaShital @ziddy_zoya\n",
      "0\t1.00\tउस हरामी के बारे में क्या बोले,जिसके लिए रात दिन एक कर दिये जब वही धोखा दे रहा है!\n",
      "0\t1.00\t@Binakahelunga   इस #कमीने के घर मे बहन शायद नही भी हो पर #माँ.......... तो होगी ही !\n",
      "0\t1.00\tउस्मान मियाँ के पीठ में दर्द हुआ    अल्ट्रासाउंड केलिए radiology पहुंचा..    डॉ: “कमीज़ उतारो, पजामे का नाड़ा खोलो, उल्टे लेट जाओ...”    उस्मान मियाँ :- “ मे के रिया था के पहले अल्ट्रासाउंड कल्लेते।”  \n",
      "0\t1.00\tये रंडी रोना बंद कर के.. अब हर बलात्कारी को सजा खुद जनता दे, तो ज्यादा बेहतर होगा,\n",
      "0\t1.00\tगाली नहीं देनी चाहिए!मजबूर हूँ-मांजरेकर इतना बड़ा मादरचोद है इसको पता नहीं धोनी से क्या समस्या है.ये मादरचोद को उससे समस्या है और अगर इस मादरचोद मैं दम है तो सीधे उससे बात करे,लेकिन अगर ये पब्लिक के सामने इस देश के शान को खराब करने की कोशिश करेगा तो ये समझ जाए! @sanjaymanjrekar\n",
      "0\t1.00\tस्थानीय लोगो के अनुसार तबरेज की मौत के बाद उस इलाके में ओवैसी के पार्टी के मुल्ले जम कर गुंडागर्दी कर रहे हैं वहाँ ओवैसी के गुंडों ने आके घरों मे घुस घुस के महिलाओं के रेप और हत्या की धमकी दी और ओवैसी जिंदाबाद के नारे लगाए    लेकिन मीडिया इस पर पूरी तरह खामोश है!\n",
      "0\t1.00\tBREAKING: बीजेपी विधायक आकाश विजयवर्गीय को जमानत मिल गई है. @AkashVOnline को भोपाल स्पेशल कोर्ट से दो मामलों में 20-20 हजार रुपये के मुचलके पर जमानत मिली है. पहला मामला बिना इजाजत प्रदर्शन करने का था और दूसरा मामला नगर निगम अधिकारी के साथ मारपीट का था\n",
      "0\t1.00\tTay Ho gaya Bhaiya Ji ki kitne mai Seat Bechni Hai Congress Ko\n",
      "0\t1.00\tगरीब व पिछड़े लोग हर साल पैदल यात्राओं में जा रहे हैं फिर भी बुरे  हाल हैं, जो आज तक नहीं गये वो मालामाल  हैं।  @Anjupra7743 @KaranwalTanu\n",
      "0\t1.00\tकिसीने पूछा कि क्या मोदी की भाषा 'सड़क-छाप' है?    मैंने कहा 'भाषा' क्या पूरा आदमी ही 'सड़क-छाप' है    #नीच\n",
      "0\t1.00\tअमन की शांति की बात सुअर मादरचोदों को नही समझ में आएगी क्योंकि इनकी अम्मी औरंगजेब से चुदी है समझ गए बे मादर चोद रंडी के बच्चे\n",
      "0\t1.00\tभीड़ में एक भी अगर राम का बन्दा होता     मेरा दावा है कि तबरेज़ भी जिंदा होता      वह सब राम जादे नहीं हराम'जादे थे !    #TabrezAnsari\n",
      "0\t1.00\tरंडी तू मोदी जी के  बाहों मेँ नहीं पहुँच पाएगी  जितना मर्जी बकवास कर ले जहर उगल ले क्योकि इमरती बाई तुझे लग नहीं लगने देगी तेरी इसी दोगलेपन ने बॉलीवुड मेँ काम नहीं मिलता था एक काम कर प्रिया से सम्पर्क कर पोर्न स्टार बन जाएंगी इसी लायक बची है तू\n",
      "0\t1.00\tये एक ऐसा #नीच आदमी है कि जो धवन के अंगूठे में लगी चोट पर तो ट्वीट करता है किन्तु जब मुजफ्फरपुर में 130 से ज्यादा नौनीहाल मर चुके हैं लेकिन इस #नीच आदमी के मुह से न तो कोई शब्द निकलता है और न ही कोई ट्वीट करता है    #BluddyHell\n",
      "0\t1.00\t#कुत्ते तेरे घर में महिलाएँ नहीं हैं?    SHAME ON YOU  #कुत्ते\n",
      "0\t1.00\tआपके बगल में बैठा आपका बॉडीगार्ड किसी से वहाँ आपसी विवाद में उलझ अपना लाइसेंसी हथियार निकालकर किसी को दाग दे,और खुद को भी ठोक ले.. तो उसमें कोई क्या करे??इतनी तो समझ आपमें हैं जरूर इसलिए अंतिम पंक्ति तो कहीं से जायज थी ही नही,आपको जाति की रोटी इस लाश पर सेंकनी है तो अलग बात।\n",
      "0\t1.00\tइस सूअर को जल्दी हूरों के पास भेज दो\n",
      "0\t1.00\tतेरे को दिल्ली के सड़क पर घुमने वाले #कुत्ते भी कटेंगे     सटक गया खुजली\n",
      "0\t1.00\tदिल्ली बीजेपी के सभी सांसद कहा है इन हरामी के पिल्लों को अब ये मन्दिर टूटने का समाचार अभी नहीं मिला।    वो भोजपुरिया नचनिया मनोज तिवारी कहा गया।\n",
      "0\t1.00\tतु हलाला की पैदाइश पाकिस्तान जाकर हलाला करवा लेना अपने पुरे खानदान का सुअर की औलाद\n",
      "0\t1.00\tक्या मीडिया के #ExitPoll पर BJP की सुनामी चल रही है,    ये देखकर मुझे तेरी मेहरबानिया फिल्म के #कुत्ते की वफादारी याद आ गई-  #जी_हाँ\n",
      "0\t1.00\tजिनके छूट पर एक मच्छड़ भी नही भनकते होंगे,    उनलोगों का अलग ही प्यार का रंडी रोना लगा रहता है\n",
      "0\t1.00\tहम बोले थे ये मादरचोद मुल्ले भारत को इराक़ उर सीरिया जैसा बना के छोड़ेंगे। \n",
      "0\t1.00\tएक ऐसे काम करने वाले सुअर के औलाद के पूरे खानदान को उड़ा दो, फिर देखो खौफ ।  @manakgupta @abhisar_sharma @Radhika_Khera @nk_pvtltd @SapnaChowdharyy @sakshijoshii @Mimansa_Zee\n",
      "0\t1.00\t#बल्लेबाज विधायक का #जूतामार बाप..    1994 में तत्कालीन ASP प्रमोद फड़नीकर जी पर जूते से वार करते उस समय के महापौर कैलाश विजयवर्गीय।    जैसा बाप वैसा बेटा।\n",
      "0\t1.00\tमुसलमान देश किराएदार नहीं   हिस्सेदार है, - अवैसी   दो शब्द इस #कुत्ते के बारे में लिखिए,\n",
      "0\t1.00\tबस एक कहानी   कहानी उस औरत की जो थी बहुत ही  हरामी...\n",
      "0\t1.00\tकांग्रेस पार्टी पहले विशेष पार्टी हुआ करती थी फिर शेष पार्टी हो गयी और अबतो अवशेष पार्टी ही ही बची है आग् आगे देखो होता है क्या   जय हो मोदी राज\n",
      "0\t1.00\tमोदी जी से एक ही बात है अगली बार सरकार बने या नहीं बने लेकिन इन सूअर हलाला की पैदाइश मुसलमानों को बरदाश्त नहीं  कर सकते उन्होंने हिंदुओं की घर पर घुस के मारेंगे मंदिर के देवी देवताओं को तोड़ेंगे मंदिर को नुकसान पहुंचाएगा और हम इनका विश्वास जीतेंगे जो संभव नहीं दिल्ली वाली घटना\n",
      "0\t1.00\tवन्दे मातरम तीन तलाक़ जय श्री राम और अब ज़ायरा, बाक़ी पूरे देश में ना कोई “समस्या” ना कोई समाधान.\n",
      "0\t1.00\tये @sherryontopp असली सरदार नही है।  इसकी जुबान #कुत्ते से भी बदतर है।थूक के चाट लेता है,  खुद का हगा खा लेता है।बस पगड़ी #सरदारों वाली है,बाकि खून तो मिलावटी ही है। थू।!#ElectionResults2019 #VijayiBharat @INCIndia @DrKumarVishwas @Payal_Rohatgi @OpIndia_com #Amethi #ModiReturns\n",
      "0\t1.00\tश्री #तबरेज़_अंसारी के पूज्य पिताजी #मशूकर जी , 15 वर्षो पहले ऐसी ही एक वारदात को अंजाम देते हुए दुष्ट ग्रामीणो के हाथो जन्नत के दीदार हेतु रूखसत हुए थे।    मगर उनका ये श्रेष्ठ कारनामा #लिंचिंग का रूतबा प्राप्त ना कर सका।    जिसके कारण मासूब तबरेज के बाल मन पर गहरा प्रभाव पड़ा।\n",
      "0\t1.00\tयह वही #भारतीय_पार्लियामेंट है जहां 2001 में आतंकी #अफ़ज़ल_गुरु आया था और 2019 में #प्रज्ञा_ठाकुर।    #तब भी भाजपा और #अब भी भाजपा।    #BlackDay\n",
      "0\t1.00\tशहीदों के नाम पर “सियासत” करते करते तुम “संसद” में 303 हो गये, लेकिन अब इतना तो बता दो, कि सेना के बहादुर जवानों के “रोज़” शहीद होने का सिलसिला कब तक रुकेगा.\n",
      "0\t1.00\tअबे सूअर का जना जब पैदा ही चोरी करने के लिए होगा घरों में घुसकर तो उसे लोग लतियाएंगे ही\n",
      "0\t1.00\tमोदी जी का किरदार निभाते निभाते मोदी जी  की ही आत्मा घुस गई इनमें #नीच \n",
      "0\t1.00\tमतलब साफ है...#कुत्ते #ढोंग्रेसियों से बेहतर हैं।  ....  और देश ने एक धौंग्रेसी को प्रधानमन्त्री बनने से रोका।\n",
      "0\t1.00\tYogi ji ke purv janmo ka pap hai........jise up ki janata bhugat rahi hai.\n",
      "0\t1.00\tदिल्ली में आयुष्मान भारत योजना को रोक कर मुख्यमंत्री केजरीवाल ने दिल्ली की जनता के साथ बहुत बड़ा विश्वासघात किया है - श्री @ManojTiwariMP\n",
      "0\t1.00\tइतना #घिनौना काम तो कोई कल्पना में भी नहीं कर सकता है !  आतंकवादी भी सोच रहे होंगे, हमसे भी #कमीने है !! \n",
      "0\t1.00\tइनके बापने कभी खेती नहीं कि होगी... सरकार तलवे भी चाटेगी इसका पैसा जो निकलना बहार...\n",
      "0\t1.00\tटीवी पर पत्रकार हिंदु मुस्लिम विषय पर बहस दिखायेंगे तो दूसरी तरफ RSS ईद मिलन समारोह आयोजित करती है हद है दोगलेपन की,,,\n",
      "0\t1.00\tहे औरत जात तेरे हरामी खसमो ने बहा आतंक मचाया हुआ है।।  इस पर तेरी किया राय है।।।\n",
      "0\t1.00\tएक मुसलमान अपनी पत्नी तलाक़ देकर भी छोड़ दें तो तीन साल की सज़ा     एक हिन्दू अपनी पत्नी को बिन तलाक़ दिए ही छोड़ दें तो प्रधानमंत्री भी बन सकता है.. @RubikaLiyaquat    ये कैसा इंसाफ है..।।    इंसाफ़ के लिए RT करे..\n",
      "0\t1.00\tMLA #AIMIM @warispathan  EXPOSED DRUG MAFIA    Adv Waris Pathan ka NARIYALWADI kabrastaan ke drugs ke mudde per  Kaha ke hum hamesha drugs ke khilaf the hain or rahenge   Drugs free mumbai ki muheem ko barkarar rakkhenge.\n",
      "0\t1.00\tKal kuch or Bola tha .... Kal pure josh me the gathbandhan ki sarkaar ayegi ab kaa hua .... ❤️❤️❤️\n",
      "0\t1.00\tबहुत #दुःख होता है और #क्रोध भी आता है जब भी मैं #दिल्ली आता हूँ और यह देखता हूँ   #सनातन_धर्म का इससे बड़ा अपमान अब न हो इसके लिए #भारत_सरकार को ठोस कदम उठाने चाहिए @narendramodi @ManojTiwariMP @TajinderBagga  @ArvindKejriwal @Sunil_Deodhar @OfficialSdmc @tweetndmc @PMOIndia\n",
      "0\t1.00\tDivide India in the name of castism...\n",
      "0\t1.00\tमनीष सिसोदिया और सत्येंद्र जैन के खिलाफ दिल्ली के पार्लियामेंट स्ट्रीट थाने में शिकायत दर्ज    केजरीवाल का कॉमनवेल्थ घोटाला - मनीष सिसोदिया आज का कलमाडी हैं\n",
      "0\t1.00\tकुरान में वंदेमातरम बोलना नहीं लिखा है  चलो ठीक है  तो कुरान में इलेक्शन लड़ना,  MP बनना कहां लिखा है?\n",
      "0\t1.00\t#प्रज्ञा_ठाकुर ने #गोडसे_ज़िंदाबाद कहा तो नाराज़ हो गये   #कन्हैया_कुमार ने भारत तेरे टुकडे होंगे कहा तो लोकसभा उम्मीदवार बना दिया  #अभिब्यक्ति की आज़ादी केवल इन #ग़द्दारों के लिए है  हमारे विचार तो इनके लिए #छाती पर #सांप लौटाने जैसे लगते हैं    @BJP4India   @biranchilaal   #RWA\n",
      "0\t1.00\t Tujhe logo ko ungli karne me bahut maja aata he isliye padai pe dhyan nahi de pa rahi he\n",
      "0\t1.00\tहर आदमी mo मालूम हे के तुम हरामी ho\n",
      "0\t1.00\tये भी एक प्रकार का आरक्षण ही है ।    12000 रुपये महीना। बिना किसी काम को किये।  #कमीने\n",
      "0\t1.00\tभारत की ज्यादातर योजनाऐं हमें कमजोर बेबस समाज में वर्ग संघर्ष पैदा करने वाली हैं हमे सरकार से कुछ हासिल नही हो रहा है,,\n",
      "0\t1.00\tजिहाद, आतंकवाद, पत्थरबाज, भारत विरोधी नारे, पाकिस्तान समर्थक।\n",
      "0\t1.00\tजिन संस्थाओं को संविधान की रक्षा करनी चाहिए उन्हें भाजपा खोखला कर रही है। एक तरफ़ चुनाव आयोग की रीढ़ की हड्डी टूट चुकी है तो दूसरी तरफ़ पुलिस मूकदर्शक बनी अपराध होते देख रही है।    समय है #MahaParivartan का\n",
      "0\t1.00\tसंघी भारत के हार से खुश क्योकि उन्हें लगता है हमारी हार से पाकिस्तान बाहर हो चुका है।    लेक़िन ऐसा कुछ नही है अभी भी Pak वर्ल्ड कप मे बना हुआ है बहुत कुछ बाकी है।    लेकिन हमारे देश के अनपढ़ संघी खुश हो रहे है क्योंकि हम हार गए बल्कि हमे ये सोचना चाहिए कि हम कैसे हार गए?    #INDvENG\n",
      "0\t1.00\tAap to Pura family ko le.dube Bhaiya ji ....but koe Nhi hm sab Aap ke sath h ....\n",
      "0\t1.00\tजो दिल्ली के चांदनी चौक में हुआ उस से बड़ी इनटॉलेरेंस की घटना कोई हो नही सकती,एक  पार्किंग विवाद की छोटी सी घटना को बड़ा बना कर बाबर और औरंगजेब के वंशजो द्वारा 100 साल पुराने मन्दिर पर हमला करना किसी आतंकवादी हमले से कम नही है।\n",
      "0\t1.00\tFew ppl tried to mock you by chanting Modi Modi in front of you at MSG.. and you started wrestling with them as if you were the big brother of Under Taker. Here 200+ ppl destroyed the place of worship.. and you call it minor communal flare. Rajdeep just being Rajdeep here.\n",
      "0\t1.00\tअंडरवर्ल्ड डॉन दाऊद इब्राहिम को लेकर पाकिस्तान का प्यार अक्सर सामने आता रहा है\n",
      "0\t1.00\tकांग्रेस नेताओं के टाइम लाइन चेक कर लीजिए  जवाब मिल जाएगा  वैसे आरोप लगाना कांग्रेस पर सबसे आसान है क्योंकि बीजेपी पर आरोप लगाते ही औकात बताने लगते हैं\n",
      "0\t1.00\t'अंजना ओम मोदी' भारतीय पत्रकारिता की 'राखी सावंत' हैं।     #shameonanjanaomkashyap\n",
      "0\t1.00\tएक महिला ने योगी जी से प्यार का इज़हार वाली बात कही और उसका वीडियो एक पत्रकार ने शेयर की और उसे जेल हो गई??    लेक़िन देश का विमान 5 दिन से गायब किसी को कुछ नही पता मीडिया धोनी के ग्लब्स मे घुसी है? मोदी घूम कर रहे है।    इसपे किसी ने कोई कार्यवाही नही की? यही है नामर्दो की सरकार।\n",
      "0\t1.00\tरामपुर में जया प्रदा की क्लास देखिये !! ये रील नहीं बल्कि रियल लाइफ का रोल है #SubahSubah (@k_navjyot )  अन्य वीडियो: http://bit.ly/at_videos \n",
      "0\t1.00\tNew India -:} देखिए इस मासूम बच्चे को 3/4 लोग मिलकर बेरहमी से पीट रहे है  न्यू इंडिया की तस्वीर देखिए पुराना भारत !!\n",
      "0\t1.00\tयह तो बहुत खतरनाक स्थिति है  लिंचिंग का बाप है   पत्थरबाज कैमरामैन को भी साथ रखते हैं लेकिन सेकुलर और गद्दार वीडियो को आजादी की अभिव्यक्ति है   क्या सुरक्षाबलों और पुलिस प्रशासन का अधिकार नहीं है ?  इन लोगों को सीधी गोली क्यों नहीं मारी जा रही है ?   सरकारें धैर्य की परीक्षा दे रही ??\n",
      "0\t1.00\t@aimim_national sirf musalmano ki party nhi hai,Kyu ki #Aurangabad me musalman majority me nahi hai balki minority me hai, aur waha janab @asadowaisi sahab ko dalito ne bhi vote diya hai Maha dalito ne bhi vote Diya hai pichdo ne bhi vote Diya hai aur #Hinduo ne bhi vote Diya hai\n",
      "0\t1.00\tदुनिया के 50 इमानदार लोगों की सूची में मनमोहन सिंह का नाम , काश बेइमान नेताओं की सूची बनती तो पूरी लिस्ट पर बीजेपी का कब्जा होता,\n",
      "0\t1.00\tआरक्षण ब्राह्मणों की वर्ण-व्यवस्था की देन है, जब तक जातिवाद रहेगा आरक्षण आबाद रहेगा।  जय भीम जय भारत\n",
      "0\t1.00\t.  दिल्ली में मूर्ति तोड़ने की बात थी.. वहां तो अपनी 'सेना' लेकर पहुंच गए थे.!  जहां एक 'जिन्दा' आदमी को तोड़ दिया गया,, वहां कब जाओगे.?    कोई नी...  ट्वीट कर दिए ना.. काम पूरा हुआ.!  जय भीम \n",
      "0\t1.00\t नाक टेढ़वा का चले तो देश को सीरिया बना दे मौलाना अखिलेसुद्दीन सिद्दीकी\n",
      "0\t1.00\tमोम की औक़ात ही क्या!  कोशिश करें तो पत्थर पिघलेगा.  तुम कितने आमिर लाओगे!  हर घर से कोहली निकलेगा.    ~ शाहरुख सिद्दीकी   #shahrukhsiddiqui @srspoet   #INDvPAK #INDvsPAK   #IndiaVsPakistan #CWC19\n",
      "0\t1.00\tआज हद ये है की कोई भडवा मुसलिमो को गाली दे रहा है,कोई मॉब इक्कठा करके कत्लो गारत गिरी कर रहा है,     कोई मर्यादा पुर्षोत्तम रामजी का नाम लेकर कुकृत्य कर रहा है और इसे राष्ट्रवाद का नाम दिया जा रहा है,,क्या हम हिंदु तालीबान बनाना चाह रहे है देश को,,\n",
      "0\t1.00\tमुल्लो के रखेल यही हिन्दु करता तो अब तक रोड पर उतरकर विरोध करती फिर लोकतंत्र खतरे मे पड़ जाता साली हरामी\n",
      "0\t1.00\tउत्तर प्रदेश में बेख़ौफ़ जुर्म करनेवाले।    घरवालों के सामने से उठा ले गए, दलित लड़की से 6 लोगों ने किया गैंगरेप?    अब देखना है कितने पत्रकारों का ज़मीर जागता है इस दलित लड़की को न्याय दिलवाने के लिए??\n",
      "0\t1.00\tदेश विरोधी बात करने वालों को पहले सरकार द्वारा सुरक्षा दी जाती थी। भारत विरोधी 4 बयान दे दिया तो तुरंत सुरक्षा दे दी जाती थी।    हमने 919 लोग, जिन्हें भारत विरोधी बयान देने के कारण सुरक्षा मिली थी, हमने उनकी सुरक्षा को हटाने का काम किया है: गृह मंत्री श्री @AmitShah\n",
      "0\t1.00\tमौसम साफ हो तो #कुत्ते भी #चौकीदारी बखूबी निभाते है, फिर भी लोग सो रहे है,  कही #बादल छा गये तो कुत्तों का भी #राडार काम नहीं करता,  #Bhaagtijantaparty\n",
      "0\t1.00\tदिल्ली की कई जगहों में सीवर वाला गंदा पानी आ रहा है, केजरीवाल जनता को बताएँ कि उन्होंने इस पर क्या क़दम उठाया- श्री @ManojTiwariMP\n",
      "0\t1.00\tये सब अबतक रंडी रोना चालू कर दिए होते।\n",
      "0\t1.00\tअबे दल्ली ममता कुलकर्णी नें भी धर्म कें लिए बॉलीवुड को छोड़ा था ,   उसके बारे में तो तुमने रंडी रोना नहीं रोया ' क्यों बे\n",
      "0\t1.00\tजबतक फांसी का प्रावधान नहीं लाएगी सरकार तबतक हमारे देश की बच्चियों के साथ यही होता रहेगा  और इन हत्यारे, बलात्कारियों के समर्थन में तिरंगा यात्रा निकालने वालों को भी साथ साथ फाँसी होनी चाहिए.  कानून बनाने से बनता है, हवाबाज़ी से सरकारें नहीं चलतीं हैं  #StopRape\n",
      "0\t1.00\tKuch ni sir... Ab talaq ka waqt aa gya...na ho tho likh lo... 23 k bad kbi b talaq ho skta h\n",
      "0\t1.00\tइस चुनाव में #भगवे की जीत हुई   और #भड़वे हार गए  #दिग्विजयसिंह  #कन्हैया_कुमार  #शत्रुघ्न_सिन्हा  #राज_बब्बर  #ज्योतिरादित्य_सिंधिया  ETC\n",
      "0\t1.00\tआने वाला एक बेहतरीन उत्तरप्रदेश आज के महाराष्ट्र के साथ!!  @ShaukatAli_77 @imtiaz_jaleel @bilaljaleel_ @syedKashaf95\n",
      "0\t1.00\tमरते हुए बच्चों पर चिंतन ना करके एक लोकतांत्रिक देश की संसद में जय श्री राम और अल्लाहु अकबर चिल्लाया जा रहा है।   वाक़ई देश बदल रहा है \n",
      "0\t1.00\t#Bihar के लोकप्रिय मुख्यमंत्री आदरणीय श्री @NitishKumar  जी द्वारा #CEC पर चुनाव के टाइमिंग और चरणों पर सवाल उठाने के साथ साथ #प्रज्ञा_ठाकुर  द्वारा बापु पर दिए गए व्यान को न केवल निंदा की बल्कि उन्हें भाजपा से पार्टी से निकालने की मांग उनके ईमानदारी,सुशासन की पहचान है।जय हो।\n",
      "0\t1.00\tअब की परिसिथिति में खुद की बुरी तरह फटंत के डर से जीजाजी की आंत, दांत, लुंड वगैरह में कैंसर हो गया है! पर डॉ मोदी और डॉ योगी १००%  पक्का और शर्तिया इलाज इल्म के माहिर हैं इसको पता नहीं है !!!\n",
      "0\t1.00\tक्योंकि वहा योगी हे यह सूअर हमारी बिरादरी का पर साला ढोंघी हे\n",
      "0\t1.00\tमतलब साफ है...#कुत्ते #कांग्रेसियों से बेहतर हैं।  ....  और देश ने एक काँग्रेसी को प्रधानमन्त्री बने से रोका।\n",
      "0\t1.00\tदेशभक्ति सिर्फ राममंदिर क्रिकेट और पाकिस्तान के खिलाफ ही काम आती है 12 हजार हर साल किसानों की आत्महत्या पर रोने वाला कोई नही,,,\n",
      "0\t1.00\tत्या मनोज राणेला काढून टाका म्हणावं मला पक्या समर्थक  म्हणाला तो आणि शिव्या दिल्या मी भडवा आहे म्हणून  माझी इज्जत काढतो का तो? आणि अपमान करतो?\n",
      "0\t1.00\tजब सत्ता बलात्कारी कुलदीप सैंगर को बचाने में दिन रात एक कर सकती है तो विपक्ष इमानदार डॉक्टर काफिल को क्यों नही बचा सकता ?\n",
      "0\t1.00\tमुसलमानों कि अम्मी का चूट सूअर मारे\n",
      "0\t1.00\tअच्छा न किया भाग्यविधाता ने तेरे साथ, बस रंडी रोना ही लिखा तेरे नसीब में \n",
      "0\t1.00\tअब गांड फ़टी तो    अमन और तहजीब की बाते करने लगे साले भड़वे हरामखोर\n",
      "0\t1.00\tनीति आयोग की रिपोर्ट सरकार को लज्जित करने वाली है कि जनस्वास्थ्य के मामले में यूपी देश का सबसे पिछड़ा राज्य है। तो फिर केन्द्र व यूपी में बीजेपी की सरकार होने पर ऐसी डबल इंजन वाली सरकार का क्या लाभ? ऐसा विकास करोड़ों जनता के किस काम का जिसमें उसका जीवन पूरी तरह से नरक बना हुआ है?\n",
      "0\t1.00\tरंडी रोना चालू हो गया होता प्रधानमंत्री जी खुद रोते विश्वास जीतना है उन्हें\n",
      "0\t1.00\tदेश का तिरंगा नीचे ।  भगवा झंडा तिरंगे से ऊपर ।    इस तस्वीर को देख कर आप खुद इनकी मानसिकता का अंदाज़ा लगा सकते है ।  @AbbasAliRushdi @kanhaiyakumar @AshrafFem @juhiesingh @LambaAlka\n",
      "0\t1.00\tतू हवा के रुख पर चाहतो के दीप जलाने कि जिद न कर  ये कतिलो का शहर है यहाँ मुस्कराने कीं जिद ना कर. #Lynchistaan #India  @KaranwalTanu  @Anjupra7743 @SHIVANI92_\n",
      "0\t1.00\tअबे चूतिया, तेरे जैसे झांटू मेरे यहां आज भी गोबर फेकते है , भैंस के तबेला में रहते रहते तू भी पाड़ा हो गया है.. जा दूध में पानी मिला अहीर बहीर कहिंका.. सही कहा गया है अहीरा सब का दिमाग घुटने में होता है..  हरामी खुद जातिगत टिप्पडी किया अब मुझे पाठ पढ़ा रहा अहीर बिलार..\n",
      "0\t1.00\tहरा हारने के लिए... और डायपर के लिए...  हमलोग तो बस हरे चीजों पे मूत-ते  है... पता लगाना है तो तुम भी आओ..तुमपे भी मूतेंगे.... हरी झंडी के साथ हरी रंडी.. दोनों पे मूतेंगे \n",
      "0\t1.00\tचल फुट गद्दार। साला खुद को Indian बोलता है और रंडी रोना सिर मुसलमानों के लिए मचाये रहता है। तेरे जात भाई तो जैसे सब दूध के धुले हैं, फरिश्ते हैं? भाग पाकिस्तानी।\n",
      "0\t1.00\tजिस देश में #कन्हैया_कुमार जैसा पढ़ा लिखा युवा हार जाए #आतंकवादी  जीत जाये  उस देश की जनता क्या ?\n"
     ]
    }
   ],
   "source": [
    "print('Truth Predicted Tweet')\n",
    "for x, y in zip(test_x, test_y):\n",
    "    y_hat = naive_bayes_predict(x, logprior, loglikelihood)\n",
    "    if y != (np.sign(y_hat) > 0):\n",
    "        print('%d\\t%0.2f\\t%s' % (y, np.sign(y_hat) > 0, x))"
   ]
  },
  {
   "cell_type": "code",
   "execution_count": 30,
   "id": "c08ad115-28d9-4e11-8458-d4a2b5071dbb",
   "metadata": {},
   "outputs": [
    {
     "name": "stdout",
     "output_type": "stream",
     "text": [
      "-5.118222114263541\n"
     ]
    }
   ],
   "source": [
    "my_tweet = 'अब जनता के प्राकृतिक ऑटोमैटिक #राइफल का बारूद #नसबन्दी करके बन्द करोगे,,तो फिर खिलौना #बन्दूक तो चलाएंगे ही।।।।  इब कुत्ते कर्म करोगे तो फेर #कुत्ते की मौत ही मरोगे    #तेरा बी टेम आग्या #KejriwalAssassinationClaim'\n",
    "p = naive_bayes_predict(my_tweet, logprior, loglikelihood)\n",
    "print(p)"
   ]
  },
  {
   "cell_type": "code",
   "execution_count": 29,
   "id": "36e32349-b4d5-4a0d-9d9d-e32e0c5b14ef",
   "metadata": {
    "tags": []
   },
   "outputs": [
    {
     "name": "stdout",
     "output_type": "stream",
     "text": [
      "0.7821279987669163\n"
     ]
    }
   ],
   "source": [
    "my_tweet = 'कितना अच्छा समुदाय है ये हमेशा गरीब लोगो के लिए भंडारा अरेंज करता है'\n",
    "p = naive_bayes_predict(my_tweet, logprior, loglikelihood)\n",
    "print(p)"
   ]
  },
  {
   "cell_type": "code",
   "execution_count": null,
   "id": "d949e3e6-6056-412a-b03c-94c270735ce0",
   "metadata": {},
   "outputs": [],
   "source": []
  },
  {
   "cell_type": "code",
   "execution_count": null,
   "id": "060830ee-6496-493c-ac49-e0fa1c36a133",
   "metadata": {},
   "outputs": [],
   "source": []
  }
 ],
 "metadata": {
  "kernelspec": {
   "display_name": "Python 3 (ipykernel)",
   "language": "python",
   "name": "python3"
  },
  "language_info": {
   "codemirror_mode": {
    "name": "ipython",
    "version": 3
   },
   "file_extension": ".py",
   "mimetype": "text/x-python",
   "name": "python",
   "nbconvert_exporter": "python",
   "pygments_lexer": "ipython3",
   "version": "3.10.4"
  }
 },
 "nbformat": 4,
 "nbformat_minor": 5
}
